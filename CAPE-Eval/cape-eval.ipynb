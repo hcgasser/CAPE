{
 "cells": [
  {
   "cell_type": "markdown",
   "id": "24f05363-7bdc-4b95-89e9-663ddcde7b1a",
   "metadata": {},
   "source": [
    "# Parameters"
   ]
  },
  {
   "cell_type": "code",
   "execution_count": null,
   "id": "5e83b0fe-bd61-4c3e-8c7e-b6c7f0f371da",
   "metadata": {},
   "outputs": [],
   "source": [
    "# specify which data to use\n",
    "domain = \"HIV_nef\"\n",
    "dataset_name = \"HIV_nef_full\"\n",
    "mhc_1_alleles = ['HLA-A*02:01', 'HLA-A*24:02', 'HLA-B*07:02', 'HLA-B*39:01', 'HLA-C*07:01', 'HLA-C*16:01']  \n",
    "\n",
    "# specify the CAPE-XVAE model\n",
    "XVAE_job = \"mlp_1606474\" \n",
    "\n",
    "#\n",
    "# specify the predictors\n",
    "#\n",
    "\n",
    "# Structure\n",
    "predictor_structure_name = \"AF\"  # ESM or AF\n",
    "\n",
    "# MHC Class 1\n",
    "predictor_mhc_1_class = 'Mhc1PredictorNetMhcPan'  # which presentation predictor to use to assessment of visibility\n",
    "predictor_mhc_1_limit = 2\n",
    "predictor_mhc_1_name = f\"{predictor_mhc_1_class}_{predictor_mhc_1_limit*100}\"\n",
    "predictor_mhc_1_save = False\n",
    "\n",
    "# Function\n",
    "predictor_function_name = 'TransFun'\n",
    "\n",
    "# specify what constitutes extreme cases\n",
    "vis_down_visibility_percentile = 0.005\n",
    "vis_up_visibility_percentile = 0.995\n",
    "\n",
    "\n",
    "#\n",
    "# Workflow management\n",
    "#\n",
    "\n",
    "create_DB = True\n",
    "update_DB = True\n",
    "save_figures = True\n",
    "\n",
    "run_MSA = False\n",
    "construct_tree = False\n",
    "\n",
    "random_seed = 19"
   ]
  },
  {
   "cell_type": "markdown",
   "id": "a1823203",
   "metadata": {},
   "source": [
    "# Imports"
   ]
  },
  {
   "cell_type": "code",
   "execution_count": null,
   "id": "11cfba22",
   "metadata": {},
   "outputs": [],
   "source": [
    "import importlib\n",
    "from dotenv import load_dotenv\n",
    "import os\n",
    "import sys\n",
    "\n",
    "load_dotenv()\n",
    "sys.path = [os.environ['PYTHONPATH']]+ sys.path"
   ]
  },
  {
   "cell_type": "code",
   "execution_count": null,
   "id": "ea8367c7",
   "metadata": {},
   "outputs": [],
   "source": [
    "import os\n",
    "import string\n",
    "import numpy as np\n",
    "import pandas as pd\n",
    "from tqdm.auto import tqdm\n",
    "import pickle\n",
    "from collections import defaultdict\n",
    "\n",
    "import matplotlib as mpl\n",
    "import matplotlib.pyplot as plt\n",
    "import seaborn as sns\n",
    "import glasbey\n",
    "\n",
    "from sklearn.naive_bayes import GaussianNB\n",
    "from sklearn.metrics import accuracy_score, classification_report, confusion_matrix\n",
    "from sklearn.manifold import TSNE, MDS\n",
    "from sklearn.pipeline import Pipeline\n",
    "from sklearn.preprocessing import StandardScaler, Normalizer\n",
    "from sklearn.decomposition import PCA\n",
    "\n",
    "import mdtraj as md"
   ]
  },
  {
   "cell_type": "code",
   "execution_count": null,
   "id": "117fa9cd-ccb2-4e61-b925-6e5746363b98",
   "metadata": {},
   "outputs": [],
   "source": [
    "import kit\n",
    "from kit.loch import seq_hashes_to_file\n",
    "from kit.loch.utils import get_seq_hash\n",
    "from kit.log import log_info\n",
    "import kit.globals as G\n",
    "from kit.path import join\n",
    "from kit.bioinf import get_kmers\n",
    "from kit.bioinf.sf import SequenceFrame\n",
    "from kit.bioinf.immuno.mhc_1 import Mhc1Predictor\n",
    "from kit.bioinf.fasta import read_fasta, seqs_to_fasta\n",
    "from kit.bioinf.alignment.sequence import PairwiseSequenceAligner, MultipleSequenceAligner\n",
    "from kit.data import DD, Split, str_to_file\n",
    "from kit.data.utils import set_df_cell_to_np, get_np_from_df_cell\n",
    "from kit.plot import plot_text, plot_legend_patches, plot_legend_scatter, rm_axes_elements\n",
    "from kit.maths import ttest"
   ]
  },
  {
   "cell_type": "code",
   "execution_count": null,
   "id": "4276235c",
   "metadata": {},
   "outputs": [],
   "source": [
    "from CAPE.Eval import CapeDB\n",
    "from CAPE.Eval.utils import pack_to_source_profile_step\n",
    "from CAPE.Eval.kmers import get_visible_mhc_1_peptides, get_metrics, add_metrics, add_precision_to_seq_kmers, calc_recall_metrics\n",
    "from CAPE.Eval.plot import set_palettes, set_markers, set_dashes, \\\n",
    "    plot_tsne_kde, plot_avg_dissimilarity_boxplots, plot_boxplots, plot_kmer_similarity, plot_kmer_similarity_box, plot_vs_visibility, \\\n",
    "    plot_seq_epitopes, plot_seq_precision_pie, plot_epitope_recall_by_seq, plot_seqs_precision_bar, \\\n",
    "    get_label_from_pack, plot_natural_vs_pack\n",
    "from CAPE.profiles import Profile\n",
    "from CAPE.datasets import FastaDS"
   ]
  },
  {
   "cell_type": "code",
   "execution_count": null,
   "id": "fd7438ae-a9f9-4aab-b0d4-627ca71be714",
   "metadata": {},
   "outputs": [],
   "source": [
    "np.random.seed(random_seed)\n",
    "\n",
    "vis_base = Profile.BASE\n",
    "vis_down = Profile.VIS_DOWN\n",
    "vis_up = Profile.VIS_UP\n",
    "vis_up_nat = Profile.VIS_UP_NAT\n",
    "vis_profiles = [vis_base, vis_down, vis_up, vis_up_nat]"
   ]
  },
  {
   "cell_type": "code",
   "execution_count": null,
   "id": "7064bbde",
   "metadata": {},
   "outputs": [],
   "source": [
    "# Enable LaTeX text rendering\n",
    "plt.rcParams['text.usetex'] = True"
   ]
  },
  {
   "cell_type": "code",
   "execution_count": null,
   "id": "d8923a61",
   "metadata": {},
   "outputs": [],
   "source": [
    "kit.init(\"CAPE\", \"CAPE-Eval\", create_job=False)\n",
    "G.DOMAIN = domain"
   ]
  },
  {
   "cell_type": "markdown",
   "id": "bd598257",
   "metadata": {},
   "source": [
    "# Constants"
   ]
  },
  {
   "cell_type": "code",
   "execution_count": null,
   "id": "c9c7f639",
   "metadata": {},
   "outputs": [],
   "source": [
    "model_checkpoint = f\"{XVAE_job}:last\"\n",
    "DHPARAMS_path = os.path.join(G.ENV.PROJECT, 'artefacts', 'CAPE-XVAE', 'jobs', XVAE_job, 'DHPARAMS.yaml')\n",
    "DHPARAMS = DD.from_yaml(DHPARAMS_path)"
   ]
  },
  {
   "cell_type": "code",
   "execution_count": null,
   "id": "21a95e76",
   "metadata": {},
   "outputs": [],
   "source": [
    "# TSNE\n",
    "TSNE_perplexity = 30\n",
    "TSNE_iter = 500\n",
    "tsne_rep_name = f\"tsne_{TSNE_perplexity}_{TSNE_iter}\"\n",
    "\n",
    "# PCA\n",
    "pca_rep_name = f\"pca\""
   ]
  },
  {
   "cell_type": "code",
   "execution_count": null,
   "id": "c3344042",
   "metadata": {},
   "outputs": [],
   "source": [
    "source_xvae = 'CAPE-XVAE'\n",
    "source_packer = 'CAPE-Packer'"
   ]
  },
  {
   "cell_type": "code",
   "execution_count": null,
   "id": "68063a91",
   "metadata": {},
   "outputs": [],
   "source": [
    "kmer_similarity_lengths = list(range(3,16))"
   ]
  },
  {
   "cell_type": "code",
   "execution_count": null,
   "id": "be9e79da",
   "metadata": {},
   "outputs": [],
   "source": [
    "open_gap_score = -20\n",
    "extend_gap_score = -10\n",
    "\n",
    "pairwise_sequence_aligner = PairwiseSequenceAligner(\n",
    "    substitution_matrix=\"BLOSUM62\", \n",
    "    open_gap_score=open_gap_score, \n",
    "    extend_gap_score=extend_gap_score, \n",
    "    wildcard=\"-\"\n",
    ")"
   ]
  },
  {
   "cell_type": "code",
   "execution_count": null,
   "id": "30899b00",
   "metadata": {},
   "outputs": [],
   "source": [
    "A4_width = 8.27\n",
    "A4_height = 11.69"
   ]
  },
  {
   "cell_type": "markdown",
   "id": "0991c3a4",
   "metadata": {},
   "source": [
    "# DB"
   ]
  },
  {
   "cell_type": "code",
   "execution_count": null,
   "id": "a36603a1",
   "metadata": {},
   "outputs": [],
   "source": [
    "db = CapeDB(join(G.ENV.ARTEFACTS, \"DBs\", \"CAPE-Eval.db\"), \n",
    "            G.DOMAIN, os.environ['LOCH'], \n",
    "            None, \n",
    "            predictor_structure_name,\n",
    "            predictor_function_name,\n",
    "            pairwise_sequence_aligner,\n",
    "            create_database=create_DB\n",
    "           )"
   ]
  },
  {
   "cell_type": "code",
   "execution_count": null,
   "id": "03aa8900-e720-4395-b8e4-f7f0f15755fc",
   "metadata": {},
   "outputs": [],
   "source": [
    "## Create packs\n",
    "\n",
    "if update_DB:\n",
    "    db.cursor.execute('''DELETE FROM packs''')\n",
    "    db.conn.commit()\n",
    "    \n",
    "    # Data\n",
    "    db.add_seq_hashes_as_pack(os.path.join(G.ENV.PROJECT, 'artefacts', 'CAPE', f'{G.DOMAIN}.data.TRAIN.seq_hash'))\n",
    "    db.add_seq_hashes_as_pack(os.path.join(G.ENV.PROJECT, 'artefacts', 'CAPE', f'{G.DOMAIN}.data.VAL.seq_hash'))\n",
    "    db.add_seq_hashes_as_pack(os.path.join(G.ENV.PROJECT, 'artefacts', 'CAPE', f'{G.DOMAIN}.data.TEST.seq_hash'))\n",
    "    \n",
    "    # Supports\n",
    "    db.add_seq_hashes_as_pack(os.path.join(G.ENV.PROJECT, 'artefacts', 'CAPE', f'{G.DOMAIN}.support.seq_hash'))\n",
    "  \n",
    "    # CAPE-XVAE\n",
    "    for profile in vis_profiles:\n",
    "        db.add_seq_hashes_as_pack(os.path.join(G.ENV.PROJECT, 'artefacts', 'CAPE-XVAE', f'{G.DOMAIN}.CAPE-XVAE.{profile}.final.seq_hash'))\n",
    "    \n",
    "    # CAPE-Packer\n",
    "    for profile in vis_profiles:\n",
    "        db.add_seq_hashes_as_pack(os.path.join(G.ENV.PROJECT, 'artefacts', 'CAPE-Packer', f'{G.DOMAIN}.CAPE-Packer.{profile}.final.seq_hash'))\n",
    "    \n",
    "    db.conn.commit()"
   ]
  },
  {
   "cell_type": "markdown",
   "id": "3c13785a",
   "metadata": {},
   "source": [
    "# Evaluation"
   ]
  },
  {
   "cell_type": "code",
   "execution_count": null,
   "id": "37cfbd4f-15cc-4d8d-91d0-d377c24adffa",
   "metadata": {},
   "outputs": [],
   "source": [
    "sql = f'''\n",
    "    SELECT p.pack, p.seq_hash, s.seq\n",
    "    FROM packs p LEFT JOIN sequences s ON p.seq_hash == s.seq_hash\n",
    "    WHERE p.domain == '{G.DOMAIN}' AND s.complete == 1\n",
    "'''\n",
    "df_eval = db.sql_to_df(sql).sort_values('seq_hash')\n",
    "print(f\"{len(df_eval)} evaluation entries\")"
   ]
  },
  {
   "cell_type": "markdown",
   "id": "1d4d26ae-d734-44bd-81bb-3ef0819e7785",
   "metadata": {},
   "source": [
    "## add source, profile, step"
   ]
  },
  {
   "cell_type": "code",
   "execution_count": null,
   "id": "f13a4df5-c624-4339-902b-3832f57e82ec",
   "metadata": {},
   "outputs": [],
   "source": [
    "df_eval['source'], df_eval['profile'], df_eval['step'] = None, None, None\n",
    "for idx, row in df_eval.iterrows():\n",
    "    source, profile, step = pack_to_source_profile_step(row.pack)\n",
    "\n",
    "    df_eval.at[idx, 'source'] = source\n",
    "    df_eval.at[idx, 'profile'] = profile\n",
    "    df_eval.at[idx, 'step'] = step\n",
    "\n",
    "N_Supports = len(df_eval.query(\"source == 'support'\"))\n",
    "print(N_Supports)"
   ]
  },
  {
   "cell_type": "markdown",
   "id": "ce93b417-d084-4b47-bbe5-fce8f26d7913",
   "metadata": {},
   "source": [
    "## add length"
   ]
  },
  {
   "cell_type": "code",
   "execution_count": null,
   "id": "95c67db5-7b56-47d7-a34b-cc440652b2ab",
   "metadata": {},
   "outputs": [],
   "source": [
    "df_eval['seq_length'] = df_eval.apply(lambda row: len(row.seq), axis=1)\n",
    "df_eval[['pack', 'seq_length']].groupby(['pack']).aggregate(['min', 'mean', 'max'])"
   ]
  },
  {
   "cell_type": "markdown",
   "id": "beb0476c-2035-493e-b89e-fe2e89dd3ac3",
   "metadata": {},
   "source": [
    "## add count to natural sequences"
   ]
  },
  {
   "cell_type": "code",
   "execution_count": null,
   "id": "31762e8d-1b75-4529-83c5-fac858135a40",
   "metadata": {},
   "outputs": [],
   "source": [
    "DHPARAMS = FastaDS.get_dhparams(dataset_name, None, True)\n",
    "datasets = {split: FastaDS(split,  os.path.join(os.environ['PF'], 'data', 'input'), DHPARAMS) for split in Split}"
   ]
  },
  {
   "cell_type": "code",
   "execution_count": null,
   "id": "f21db9d1-8ea8-4615-8052-2109efb773f8",
   "metadata": {},
   "outputs": [],
   "source": [
    "if df_eval.index.name is not None:\n",
    "    df_eval.reset_index(inplace=True)\n",
    "df_eval.set_index('seq_hash', inplace=True)\n",
    "\n",
    "df_eval['cnt'] = 0\n",
    "for split, ds in datasets.items():\n",
    "    if ds.df is not None:\n",
    "        for idx, row in ds.df.iterrows():\n",
    "            if row.complete:\n",
    "                seq_hash = get_seq_hash(idx)\n",
    "                df_eval.loc[seq_hash, 'cnt'] += row.cnt\n",
    "\n",
    "df_eval.reset_index(inplace=True)"
   ]
  },
  {
   "cell_type": "code",
   "execution_count": null,
   "id": "41240802-fd04-40b5-a937-6c764ece57bb",
   "metadata": {},
   "outputs": [],
   "source": [
    "df_eval['weight'] = df_eval['cnt']/df_eval.cnt.sum()"
   ]
  },
  {
   "cell_type": "markdown",
   "id": "70eb0254",
   "metadata": {},
   "source": [
    "## Immune Visibility"
   ]
  },
  {
   "cell_type": "markdown",
   "id": "9fac46f8",
   "metadata": {},
   "source": [
    "### Load Predictors"
   ]
  },
  {
   "cell_type": "code",
   "execution_count": null,
   "id": "692582ec-cf84-463d-a2cb-881f64e8c0a3",
   "metadata": {},
   "outputs": [],
   "source": [
    "predictor_mhc_1 = Mhc1Predictor.get_predictor(predictor_mhc_1_class)(\n",
    "    join(G.ENV.PROJECT, 'artefacts', 'immunology', 'netMHCpan', 'percentile'), \n",
    "    limit=predictor_mhc_1_limit/100,\n",
    "    mhc_1_alleles_to_load=mhc_1_alleles\n",
    ")"
   ]
  },
  {
   "cell_type": "markdown",
   "id": "c5f78c3a",
   "metadata": {},
   "source": [
    "### Predict Visibility"
   ]
  },
  {
   "cell_type": "code",
   "execution_count": null,
   "id": "fb2abc29",
   "metadata": {},
   "outputs": [],
   "source": [
    "db.predictors_mhc_1 = {predictor_mhc_1_name: predictor_mhc_1}"
   ]
  },
  {
   "cell_type": "code",
   "execution_count": null,
   "id": "21890b41-b70d-48ea-a7c5-c35f260dd498",
   "metadata": {},
   "outputs": [],
   "source": [
    "for mhc_1_allele in tqdm(mhc_1_alleles, desc=\"mhc_1_alleles\"):\n",
    "    db.add_mhc_1_presentations(predictor_mhc_1_name, mhc_1_allele)\n",
    "    db.conn.commit()"
   ]
  },
  {
   "cell_type": "code",
   "execution_count": null,
   "id": "e692ecb1",
   "metadata": {},
   "outputs": [],
   "source": [
    "if predictor_mhc_1_save:\n",
    "    predictor_mhc_1.save()"
   ]
  },
  {
   "cell_type": "code",
   "execution_count": null,
   "id": "c3330fff",
   "metadata": {},
   "outputs": [],
   "source": [
    "df_eval['visibility'] = None\n",
    "for idx, row in tqdm(df_eval.iterrows()):\n",
    "    df_eval.at[idx, 'visibility'] = db.get_visibility_mhc_1(predictor_mhc_1_name, mhc_1_alleles, row.seq_hash)\n",
    "df_eval['visibility'] = df_eval['visibility'].astype('float')"
   ]
  },
  {
   "cell_type": "code",
   "execution_count": null,
   "id": "fb41231c-a9f7-461f-ab9e-eedb0feec367",
   "metadata": {},
   "outputs": [],
   "source": [
    "df_natural = df_eval.query('source == \"natural\"')\n",
    "vis_down_visibility_threshold = np.percentile(df_natural.visibility, vis_down_visibility_percentile*100)\n",
    "vis_up_visibility_threshold = np.percentile(df_natural.visibility, vis_up_visibility_percentile*100)\n",
    "print(f\"{vis_down}_visibility_threshold: {vis_down_visibility_threshold}\")\n",
    "print(f\"{vis_up}_visibility_threshold: {vis_up_visibility_threshold}\")"
   ]
  },
  {
   "cell_type": "code",
   "execution_count": null,
   "id": "0ca932af-ce5c-4146-a22c-f8b0dae8036a",
   "metadata": {},
   "outputs": [],
   "source": [
    "df_eval[['pack', 'visibility']].groupby('pack').agg(['min', 'mean', 'max'])"
   ]
  },
  {
   "cell_type": "code",
   "execution_count": null,
   "id": "968669f3-070f-48ef-a72f-8c643298ea9f",
   "metadata": {},
   "outputs": [],
   "source": [
    "df_tmp = df_eval[['seq_hash', 'pack']].groupby('seq_hash').agg(list)\n",
    "df_tmp['len'] = df_tmp.apply(lambda row: len(row.pack), axis=1)\n",
    "df_tmp = df_tmp.query('len > 1')\n",
    "for seq_hash, row in df_tmp.iterrows():\n",
    "    for p in row.pack:\n",
    "        if p not in ['support', 'data.TRAIN', 'data.VAL', 'data.TEST']:\n",
    "            print(row)"
   ]
  },
  {
   "cell_type": "markdown",
   "id": "9d41b195-3af1-4471-8870-bdfb048016c5",
   "metadata": {},
   "source": [
    "## Similarity"
   ]
  },
  {
   "cell_type": "markdown",
   "id": "c2dd69f9-23c8-4c85-bf7c-e3014a9aa255",
   "metadata": {},
   "source": [
    "### Structure"
   ]
  },
  {
   "cell_type": "code",
   "execution_count": null,
   "id": "745928f9-cd87-454a-a315-6885c99e640d",
   "metadata": {},
   "outputs": [],
   "source": [
    "df_eval['max_TMscore_support_seq_hash'], df_eval['max_TMscore'], df_eval['max_TMscore_aligned_length'], df_eval['max_TMscore_rmsd'] = \\\n",
    "    \"\", None, None, None"
   ]
  },
  {
   "cell_type": "code",
   "execution_count": null,
   "id": "7b926628-04a3-447d-9780-297bd5b6918b",
   "metadata": {},
   "outputs": [],
   "source": [
    "packs_TMscore = [\n",
    "    ('support', False),\n",
    "       \n",
    "    (f'CAPE-XVAE.{vis_base}.final', True),\n",
    "    (f'CAPE-XVAE.{vis_down}.final', True),\n",
    "    (f'CAPE-XVAE.{vis_up}.final', True),\n",
    "    (f'CAPE-XVAE.{vis_up_nat}.final', True),\n",
    "    \n",
    "    (f'CAPE-Packer.{vis_base}.final', True),\n",
    "    (f'CAPE-Packer.{vis_down}.final', True),\n",
    "    (f'CAPE-Packer.{vis_up}.final', True)\n",
    "]"
   ]
  },
  {
   "cell_type": "code",
   "execution_count": null,
   "id": "1d81d389-69d8-4c88-bd11-21d158342dd2",
   "metadata": {},
   "outputs": [],
   "source": [
    "if df_eval.index.name is not None:\n",
    "    df_eval.reset_index(inplace=True)\n",
    "df_eval.set_index('seq_hash', inplace=True)\n",
    "for pack, self_match in packs_TMscore:\n",
    "    df = db.get_pack(pack)\n",
    "    cnt = 0\n",
    "    for _, row in tqdm(df.iterrows()):\n",
    "        seq_hash = row['seq_hash']\n",
    "        if os.path.exists(db.get_pdb_file_path(seq_hash)):\n",
    "            sequence = db.get_sequence(seq_hash=seq_hash)\n",
    "            max_TMscore_support_seq_hash, max_TMscore, max_TMscore_aligned_length, max_TMscore_rmsd = db.get_closest(sequence['seq'], self_match=self_match)\n",
    "    \n",
    "            df_eval.at[seq_hash, 'max_TMscore_support_seq_hash'] = max_TMscore_support_seq_hash\n",
    "            df_eval.at[seq_hash, 'max_TMscore'] = max_TMscore\n",
    "            df_eval.at[seq_hash, 'max_TMscore_aligned_length'] = max_TMscore_aligned_length\n",
    "            df_eval.at[seq_hash, 'max_TMscore_rmsd'] = max_TMscore_rmsd\n",
    "            cnt += 1\n",
    "    print(f\"{pack}: {cnt} aligned\")\n",
    "df_eval.reset_index(inplace=True)\n",
    "df_eval.max_TMscore = df_eval.max_TMscore.astype('float')\n",
    "\n",
    "print(f'len(df_eval): {len(df_eval)}')"
   ]
  },
  {
   "cell_type": "code",
   "execution_count": null,
   "id": "969e6452-0f4a-4bad-814c-721b3233f6b6",
   "metadata": {},
   "outputs": [],
   "source": [
    "print(f\"{'pack':40s} | {'mean':5} | {'std':5} | {'min':5} | {'max':5}\")\n",
    "\n",
    "for pack, _ in packs_TMscore:\n",
    "    mean = df_eval.query(f'pack == \"{pack}\"')['max_TMscore'].mean()\n",
    "    std = df_eval.query(f'pack == \"{pack}\"')['max_TMscore'].std()\n",
    "    min = df_eval.query(f'pack == \"{pack}\"')['max_TMscore'].min()\n",
    "    max = df_eval.query(f'pack == \"{pack}\"')['max_TMscore'].max()\n",
    "    print(f\"{pack:40s} | {mean:5.3f} | {std:5.3f} | {min:5.3f} | {max:5.3f}\")"
   ]
  },
  {
   "cell_type": "code",
   "execution_count": null,
   "id": "d255d68e-f614-48be-8c74-76deff5668f0",
   "metadata": {},
   "outputs": [],
   "source": [
    "print(f\"{'pack':40s} | {'mean':5} | {'std':5} | {'min':5} | {'max':5}\")\n",
    "\n",
    "for pack, _ in packs_TMscore:\n",
    "    mean = df_eval.query(f'pack == \"{pack}\"')['max_TMscore_aligned_length'].mean()\n",
    "    std = df_eval.query(f'pack == \"{pack}\"')['max_TMscore_aligned_length'].std()\n",
    "    min = df_eval.query(f'pack == \"{pack}\"')['max_TMscore_aligned_length'].min()\n",
    "    max = df_eval.query(f'pack == \"{pack}\"')['max_TMscore_aligned_length'].max()\n",
    "    print(f\"{pack:40s} | {mean:5.1f} | {std:5.1f} | {min:5.1f} | {max:5.1f}\")"
   ]
  },
  {
   "cell_type": "code",
   "execution_count": null,
   "id": "cdfcc2d1-5188-40a4-9c94-a1d8c5d49d4e",
   "metadata": {},
   "outputs": [],
   "source": [
    "print(f\"{'pack':40s} | {'mean':5} | {'std':5} | {'min':5} | {'max':5}\")\n",
    "\n",
    "for pack, _ in packs_TMscore:\n",
    "    mean = df_eval.query(f'pack == \"{pack}\"')['max_TMscore_rmsd'].mean()\n",
    "    std = df_eval.query(f'pack == \"{pack}\"')['max_TMscore_rmsd'].std()\n",
    "    min = df_eval.query(f'pack == \"{pack}\"')['max_TMscore_rmsd'].min()\n",
    "    max = df_eval.query(f'pack == \"{pack}\"')['max_TMscore_rmsd'].max()\n",
    "    print(f\"{pack:40s} | {mean:5.1f} | {std:5.1f} | {min:5.1f} | {max:5.1f}\")"
   ]
  },
  {
   "cell_type": "markdown",
   "id": "e86e322a-44a2-4312-ba20-27e8ce860f40",
   "metadata": {},
   "source": [
    "### Sequence"
   ]
  },
  {
   "cell_type": "markdown",
   "id": "03eb1300-1b38-4f75-bc2b-53d6b4619ebe",
   "metadata": {},
   "source": [
    "#### K-mers"
   ]
  },
  {
   "cell_type": "code",
   "execution_count": null,
   "id": "98ecdc42-a6f3-4b22-ab65-8a37a5101e2d",
   "metadata": {},
   "outputs": [],
   "source": [
    "natural_kmers_data_file_path = os.path.join(G.ENV.ARTEFACTS, f\"{G.DOMAIN}.kmers.natural.pickle\")\n",
    "if os.path.exists(natural_kmers_data_file_path):\n",
    "    with open(natural_kmers_data_file_path, \"rb\") as file:\n",
    "        natural_kmers_data = pickle.load(file)\n",
    "else:\n",
    "    natural_kmers_dict = {length: {} for length in kmer_similarity_lengths}\n",
    "    df_natural = df_eval.query('source == \"natural\"')\n",
    "    for idx, row in tqdm(df_natural.iterrows()):\n",
    "        for length in kmer_similarity_lengths:\n",
    "            kmers = get_kmers(row.seq, lengths=[length])\n",
    "            for kmer in kmers:\n",
    "                natural_kmers_dict[length][kmer] = natural_kmers_dict[length].get(kmer, 0) + 1\n",
    "\n",
    "    natural_kmers_data = {\n",
    "        'natural_kmers_dict': natural_kmers_dict,\n",
    "        'n_natural': len(df_natural)\n",
    "    }\n",
    "    with open(natural_kmers_data_file_path, \"wb\") as file:\n",
    "        pickle.dump(natural_kmers_data, file)\n",
    "\n",
    "natural_kmers_dict = natural_kmers_data['natural_kmers_dict']\n",
    "\n",
    "natural_kmers = set()\n",
    "natural_kmers.update(*[set(natural_kmers_dict[length].keys()) for length in kmer_similarity_lengths])\n",
    "print(f\"K-mer count: {len(natural_kmers):,}\")"
   ]
  },
  {
   "cell_type": "code",
   "execution_count": null,
   "id": "2774d732-51a5-482f-83c7-24d14d94879e",
   "metadata": {},
   "outputs": [],
   "source": [
    "df_eval[f'kmer_similarity'] = None\n",
    "for k in kmer_similarity_lengths:\n",
    "    df_eval[f'{k}mer_similarity'] = None\n",
    "\n",
    "\n",
    "a_len = np.max(kmer_similarity_lengths) + 1\n",
    "for idx, row in tqdm(df_eval.iterrows()):\n",
    "    natural_kmers_cnt, artificial_kmers_cnt = [0]*a_len, [0]*a_len\n",
    "\n",
    "    kmers = get_kmers(row.seq, lengths=kmer_similarity_lengths)\n",
    "    for kmer in kmers:\n",
    "        length = len(kmer)\n",
    "        if kmer in natural_kmers:\n",
    "            natural_kmers_cnt[length] += 1\n",
    "        else:\n",
    "            artificial_kmers_cnt[length] += 1\n",
    "                \n",
    "    df_eval.at[idx, 'kmer_similarity'] = np.sum(natural_kmers_cnt) / (np.sum(natural_kmers_cnt) + np.sum(artificial_kmers_cnt))\n",
    "    for k in kmer_similarity_lengths:\n",
    "        df_eval.at[idx, f'{k}mer_similarity'] = natural_kmers_cnt[k] / (natural_kmers_cnt[k] + artificial_kmers_cnt[k])\n",
    "    \n",
    "df_eval.kmer_similarity = df_eval.kmer_similarity.astype('float')\n",
    "for k in kmer_similarity_lengths:\n",
    "    df_eval[f'{k}mer_similarity'] = df_eval[f'{k}mer_similarity'].astype('float')"
   ]
  },
  {
   "cell_type": "markdown",
   "id": "5de411f9-7289-48e2-a331-a8c7233da631",
   "metadata": {},
   "source": [
    "#### recall/precision of visible peptides"
   ]
  },
  {
   "cell_type": "code",
   "execution_count": null,
   "id": "e6fa6f97-3abc-4458-b1d6-e98f12cfcc3f",
   "metadata": {},
   "outputs": [],
   "source": [
    "mhc_1_peptide_lengths=[8,9,10]\n",
    "\n",
    "mhc_1_peptide_lengths_col = \"+\".join([str(x) for x in mhc_1_peptide_lengths])\n",
    "seq_hashes_natural = sorted(list(set(df_eval.query(\"source == 'natural'\").seq_hash)))\n",
    "\n",
    "metrics = ['recall', 'precision']\n",
    "\n",
    "def f_metrics(d_visible: dict, seq_hash_proxy: str, seq_hash_target: str):\n",
    "    visible_proxy = d_visible[seq_hash_proxy]\n",
    "    visible_target = d_visible[seq_hash_target]\n",
    "    l_intersection = len(visible_proxy.intersection(visible_target))\n",
    "    recall = l_intersection / len(visible_target)\n",
    "    precision = l_intersection / len(visible_proxy)        \n",
    "    return recall, precision \n",
    "\n",
    "def P01(values):\n",
    "    return np.percentile(values, 0.1)\n",
    "\n",
    "def P05(values):\n",
    "    return np.percentile(values, 0.5)\n",
    "\n",
    "def P1(values):\n",
    "    return np.percentile(values, 1)\n",
    "\n",
    "def P5(values):\n",
    "    return np.percentile(values, 5)\n",
    "\n",
    "def P10(values):\n",
    "    return np.percentile(values, 10)\n",
    "\n",
    "functions = ['np.mean', 'np.median', 'np.min', 'P01', 'P05', 'P1', 'P5', 'P10']\n",
    "\n",
    "d_visible = get_visible_mhc_1_peptides(df_eval, predictor_mhc_1, mhc_1_alleles, mhc_1_peptide_lengths=mhc_1_peptide_lengths)"
   ]
  },
  {
   "cell_type": "code",
   "execution_count": null,
   "id": "b7b7e591-7973-4af5-b564-d0fb87a8304f",
   "metadata": {},
   "outputs": [],
   "source": [
    "if df_eval.index.name is not None:\n",
    "    df_eval.reset_index(inplace=True)\n",
    "\n",
    "d_cnt = df_eval.set_index('seq_hash').query(\"source == 'natural'\").cnt.to_dict()\n",
    "\n",
    "for metric in metrics:\n",
    "    for function in functions:\n",
    "        col = f\"{function}_{metric}_{mhc_1_peptide_lengths_col}\"\n",
    "        df_eval[col] = None\n",
    "\n",
    "results = np.zeros((np.sum(list(d_cnt.values())), len(metrics)))\n",
    "\n",
    "seq_hashes_proxy = list(df_eval.seq_hash)\n",
    "df_eval.set_index('seq_hash', inplace=True)\n",
    "for seq_hash_proxy in tqdm(seq_hashes_proxy):\n",
    "    j = 0\n",
    "    for seq_hash_target in seq_hashes_natural:\n",
    "        for _ in range(d_cnt[seq_hash_target]):\n",
    "            results[j, :] = f_metrics(d_visible, seq_hash_proxy, seq_hash_target)\n",
    "            j += 1\n",
    "\n",
    "    for m, metric in enumerate(metrics):\n",
    "        for function in functions:\n",
    "            function_name = function.split('.')[-1]\n",
    "            col = f\"{function_name}_{metric}_{mhc_1_peptide_lengths_col}\"\n",
    "            df_eval.loc[seq_hash_proxy, col] = eval(function)(results[:,m])\n",
    "\n",
    "df_eval.reset_index(inplace=True)"
   ]
  },
  {
   "cell_type": "markdown",
   "id": "0f9343ec-99fc-4d64-8687-4680d098a9fc",
   "metadata": {},
   "source": [
    "### Function"
   ]
  },
  {
   "cell_type": "code",
   "execution_count": null,
   "id": "3d0c82ee-dfa2-482e-9656-f3a38e43543d",
   "metadata": {},
   "outputs": [],
   "source": [
    "function_packs = ['support',\n",
    " 'CAPE-XVAE.baseline.final',\n",
    " 'CAPE-XVAE.reduced.final',\n",
    " 'CAPE-XVAE.increased.final',\n",
    " 'CAPE-XVAE.inc-nat.final',\n",
    " 'CAPE-Packer.baseline.final',\n",
    " 'CAPE-Packer.reduced.final',\n",
    " 'CAPE-Packer.increased.final'\n",
    "]\n",
    "\n",
    "function_seq_hashes = df_eval.query(f\"pack in {function_packs}\")[['seq_hash']].set_index('seq_hash')"
   ]
  },
  {
   "cell_type": "code",
   "execution_count": null,
   "id": "e3fec6d4-f7d6-48ba-b35c-96384e96dabf",
   "metadata": {},
   "outputs": [],
   "source": [
    "df_GO_vectors = {}\n",
    "\n",
    "for idx, row in tqdm(df_eval.iterrows()):\n",
    "    seq_hash = row.seq_hash\n",
    "    go_function_file_path = db.get_function_path(seq_hash)\n",
    "    if os.path.exists(go_function_file_path) and seq_hash not in df_GO_vectors:\n",
    "        df = pd.read_csv(go_function_file_path, sep=' ', names= ['structure', 'GO_term', 'score']).sort_values('GO_term').set_index('GO_term')\n",
    "        df = df[['score']].rename(columns={'score': seq_hash})\n",
    "        df_GO_vectors[seq_hash] = df\n",
    "\n",
    "df_GO_vectors = pd.concat(list(df_GO_vectors.values()), axis=1).transpose()\n",
    "df_GO_vectors.index.name='seq_hash'"
   ]
  },
  {
   "cell_type": "code",
   "execution_count": null,
   "id": "ad339f8f-ddc8-44ba-933f-865d70e19fe4",
   "metadata": {},
   "outputs": [],
   "source": [
    "df_GO_1 = df_eval.set_index('seq_hash')[['source', 'profile', 'step']].join(df_GO_vectors, how='left')\n",
    "print(df_GO_1.groupby(['source', 'profile', 'step'])[['GO:0000006']].count())"
   ]
  },
  {
   "cell_type": "code",
   "execution_count": null,
   "id": "92ae630f-9fd3-41d9-b847-e1f5a7f1bc9f",
   "metadata": {},
   "outputs": [],
   "source": [
    "df_GO = df_GO_1.query(\"not `GO:0000006`.isna()\").drop(columns=['source', 'profile', 'step']).copy().drop_duplicates()\n",
    "assert df_GO.index.is_unique"
   ]
  },
  {
   "cell_type": "code",
   "execution_count": null,
   "id": "7ee0c0b1-69df-4e59-9c5e-88d2e63bdc40",
   "metadata": {},
   "outputs": [],
   "source": [
    "df_GO = df_GO.join(function_seq_hashes, how='inner')"
   ]
  },
  {
   "cell_type": "code",
   "execution_count": null,
   "id": "682c80ce-8eed-4cf2-8aa7-8a10cf8c049b",
   "metadata": {},
   "outputs": [],
   "source": [
    "pipeline = Pipeline([\n",
    "    ('scaler', Normalizer()),  # Standardize the data\n",
    "    ('pca', PCA())  # Perform PCA\n",
    "])\n",
    "\n",
    "pipeline.fit(df_GO)\n",
    "print(pipeline['pca'].explained_variance_ratio_.round(2)[:20])"
   ]
  },
  {
   "cell_type": "code",
   "execution_count": null,
   "id": "c0eda278-e254-4e62-97ff-28e08a448ee8",
   "metadata": {},
   "outputs": [],
   "source": [
    "f\"{pipeline['pca'].explained_variance_ratio_[:2].sum():.2f}\""
   ]
  },
  {
   "cell_type": "code",
   "execution_count": null,
   "id": "329cbcf2-d9c6-4a91-811d-afdaa10a8c08",
   "metadata": {},
   "outputs": [],
   "source": [
    "tgt_explained = 0.99\n",
    "n_pca = [i for i, v in enumerate([pipeline['pca'].explained_variance_ratio_[:n].sum() for n in range(len(pipeline['pca'].explained_variance_ratio_))]) if v > tgt_explained][0]\n",
    "print(f\"First {n_pca} components, explaining {pipeline['pca'].explained_variance_ratio_[:n_pca].sum().round(4)} if variance\")"
   ]
  },
  {
   "cell_type": "code",
   "execution_count": null,
   "id": "b46990eb-2a84-4b60-8d26-8317347243c5",
   "metadata": {},
   "outputs": [],
   "source": [
    "transformed = pipeline.transform(df_GO)\n",
    "for d in range(n_pca):\n",
    "    df_GO[f'GO PCA {d+1}'] = transformed[:, d]"
   ]
  },
  {
   "cell_type": "code",
   "execution_count": null,
   "id": "a9ebae76-0a26-408c-9ecd-14ddb570a635",
   "metadata": {},
   "outputs": [],
   "source": [
    "if df_eval.index.name is not None:\n",
    "    df_eval.reset_index(inplace=True)\n",
    "df_eval.set_index('seq_hash', inplace=True)\n",
    "\n",
    "df_eval = df_eval.drop(columns=[c for c in df_eval.columns if c in [f'GO PCA {d+1}' for d in range(n_pca)]])\\\n",
    "    .join(df_GO[[f'GO PCA {d+1}' for d in range(n_pca)]], how='left')\n",
    "\n",
    "df_eval.reset_index(inplace=True)\n",
    "assert 'seq_hash' in df_eval.columns"
   ]
  },
  {
   "cell_type": "code",
   "execution_count": null,
   "id": "e3ef1933-9e4e-4ede-8835-c434ddc9246d",
   "metadata": {},
   "outputs": [],
   "source": [
    "def run_GaussianNB(packs, cnt=0):\n",
    "    #\n",
    "    # Data\n",
    "    #\n",
    "    nb_selection = f'source != \"natural\" and not `GO PCA 1`.isna()'\n",
    "    fun_nb_df = df_eval.query(nb_selection).copy()\n",
    "\n",
    "    if cnt > 0:\n",
    "        fun_nb_df.loc[(fun_nb_df.cnt <= cnt) & (fun_nb_df.pack == 'support'), 'pack'] = 'support_low_cnt'\n",
    "        for idx, p in enumerate(packs):\n",
    "            if p == 'support':\n",
    "                packs.insert(idx+1, 'support_low_cnt')\n",
    "\n",
    "    fun_nb_X = fun_nb_df[[f'GO PCA {d+1}' for d in range(n_pca)]]\n",
    "    fun_nb_y = pd.Categorical(fun_nb_df.pack)\n",
    "    X = fun_nb_X.copy()\n",
    "    y = fun_nb_y.copy()\n",
    "    \n",
    "    #\n",
    "    # Classifier\n",
    "    #\n",
    "    nb_classifier = GaussianNB()\n",
    "\n",
    "    # train\n",
    "    nb_classifier.fit(fun_nb_X, fun_nb_y.codes)\n",
    "    \n",
    "    # predict\n",
    "    y_pred = nb_classifier.predict(X)\n",
    "\n",
    "    # generate confusion matrix\n",
    "    cm = confusion_matrix(y.codes, y_pred, labels=range(len(y.categories)))\n",
    "\n",
    "    # format confusion matrix\n",
    "    p_cm = pd.DataFrame(cm, index=fun_nb_y.categories, columns=fun_nb_y.categories)\n",
    "    p_cm['sum'] = p_cm.sum(axis=1)\n",
    "    p_cm['pc'] = p_cm['support'] / p_cm['sum'] \n",
    "    print(p_cm[['pc', 'support', 'sum']])\n",
    "    \n",
    "    df_eval['func_nb_pred'] = None\n",
    "    for j, (idx, row) in enumerate(fun_nb_X.iterrows()):\n",
    "        df_eval.at[idx, 'func_nb_pred'] = y.categories[y_pred[j]]\n",
    "\n",
    "    for c in fun_nb_y.categories:\n",
    "        p_cm[f\"{c}_pc\"] = p_cm.apply(lambda row: f\"{100*row[c]/row['sum']:.0f}\\%\", axis=1) \n",
    "\n",
    "    #\n",
    "    # Latex output\n",
    "    #\n",
    "    print('\\n\\n')\n",
    "    text = ''\n",
    "    \n",
    "    for p in packs:\n",
    "        label = get_label_from_pack(p)\n",
    "        text += f\"& {label} \"\n",
    "    text += r\"\\\\\"\n",
    "    text += \"\\n\"\n",
    "    \n",
    "    for pack in packs:\n",
    "        if pack in p_cm:\n",
    "            row = p_cm.loc[pack]\n",
    "            label = get_label_from_pack(pack)\n",
    "            text += f\"{label} \"\n",
    "            for p in packs:\n",
    "                value = row[f'{p}_pc'] if f'{p}_pc' in row else \"0\\%\"\n",
    "                text += f\"& {value} \"\n",
    "            text += r\"\\\\\"\n",
    "            text += \"\\n\"\n",
    "    \n",
    "    print(text)"
   ]
  },
  {
   "cell_type": "code",
   "execution_count": null,
   "id": "4be4097e-982c-4f73-a166-8f967ff5c5e7",
   "metadata": {},
   "outputs": [],
   "source": [
    "run_GaussianNB(function_packs)"
   ]
  },
  {
   "cell_type": "code",
   "execution_count": null,
   "id": "9b562828-8ea6-4785-b195-893e77f29ff8",
   "metadata": {},
   "outputs": [],
   "source": [
    "run_GaussianNB([p[0] for p in packs_TMscore], 2)"
   ]
  },
  {
   "cell_type": "markdown",
   "id": "81d979d6",
   "metadata": {},
   "source": [
    "## Stability"
   ]
  },
  {
   "cell_type": "markdown",
   "id": "00e7348d-fc94-4ef8-a4b6-f9b27c02568b",
   "metadata": {},
   "source": [
    "### MD simulations"
   ]
  },
  {
   "cell_type": "code",
   "execution_count": null,
   "id": "1bed8052-b7f2-4253-a2b2-176c2cb87905",
   "metadata": {},
   "outputs": [],
   "source": [
    "md_param_hash = '675742'\n",
    "df_eval['md_rmsd'], df_eval['md_max_rmsd'], df_eval['md_rmsf'] = None, None, None"
   ]
  },
  {
   "cell_type": "code",
   "execution_count": null,
   "id": "d6f140d8-c98b-444f-8e1d-7ebba12c62f9",
   "metadata": {},
   "outputs": [],
   "source": [
    "if df_eval.index.name is not None:\n",
    "    df_eval.reset_index(inplace=True)\n",
    "df_eval.set_index('seq_hash', inplace=True)\n",
    "\n",
    "for seq_hash, row in df_eval.iterrows():\n",
    "    md_path = db.get_md_path(seq_hash, md_param_hash)\n",
    "    dcd_file_path = os.path.join(md_path, 'output_sub.dcd')\n",
    "    if os.path.exists(dcd_file_path):\n",
    "        print(seq_hash)\n",
    "\n",
    "        pdb_file_path = db.get_pdb_file_path(seq_hash)\n",
    "        structure = md.load(pdb_file_path)\n",
    "        topology = md.load_topology(pdb_file_path)\n",
    "        alpha_carbon_atoms = [atom.index for atom in topology.atoms if atom.name == 'CA']\n",
    "\n",
    "        # reduce the topology to its CA atoms\n",
    "        topology_sub = md.Topology()\n",
    "        chain = topology_sub.add_chain()\n",
    "        for r, _ in enumerate(alpha_carbon_atoms):\n",
    "            res = topology_sub.add_residue(topology.residue(r), chain)\n",
    "            topology_sub.add_atom(f\"CA{r}\", \"C\", res)\n",
    "        \n",
    "        trajectory = md.load_dcd(dcd_file_path, top=topology_sub)\n",
    "\n",
    "        rmsd = md.rmsd(trajectory, trajectory[0])\n",
    "        rmsf = md.rmsf(trajectory, trajectory[0])\n",
    "\n",
    "        df_eval.at[seq_hash, 'md_max_rmsd'] = rmsd.max()\n",
    "        set_df_cell_to_np(df_eval, seq_hash, 'md_rmsd', rmsd)\n",
    "        set_df_cell_to_np(df_eval, seq_hash, 'md_rmsf', rmsf)\n",
    "\n",
    "# np.frombuffer(rmsd.astype(np.dtype('float32')).tobytes(), dtype=np.dtype('float32'))\n",
    "\n",
    "df_eval.md_max_rmsd = df_eval.md_max_rmsd.astype('float')\n",
    "\n",
    "df_eval.reset_index(inplace=True)"
   ]
  },
  {
   "cell_type": "code",
   "execution_count": null,
   "id": "b652f5be-61ae-4597-ac40-80a4e0c6a89d",
   "metadata": {},
   "outputs": [],
   "source": [
    "df_eval.query(\"not md_rmsd.isnull()\")[['seq_hash', 'pack']].groupby('pack').count()"
   ]
  },
  {
   "cell_type": "markdown",
   "id": "d3e42d97",
   "metadata": {},
   "source": [
    "# Visualizations"
   ]
  },
  {
   "cell_type": "markdown",
   "id": "91cb5d92",
   "metadata": {},
   "source": [
    "## represent"
   ]
  },
  {
   "cell_type": "markdown",
   "id": "348064b6",
   "metadata": {},
   "source": [
    "### support representation"
   ]
  },
  {
   "cell_type": "code",
   "execution_count": null,
   "id": "0618eb39",
   "metadata": {},
   "outputs": [],
   "source": [
    "db.add_support_rep()"
   ]
  },
  {
   "cell_type": "markdown",
   "id": "4a7acd2b",
   "metadata": {},
   "source": [
    "### tSNE support representation"
   ]
  },
  {
   "cell_type": "code",
   "execution_count": null,
   "id": "2d0e093a",
   "metadata": {},
   "outputs": [],
   "source": [
    "tsne = TSNE(n_components=2, verbose=0, perplexity=TSNE_perplexity, n_iter=TSNE_iter)\n",
    "tsne_rep_base_hash = db.add_reduced_support_rep(df_eval, tsne_rep_name, tsne)\n",
    "df_TSNE = db.get_rep(tsne_rep_name, tsne_rep_base_hash).rename(columns={'rep_1': 't-SNE 1', 'rep_2': 't-SNE 2'})\n",
    "df_eval = df_eval[[c for c in df_eval.columns if c not in ['t-SNE 1', 't-SNE 2']]].join(df_TSNE, how='left', on='seq_hash')"
   ]
  },
  {
   "cell_type": "markdown",
   "id": "5e9d509a",
   "metadata": {},
   "source": [
    "### PCA support representation"
   ]
  },
  {
   "cell_type": "code",
   "execution_count": null,
   "id": "0551cddc",
   "metadata": {},
   "outputs": [],
   "source": [
    "pca = PCA(n_components=2)\n",
    "pca_rep_base_hash = db.add_reduced_support_rep(df_eval, pca_rep_name, pca)\n",
    "df_PCA = db.get_rep(pca_rep_name, pca_rep_base_hash).rename(columns={'rep_1': 'PCA 1', 'rep_2': 'PCA 2'})\n",
    "df_eval = df_eval[[c for c in df_eval.columns if c not in ['PCA 1', 'PCA 2']]].join(df_PCA, how='left', on='seq_hash')"
   ]
  },
  {
   "cell_type": "markdown",
   "id": "6e4725e0-72ec-4380-9ffd-2d868795a910",
   "metadata": {},
   "source": [
    "### Dissimilarities"
   ]
  },
  {
   "cell_type": "code",
   "execution_count": null,
   "id": "4a2ecd64-908a-452d-bfc6-a8d8e1e6f3c8",
   "metadata": {},
   "outputs": [],
   "source": [
    "dissimilarity_src_packs"
   ]
  },
  {
   "cell_type": "code",
   "execution_count": null,
   "id": "25cab60a-554d-463a-9358-76800d157328",
   "metadata": {},
   "outputs": [],
   "source": [
    "if df_eval.index.name is not None:\n",
    "    df_eval.reset_index(inplace=True)\n",
    "df_eval.set_index('seq_hash', inplace=True)\n",
    "\n",
    "\n",
    "dissimilarity_src_packs = [\n",
    "    # (source, [packs])\n",
    "    ('support', ['support']), \n",
    "    (source_xvae, [f\"{source_xvae}.{profile}.final\" for profile in vis_profiles]),\n",
    "    (source_packer, [f\"{source_packer}.{profile}.final\" for profile in vis_profiles]),\n",
    "]\n",
    "\n",
    "dissimilarity_tgt_packs = [\n",
    "    f'support',\n",
    "    f'{source_packer}.{vis_base}.final'\n",
    "]\n",
    "\n",
    "for pack_name in dissimilarity_tgt_packs:\n",
    "    column = f'avg_dissimilarity_{pack_name}'\n",
    "    df_eval[column] = None\n",
    "\n",
    "for src_pack in tqdm(dissimilarity_src_packs):\n",
    "    for pack_1_name in src_pack[1]:\n",
    "        df_pack_1 = db.get_pack(pack_1_name)\n",
    "        for pack_2_name in dissimilarity_tgt_packs:\n",
    "            column = f'avg_dissimilarity_{pack_2_name}'\n",
    "            df_pack_2 = db.get_pack(pack_2_name)\n",
    "            for _, row in df_pack_1.iterrows():\n",
    "                value = np.mean(pairwise_sequence_aligner.get_seq_to_seqs_dissimilarity(row.seq, df_pack_2.seq))\n",
    "                df_eval.at[row.seq_hash, column] = value\n",
    "\n",
    "df_eval.reset_index(inplace=True)"
   ]
  },
  {
   "cell_type": "markdown",
   "id": "b44967c8",
   "metadata": {},
   "source": [
    "## Plot"
   ]
  },
  {
   "cell_type": "code",
   "execution_count": null,
   "id": "d58b996d-5303-4dac-b01c-6befb05315fb",
   "metadata": {},
   "outputs": [],
   "source": [
    "import warnings\n",
    "warnings.filterwarnings(\"ignore\", category=FutureWarning)"
   ]
  },
  {
   "cell_type": "code",
   "execution_count": null,
   "id": "e2a0f9f0-de1a-4d2f-8c61-01d11eba0aac",
   "metadata": {},
   "outputs": [],
   "source": [
    "#color_palette = glasbey.create_palette(11, colorblind_safe=True)\n",
    "color_palette = glasbey.create_block_palette(\n",
    "    [1, # Data\n",
    "     5, # XVAE\n",
    "     5  # Packer\n",
    "     ],\n",
    "    colorblind_safe=True, \n",
    "    cvd_severity=60,\n",
    ")\n",
    "\n",
    "# color_palette = ['blue', 'yellow', 'red', 'orange', 'cyan', 'green', 'magenta', 'darkgoldenrod', 'darkcyan']\n",
    "# palette_name = 'colorblind' # 'tab20b'\n",
    "# color_palette = sns.color_palette(palette_name)\n",
    "\n",
    "sns.palplot(color_palette)\n",
    "\n",
    "color_palette = [np.array([0.82539682, 0.        , 0.53968261]),\n",
    " '#4d001a',\n",
    " '#8b0f0c',\n",
    " '#c52404',\n",
    " '#e26a25',\n",
    " '#ffaf46',\n",
    " '#002e66',\n",
    " '#0c4cb5',\n",
    " '#1d6bff',\n",
    " '#7a95ff',\n",
    " '#d6bfff']\n",
    "\n",
    "sns.palplot(color_palette)"
   ]
  },
  {
   "cell_type": "code",
   "execution_count": null,
   "id": "958529df-0138-4825-8368-5837b4b623e9",
   "metadata": {},
   "outputs": [],
   "source": [
    "palettes = {\n",
    "    'pack': {# Pack-name: Color\n",
    "        'support': color_palette[0],\n",
    "        'data.TRAIN': color_palette[0],\n",
    "        'data.VAL': color_palette[0],\n",
    "        'data.TEST': color_palette[0],\n",
    "\n",
    "        f'{source_xvae}.{vis_base}.final': color_palette[2],\n",
    "        f'{source_xvae}.{vis_down}.final': color_palette[3],     \n",
    "        f'{source_xvae}.{vis_up}.final': color_palette[4], \n",
    "        f'{source_xvae}.{vis_up_nat}.final': color_palette[5], \n",
    "\n",
    "        f'{source_packer}.{vis_base}.final': color_palette[7],\n",
    "        f'{source_packer}.{vis_down}.final': color_palette[8], \n",
    "        f'{source_packer}.{vis_up}.final': color_palette[9],\n",
    "        f'{source_packer}.{vis_up_nat}.final': color_palette[10]\n",
    "    },\n",
    "    'source': {\n",
    "        'support': color_palette[0],\n",
    "        'natural': color_palette[0],\n",
    "        source_xvae: color_palette[1],\n",
    "        source_packer: color_palette[6]\n",
    "    }    \n",
    "}\n",
    "set_palettes(palettes)"
   ]
  },
  {
   "cell_type": "code",
   "execution_count": null,
   "id": "a9b664d8-4ff0-45e4-859e-190d4e07071b",
   "metadata": {},
   "outputs": [],
   "source": [
    "styles = {vis_base: '+', \n",
    "          vis_down: '1', \n",
    "          vis_up: '2',\n",
    "          vis_up_nat: '3',\n",
    "         }\n",
    "\n",
    "markers = {\n",
    "    'pack': {      \n",
    "        'support': styles[vis_base],\n",
    "        'data.TRAIN': styles[vis_base],\n",
    "        'data.VAL': styles[vis_base],\n",
    "        'data.TEST': styles[vis_base],\n",
    "\n",
    "        f'{source_xvae}.{vis_base}.final': styles[vis_base],\n",
    "        f'{source_xvae}.{vis_down}.final': styles[vis_down],    \n",
    "        f'{source_xvae}.{vis_up}.final': styles[vis_up],\n",
    "        f'{source_xvae}.{vis_up_nat}.final': styles[vis_up_nat],\n",
    "\n",
    "        f'{source_packer}.{vis_base}.final': styles[vis_base],\n",
    "        f'{source_packer}.{vis_down}.final': styles[vis_down],\n",
    "        f'{source_packer}.{vis_up}.final': styles[vis_up],        \n",
    "        f'{source_packer}.{vis_up_nat}.final': styles[vis_up_nat],     \n",
    "    },\n",
    "    'source': {\n",
    "        'support': styles[vis_base],\n",
    "        'natural': styles[vis_base],\n",
    "        source_xvae: styles[vis_base],\n",
    "        source_packer: styles[vis_base],\n",
    "    }    \n",
    "}\n",
    "\n",
    "set_markers(markers)"
   ]
  },
  {
   "cell_type": "code",
   "execution_count": null,
   "id": "5ae29f98-8452-48bc-872f-986a6dd47ec2",
   "metadata": {},
   "outputs": [],
   "source": [
    "line_styles = {vis_base: 'solid', \n",
    "          vis_down: 'dotted', \n",
    "          vis_up: 'dashed',\n",
    "          vis_up_nat: 'dashdot'\n",
    "}\n",
    "\n",
    "dashes = {\n",
    "    'pack': {      \n",
    "        'support': line_styles[vis_base],\n",
    "        'data.TRAIN': line_styles[vis_base],\n",
    "        'data.VAL': line_styles[vis_base],\n",
    "        'data.TEST': line_styles[vis_base],\n",
    "\n",
    "        f'{source_xvae}.{vis_base}.final': line_styles[vis_base],\n",
    "        f'{source_xvae}.{vis_down}.final': line_styles[vis_down],    \n",
    "        f'{source_xvae}.{vis_up}.final': line_styles[vis_up],\n",
    "        f'{source_xvae}.{vis_up_nat}.final': line_styles[vis_up_nat],\n",
    "\n",
    "        f'{source_packer}.{vis_base}.final': line_styles[vis_base],\n",
    "        f'{source_packer}.{vis_down}.final': line_styles[vis_down],\n",
    "        f'{source_packer}.{vis_up}.final': line_styles[vis_up],        \n",
    "        f'{source_packer}.{vis_up_nat}.final': line_styles[vis_up_nat],        \n",
    "    },\n",
    "    'source': {\n",
    "        'support': line_styles[vis_base],\n",
    "        'natural': line_styles[vis_base],\n",
    "        source_xvae: line_styles[vis_base],\n",
    "        source_packer: line_styles[vis_base],\n",
    "    }    \n",
    "}\n",
    "\n",
    "set_dashes(dashes)"
   ]
  },
  {
   "cell_type": "markdown",
   "id": "383400c3-de2f-4a4a-a328-7f9931aa020c",
   "metadata": {},
   "source": [
    "### Figure A - Low-dimensional sequence space representation"
   ]
  },
  {
   "cell_type": "code",
   "execution_count": null,
   "id": "c9c71587-ca4a-4dfe-8c40-90f4bd5dc670",
   "metadata": {},
   "outputs": [],
   "source": [
    "font_scale=10/12\n",
    "fig = plt.figure(figsize=(A4_width, A4_height*4/5))\n",
    "all_axes = []\n",
    "gs = mpl.gridspec.GridSpec(3, 6, \n",
    "                           width_ratios=[1, 1, 1, 1, 1, 1], \n",
    "                           height_ratios=[2, 2, 2], \n",
    "                           wspace=0.2, hspace=0.2)\n",
    "\n",
    "for col, (header, directions) in enumerate([\n",
    "    (vis_base, [vis_base]),\n",
    "    (vis_down, [vis_down]),\n",
    "    (vis_up, [vis_up, vis_up_nat])\n",
    "]):\n",
    "    dots_packs_XVAE, dots_packs_Packer = [], []\n",
    "    for direction in directions:\n",
    "        step = 'final'\n",
    "        dots_packs_XVAE.append(f'{source_xvae}.{direction}.{step}')\n",
    "        dots_packs_Packer.append(f'{source_packer}.{direction}.final')\n",
    "    all_axes.append(plot_tsne_kde(header, df_eval, dots_packs_XVAE, gs[0, (2*col):(2*col+2)], font_scale=font_scale, xlim=(-60, 60), ylim=(-60, 60), rm_ylabel=(col > 0), rm_xlabel=True))\n",
    "    all_axes.append(plot_tsne_kde('', df_eval, dots_packs_Packer, gs[1, (2*col):(2*col+2)], font_scale=font_scale, xlim=(-60, 60), ylim=(-60, 60), rm_ylabel=(col > 0)))\n",
    "   \n",
    "all_axes.append(plot_avg_dissimilarity_boxplots(df_eval, \n",
    "                    dissimilarity_src_packs, dissimilarity_tgt_packs[:1], \n",
    "                    1500, gs[2,:3], font_scale=font_scale))\n",
    "all_axes.append(plot_avg_dissimilarity_boxplots(df_eval, \n",
    "                    dissimilarity_src_packs, dissimilarity_tgt_packs[1:], \n",
    "                    1500, gs[2,3:], font_scale=font_scale, show_ylabel=False))\n",
    "\n",
    "labels = [f'{c})' for c in string.ascii_lowercase]\n",
    "for i, ax in enumerate(all_axes):\n",
    "    ax.text(-0., 1.08, labels[i], transform=ax.transAxes,\n",
    "            fontsize=16*font_scale, fontweight='bold', va='top', ha='right') #, color='red')\n",
    "\n",
    "if save_figures:\n",
    "    fig.savefig(kit.path.join(G.ENV.ARTEFACTS, \"figures\", G.DOMAIN, f\"Figure_A.pdf\"), bbox_inches='tight')"
   ]
  },
  {
   "cell_type": "markdown",
   "id": "321db8bb-4e8b-46a0-9aa9-2b03001705c8",
   "metadata": {},
   "source": [
    "### Figure B - Visibility and Similarity"
   ]
  },
  {
   "cell_type": "code",
   "execution_count": null,
   "id": "0ced4086-c1cd-4591-b662-5c54131ac0df",
   "metadata": {},
   "outputs": [],
   "source": [
    "font_scale=9/12\n",
    "fig = plt.figure(figsize=(A4_width, A4_height*0.8))\n",
    "all_axes = []\n",
    "gs = mpl.gridspec.GridSpec(3, 6, \n",
    "                           width_ratios=[1, 1, 1, 1, 1, 1], \n",
    "                           height_ratios=[1, 1, 1], \n",
    "                           wspace=0.2, hspace=0.2)\n",
    "\n",
    "\n",
    "\n",
    "all_axes.append(plot_boxplots(\"Immune-visibility\", \n",
    "                              df_eval, \n",
    "                              \"visibility\", \n",
    "                              [\"natural\", source_xvae, source_packer], gs[0, :3], font_scale=font_scale, add_nat_mean_line=True))\n",
    "all_axes.append(plot_kmer_similarity(df_eval, [\n",
    "    \"support\", \n",
    "    f\"CAPE-XVAE.{vis_base}.final\", f\"CAPE-XVAE.{vis_down}.final\", f\"CAPE-XVAE.{vis_up}.final\", f\"CAPE-XVAE.{vis_up_nat}.final\",\n",
    "    f\"CAPE-Packer.{vis_base}.final\", f\"CAPE-Packer.{vis_down}.final\", f\"CAPE-Packer.{vis_up}.final\", f\"CAPE-Packer.{vis_up_nat}.final\"\n",
    "    ], kmer_similarity_lengths, gs[0, 3:], font_scale))\n",
    "\n",
    "all_axes.append(plot_kmer_similarity_box(df_eval, f\"{source_xvae}.{vis_down}.final\", kmer_similarity_lengths, 0.005, gs[1, :2], font_scale, title_rows=3))\n",
    "all_axes.append(plot_kmer_similarity_box(df_eval, f\"{source_xvae}.{vis_up}.final\", kmer_similarity_lengths, 0.005, gs[1, 2:4], font_scale, title_rows=3, rm_y_label=True))\n",
    "all_axes.append(plot_kmer_similarity_box(df_eval, f\"{source_xvae}.{vis_up_nat}.final\", kmer_similarity_lengths, 0.005, gs[1, 4:], font_scale, title_rows=3, rm_y_label=True))\n",
    "\n",
    "all_axes.append(plot_boxplots(\"TM Score\", \n",
    "                              df_eval.rename(columns={\"max_TMscore\": \"TMscore\"}), \n",
    "                              \"TMscore\", \n",
    "                              [\"support\", source_xvae, source_packer], gs[2, :], font_scale))\n",
    "\n",
    "labels = [f'{c})' for c in string.ascii_lowercase]\n",
    "for i, ax in enumerate(all_axes):\n",
    "    ax.text(-0., 1.08, labels[i], transform=ax.transAxes,\n",
    "            fontsize=16*font_scale, fontweight='bold', va='top', ha='right') #, color='red')\n",
    "\n",
    "if save_figures:\n",
    "    fig.savefig(kit.path.join(G.ENV.ARTEFACTS, \"figures\", G.DOMAIN, f\"Figure_B.pdf\"), bbox_inches='tight')"
   ]
  },
  {
   "cell_type": "code",
   "execution_count": null,
   "id": "1141910e-2e88-4f23-9ecc-27aa1817faa6",
   "metadata": {},
   "outputs": [],
   "source": [
    "df_eval.groupby(['source', 'profile'])['visibility'].agg(['mean'])"
   ]
  },
  {
   "cell_type": "markdown",
   "id": "13fd7125-9f35-449a-aaa4-2cbd126ec8c0",
   "metadata": {},
   "source": [
    "### Figure C - GO"
   ]
  },
  {
   "cell_type": "code",
   "execution_count": null,
   "id": "c671532e-9ac1-4bb1-aff0-21e2cab31535",
   "metadata": {},
   "outputs": [],
   "source": [
    "def t(l, a, b):\n",
    "    return np.array(l).reshape(a,b).transpose().reshape(-1)"
   ]
  },
  {
   "cell_type": "code",
   "execution_count": null,
   "id": "48c80b38-5de0-4a85-8621-a7ce4e9723d8",
   "metadata": {},
   "outputs": [],
   "source": [
    "models = [source_xvae, source_packer]\n",
    "profiles = [\n",
    "    [str(vis_base)], \n",
    "    [str(vis_down)], \n",
    "    [str(vis_up), str(vis_up_nat)]\n",
    "]\n",
    "\n",
    "fig = plt.figure(figsize=(A4_width, A4_height/2))\n",
    "gs = mpl.gridspec.GridSpec(2+len(models), 1+len(profiles),\n",
    "                           width_ratios=[1] + [10]*len(profiles), \n",
    "                           height_ratios=[1] + [10]*len(models) + [5], \n",
    "                           wspace=0.1, hspace=0.1)\n",
    "\n",
    "sharex = [None] * len(profiles)\n",
    "packs = []\n",
    "for i, model in enumerate(models):\n",
    "    sharey = None\n",
    "    for j, l_profiles in enumerate(profiles):\n",
    "        if i == 0:\n",
    "            text = \"/\".join(l_profiles)\n",
    "            ax = fig.add_subplot(gs[i,1+j])\n",
    "            plot_text(text, ax)\n",
    "\n",
    "        if j == 0:\n",
    "            ax = fig.add_subplot(gs[1+i,j])\n",
    "            plot_text(model, ax, rotation=90, y_pos=0.75)            \n",
    "        \n",
    "        ax = fig.add_subplot(gs[1+i,1+j], sharey=sharey, sharex=sharex[j])\n",
    "        ax.yaxis.set_label_position(\"right\")\n",
    "        df_support = df_eval.query(f'pack == \"support\"')\n",
    "        sns.scatterplot(ax=ax, data=df_support, x='GO PCA 1', y=\"GO PCA 2\", \n",
    "                        hue='pack', palette=palettes['pack'], style='pack', markers='o',\n",
    "                       linewidth=1, s=30)\n",
    "\n",
    "        for profile in l_profiles:\n",
    "            df_data = df_eval.query(f'(pack == \"{model}.{profile}.final\" or pack == \"{model}.{profile}.final\") and not `GO PCA 1`.isnull()')\n",
    "            packs += df_data.pack.unique().tolist()\n",
    "            sns.scatterplot(ax=ax, data=df_data, x='GO PCA 1', y=\"GO PCA 2\", \n",
    "                            hue='pack', palette=palettes['pack'], style='pack', markers=markers['pack'],\n",
    "                           linewidth=1, s=80)\n",
    "\n",
    "        if i != len(models)-1:\n",
    "            ax.set_xlabel('')\n",
    "\n",
    "        if i == 0:\n",
    "            sharex.append(ax)\n",
    "\n",
    "        if j != len(profiles)-1:\n",
    "            ax.set_ylabel('')\n",
    "        else:\n",
    "            sharey = ax\n",
    "\n",
    "        ax.set_xticklabels('')\n",
    "        ax.set_yticklabels('')\n",
    "        rm_axes_elements(ax, 'ticks')\n",
    "        ax.legend().set_visible(False)\n",
    "\n",
    "ax = fig.add_subplot(gs[-1,:])\n",
    "_labels = t(['support', ' ', ' ', ' '] + [get_label_from_pack(pack) for pack in packs] + [' '], 3, 4)\n",
    "_markers = t(['o', 'x', 'x', 'x'] + [markers['pack'][pack] for pack in packs] + ['x'], 3, 4)\n",
    "_colors = t([mpl.colors.to_hex(palettes['pack']['support']), 'white', 'white', 'white'] + [palettes['pack'][pack] for pack in packs] + ['white'], 3, 4)\n",
    "plot_legend_scatter(ax, _labels, _markers, _colors, ncol=4, loc='lower center', bbox_to_anchor=(0.5, 0), framealpha=1.0)\n",
    "rm_axes_elements(ax, 'plain')\n",
    "\n",
    "if save_figures:\n",
    "    fig.savefig(kit.path.join(G.ENV.ARTEFACTS, \"figures\", G.DOMAIN, f\"Figure_C.pdf\"), bbox_inches='tight')"
   ]
  },
  {
   "cell_type": "markdown",
   "id": "33fafac4-d440-4031-ab7c-1f1d5b6dce7b",
   "metadata": {},
   "source": [
    "### Figure D - dependence on visibility"
   ]
  },
  {
   "cell_type": "code",
   "execution_count": null,
   "id": "22741108-4487-4c58-b5b6-3b2aef98f227",
   "metadata": {},
   "outputs": [],
   "source": [
    "packs_vs_vis = [\n",
    "    f\"CAPE-XVAE.{vis_base}.final\", f\"CAPE-XVAE.{vis_down}.final\", f\"CAPE-XVAE.{vis_up}.final\", f\"CAPE-XVAE.{vis_up_nat}.final\",\n",
    "    f\"CAPE-Packer.{vis_base}.final\", f\"CAPE-Packer.{vis_down}.final\", f\"CAPE-Packer.{vis_up}.final\"\n",
    "]\n",
    "\n",
    "fig = plt.figure(figsize=(A4_width, A4_height*0.8))\n",
    "gs = mpl.gridspec.GridSpec(4, 2 + len(packs_vs_vis), \n",
    "                           width_ratios=[10, 1] + [1] * len(packs_vs_vis), height_ratios=[4,4,4,1],\n",
    "                           wspace=0., hspace=0.2)\n",
    "\n",
    "ax_sharex = plot_vs_visibility(df_eval, \"support\", packs_vs_vis, \"9mer_similarity\", \"9-mer similarity\", gs[0, :])\n",
    "plot_vs_visibility(df_eval, \"support\", packs_vs_vis, \"max_TMscore\", \"TM score\", gs[1, :], ax_sharex=ax_sharex)\n",
    "plot_vs_visibility(df_eval, \"support\", packs_vs_vis, \"md_max_rmsd\", \"max MD-RMSD\", gs[2, :], ax_sharex=ax_sharex, ylim=5., xlabel_boxplots=True)\n",
    "\n",
    "ax1 = plt.subplot(gs[3,0], sharex=ax_sharex)\n",
    "# ax1.set_title(\"Data visibility distribution\")\n",
    "sns.boxplot(ax=ax1, data=df_eval.query(\"source == 'natural'\"), x=\"visibility\", y=\"source\", palette=palettes['source'])\n",
    "ax1.set_ylabel('')\n",
    "\n",
    "if save_figures:\n",
    "    fig.savefig(kit.path.join(G.ENV.ARTEFACTS, \"figures\", G.DOMAIN, f\"Figure_D.pdf\"), bbox_inches='tight')"
   ]
  },
  {
   "cell_type": "markdown",
   "id": "ea6b5724-9c62-49c7-b208-d1d1dfd18783",
   "metadata": {},
   "source": [
    "### Figure E - Recall / Precision"
   ]
  },
  {
   "cell_type": "code",
   "execution_count": null,
   "id": "8a0f379e-58a6-4a7d-a90e-9068377c2d21",
   "metadata": {},
   "outputs": [],
   "source": [
    "fig = plt.figure(figsize=(A4_width, A4_height*0.3))\n",
    "gs = mpl.gridspec.GridSpec(1, 2, \n",
    "                           width_ratios=[1, 1], height_ratios=[1],\n",
    "                           wspace=0.1, hspace=0.)\n",
    "\n",
    "all_axes = []\n",
    "all_axes.append(plot_natural_vs_pack(df_eval, f\"{source_xvae}.inc-nat.final\", \n",
    "                                     \"mean\", 'precision', \"mean\", 'recall',mhc_1_peptide_lengths_col, \n",
    "                                     gs[0,0], xlim=0.35, ylim=0.35, position='left'))\n",
    "all_axes.append(plot_natural_vs_pack(df_eval, f\"{source_xvae}.inc-nat.final\", \n",
    "                                     \"mean\", 'precision', \"mean\", 'recall', mhc_1_peptide_lengths_col, \n",
    "                                     gs[0,1], vis_up_visibility_threshold, xlim=0.35, ylim=0.35))\n",
    "\n",
    "labels = [f'{c})' for c in string.ascii_lowercase]\n",
    "for i, ax in enumerate(all_axes):\n",
    "    ax.text(0, 1.2, labels[i], transform=ax.transAxes,\n",
    "            fontsize=16*font_scale, fontweight='bold', va='top', ha='right') \n",
    "\n",
    "fig.tight_layout()\n",
    "fig.savefig(kit.path.join(G.ENV.ARTEFACTS, \"figures\", G.DOMAIN, f\"Figure_E.pdf\"), bbox_inches='tight')"
   ]
  },
  {
   "cell_type": "code",
   "execution_count": null,
   "id": "303423dc-9f55-4ceb-8264-d31521ebaceb",
   "metadata": {},
   "outputs": [],
   "source": [
    "designed_pack = f\"{source_xvae}.{vis_up_nat}.final\"\n",
    "designed_mean = df_eval.query(f'pack == \"{designed_pack}\"')[f'mean_recall_{mhc_1_peptide_lengths_col}'].mean()\n",
    "natural_mean = df_eval.query(f'source == \"natural\"')[f'mean_recall_{mhc_1_peptide_lengths_col}'].mean()\n",
    "\n",
    "p_value = ttest(\n",
    "    df_eval.query(f'source == \"natural\"')[f'mean_recall_{mhc_1_peptide_lengths_col}'].astype(float), \n",
    "    df_eval.query(f'pack == \"{designed_pack}\"')[f'mean_recall_{mhc_1_peptide_lengths_col}'].astype(float))\n",
    "\n",
    "text = f\"The mean {designed_pack} recall value of {designed_mean:.3f} is \"\n",
    "text += f\"different from the natural mean of {natural_mean:.3f} \"\n",
    "text += f\"with a p value of {p_value} \"\n",
    "log_info(text)"
   ]
  },
  {
   "cell_type": "markdown",
   "id": "64c0e74d-6854-4dc6-b18d-1c7c54d9593d",
   "metadata": {},
   "source": [
    "### Figure F - Highest recall inc-nat sequence"
   ]
  },
  {
   "cell_type": "code",
   "execution_count": null,
   "id": "29968301-c603-49d6-8d97-796946c2960c",
   "metadata": {},
   "outputs": [],
   "source": [
    "def plot_vis_up_seqs(df_eval, d_df_selected, peptide_lengths_col, font_scale=1., bins=[0, 0.001, 0.01, 0.1, 0.5, 1.]):\n",
    "    fig = plt.figure(figsize=(A4_width, A4_height/2))\n",
    "    gs = mpl.gridspec.GridSpec(\n",
    "        1 + len(d_df_selected), \n",
    "        len(d_df_selected) + 1, \n",
    "        height_ratios=[2] + [1]*len(d_df_selected), \n",
    "        width_ratios=[1]*len(d_df_selected) + [1],\n",
    "        wspace=0.1, hspace=0.3)\n",
    "\n",
    "    all_axes = []\n",
    "    for idx, (source, df_selected) in enumerate(d_df_selected.items()):\n",
    "        ax = plot_seq_epitopes(gs[0, idx], df_selected, legend=(idx < 1), title=f\"{source}\\n\")\n",
    "        offset = -0.4 if idx == 0 else 0\n",
    "        all_axes.append((ax, offset))\n",
    "\n",
    "    ax = plot_seqs_precision_bar(gs[0, -1], d_df_selected, font_scale=0.6, kind='bar', bins=bins)\n",
    "    all_axes.append((ax, -0.05))\n",
    "\n",
    "    for idx, (source, df_selected) in enumerate(d_df_selected.items()):\n",
    "        ax = plot_epitope_recall_by_seq(\n",
    "            gs[1 + idx, :],  \n",
    "            df_eval.query(f'source == \"natural\" and seq_hash != \"{df_selected.seq_hash}\"'), \n",
    "            df_selected.seq_hash,\n",
    "            peptide_lengths_col\n",
    "        )\n",
    "        ax.set_xlim(0.0, 1.0)\n",
    "\n",
    "        if idx != 0:\n",
    "            ax.set_title('')\n",
    "        \n",
    "        if idx != (len(d_df_selected) - 1):\n",
    "            ax.set_xlabel('')\n",
    "            ax.set_xticklabels([])\n",
    "        ax.set_ylabel(f\"{source} recall in \\n{ax.get_ylabel()}\")\n",
    "        all_axes.append((ax, -0.13))\n",
    "\n",
    "    labels = [f'{c})' for c in string.ascii_lowercase]\n",
    "    for i, (ax, x_offset) in enumerate(all_axes):\n",
    "        ax.text(x_offset, 1.2, labels[i], transform=ax.transAxes,\n",
    "                fontsize=16*font_scale, fontweight='bold', va='top', ha='right') #, color='red')\n",
    "\n",
    "    return fig"
   ]
  },
  {
   "cell_type": "code",
   "execution_count": null,
   "id": "5c31dae8-7047-4a10-a413-cbc9defd724d",
   "metadata": {},
   "outputs": [],
   "source": [
    "XVAE_row = df_eval.loc[\n",
    "    df_eval.query(f\"pack == '{source_xvae}.{vis_up_nat}.final' and max_TMscore > 0.95\")[f'mean_recall_{mhc_1_peptide_lengths_col}'].idxmax()\n",
    "]\n",
    "df_selected_XVAE = predictor_mhc_1.get_seq_kmers(XVAE_row['seq'], mhc_1_alleles, 9)\n",
    "\n",
    "selected_row = XVAE_row\n",
    "df_selected = df_selected_XVAE\n",
    "df_selected_name = 'XVAE'"
   ]
  },
  {
   "cell_type": "code",
   "execution_count": null,
   "id": "23340a2e-7ac4-45bf-801d-9c7cf3853aba",
   "metadata": {},
   "outputs": [],
   "source": [
    "add_precision_to_seq_kmers(df_selected, natural_kmers_data, consider_one=True)\n",
    "log_info([selected_row.seq_hash,\n",
    "          selected_row.seq,\n",
    "          f\"visibility: {selected_row.visibility}\",\n",
    "          f\"Mean recall {selected_row[f'mean_recall_{mhc_1_peptide_lengths_col}']:.3f}\",\n",
    "          f\"P01: {selected_row[f'P01_recall_{mhc_1_peptide_lengths_col}']:.3f}\",\n",
    "          f\"P1: {selected_row[f'P1_recall_{mhc_1_peptide_lengths_col}']:.3f}\",\n",
    "          f\"P5: {selected_row[f'P5_recall_{mhc_1_peptide_lengths_col}']:.3f}\",\n",
    "          selected_row.max_TMscore,\n",
    "          selected_row.func_nb_pred\n",
    "         ])"
   ]
  },
  {
   "cell_type": "code",
   "execution_count": null,
   "id": "acf06fd1-6916-4996-b0ef-1ddc986d12be",
   "metadata": {},
   "outputs": [],
   "source": [
    "add_metrics(df_selected.seq_hash, df_eval, d_visible, mhc_1_peptide_lengths_col)\n",
    "fig = plot_vis_up_seqs(df_eval, {df_selected_name: df_selected}, mhc_1_peptide_lengths_col, bins=[0, 0.0000000000001, 0.001, 0.01, 0.1, 0.5, 1.])\n",
    "fig.savefig(kit.path.join(G.ENV.ARTEFACTS, \"figures\", G.DOMAIN, f\"Figure_F.pdf\"), bbox_inches='tight')"
   ]
  },
  {
   "cell_type": "markdown",
   "id": "067a98c0-aa58-4076-8780-c0c64c5a1cbe",
   "metadata": {},
   "source": [
    "### Figure G - phylogenetic Tree"
   ]
  },
  {
   "cell_type": "code",
   "execution_count": null,
   "id": "9a8c14dc-cdfb-4978-89cd-d34f7ff120e6",
   "metadata": {},
   "outputs": [],
   "source": [
    "    seq_hash_generated_maxTMscore = df_eval.loc[df_eval.query('source in [\"CAPE-XVAE\"]')['max_TMscore'].idxmax()].seq_hash\n",
    "    log_info(f\"Most similar generated XVAE sequence: {seq_hash_generated_maxTMscore}\")\n",
    "    seq_hash_incnat_maxTMscore = df_eval.loc[df_eval.query(f'pack in [\"{source_xvae}.{vis_up_nat}.final\"]')['max_TMscore'].idxmax()].seq_hash\n",
    "    log_info(f\"Most similar generated XVAE.inc-nat sequence: {seq_hash_incnat_maxTMscore}\")\n",
    "    seq_hash_reduce_maxTMscore = df_eval.loc[df_eval.query(f'pack in [\"{source_xvae}.{vis_down}.final\"]')['max_TMscore'].idxmax()].seq_hash\n",
    "    log_info(f\"Most similar generated XVAE.reduce sequence: {seq_hash_reduce_maxTMscore}\")"
   ]
  },
  {
   "cell_type": "code",
   "execution_count": null,
   "id": "64c55d66-9aa2-401b-b275-2800f2b09649",
   "metadata": {},
   "outputs": [],
   "source": [
    "def get_best_proxies(df_eval, sources=None, packs=None):\n",
    "    proxies = {}\n",
    "    if packs is not None:\n",
    "        for pack in packs:\n",
    "            row = df_eval.loc[df_eval.query(f'pack in [\"{pack}\"]')['max_TMscore'].idxmax()]\n",
    "            seq_hash = row.seq_hash\n",
    "            seq = row.seq\n",
    "            log_info(f\"Most similar {pack} sequence: {seq_hash}\")\n",
    "            proxies[pack] = {'seq_hash': seq_hash, 'seq': seq}\n",
    "\n",
    "    if sources is not None:\n",
    "        for source in sources:\n",
    "            row = df_eval.loc[df_eval.query(f'source in [\"{source}\"]')['max_TMscore'].idxmax()]\n",
    "            seq_hash = row.seq_hash\n",
    "            seq = row.seq\n",
    "            log_info(f\"Most similar {source} sequence: {seq_hash}\")\n",
    "            proxies[source] = {'seq_hash': seq_hash, 'seq': seq}\n",
    "\n",
    "    return proxies"
   ]
  },
  {
   "cell_type": "code",
   "execution_count": null,
   "id": "7b43dd78-1c93-4956-b882-30fee01e6e1e",
   "metadata": {},
   "outputs": [],
   "source": [
    "# https://itol.embl.de/\n",
    "if construct_tree:\n",
    "    min_occupancy = 0.8\n",
    "    \n",
    "    msa_phylo_packs = ['support']\n",
    "    \n",
    "    sf = SequenceFrame()\n",
    "    sf.from_seqs(list(df_eval.query(f\"\"\"pack in ['{\"', '\".join(msa_phylo_packs)}']\"\"\").seq))\n",
    "    \n",
    "    msa_phylo = MultipleSequenceAligner(sf, phylogenetic_tree_model_name = 'raxml')\n",
    "    # msa_phylo.msa_annotations = {}\n",
    "    # for seq_hash in sf.seq_hash:\n",
    "    #     recall_natural = df_eval.query(f\"seq_hash == '{seq_hash}'\").iloc[0][f'recall_{df_selected_natural.seq_hash}']\n",
    "    #     recall_XVAE = df_eval.query(f\"seq_hash == '{seq_hash}'\").iloc[0][f'recall_{df_selected_XVAE.seq_hash}']\n",
    "    #     precision_natural = df_eval.query(f\"seq_hash == '{seq_hash}'\").iloc[0][f'precision_{df_selected_natural.seq_hash}']\n",
    "    #     precision_XVAE = df_eval.query(f\"seq_hash == '{seq_hash}'\").iloc[0][f'precision_{df_selected_XVAE.seq_hash}']\n",
    "    #     msa_phylo.msa_annotations[seq_hash] = \\\n",
    "    #         f'_RECALL_natural_{recall_natural:.4f}_XVAE_{recall_XVAE:.4f}' + \\\n",
    "    #         f'_PRECISION_natural_{precision_natural:.4f}_XVAE_{precision_XVAE:.4f}'\n",
    "    \n",
    "    msa_phylo.align(msa_file_path=join(G.ENV.ARTEFACTS, 'phylo', G.DOMAIN, 'support.phy'))\n",
    "    \n",
    "    #msa_phylo.calculate_occupancy()\n",
    "    #msa_phylo.set_occupancy_threshold(min_occupancy)\n",
    "    msa_phylo.construct_phylogenetic_tree()\n",
    "\n",
    "\n",
    "    #\n",
    "    # generate annotation CSV\n",
    "    #\n",
    "\n",
    "    proxies = get_best_proxies(df_eval, sources=[source_xvae], packs=[f'{source_xvae}.{vis_up_nat}.final', f'{source_xvae}.{vis_down}.final'])\n",
    "    \n",
    "    seq_hashes_support = list(df_eval.query('source == \"support\"').seq_hash)\n",
    "\n",
    "    df_pr = pd.DataFrame(\n",
    "        index=seq_hashes_support, \n",
    "        columns=[f'{metric}_{seq_hash}' for seq_hash in seq_hashes_proxies for metric in ['recall', 'precision'] ]\n",
    "    )\n",
    "\n",
    "    for seq_hash_target in seq_hashes_support:\n",
    "        for proxy in proxies.values():\n",
    "            seq_hash_proxy = proxy['seq_hash']\n",
    "            recall, precision = f_metrics(d_visible, seq_hash_proxy, seq_hash_target)\n",
    "            df_pr.at[seq_hash_target, f\"recall_{seq_hash_proxy}\"] = recall\n",
    "            df_pr.at[seq_hash_target, f\"precision_{seq_hash_proxy}\"] = precision\n",
    "    \n",
    "    df_pr.to_csv(join(G.ENV.ARTEFACTS, 'phylo', G.DOMAIN, 'support_pr.tsv'), sep='\\t')\n",
    "    for seq_hash_proxy in seq_hashes_proxies:\n",
    "        df_pr[f'recall_{seq_hash_proxy}'].to_csv(join(G.ENV.ARTEFACTS, 'phylo', G.DOMAIN, f'support_{seq_hash_proxy}.tsv'), sep='\\t')\n",
    "\n",
    "\n",
    "    # construct a phylo tree from supports + a different designed sequence\n",
    "    for proxy_name, proxy in tqdm(proxies.items()):\n",
    "        seq_hash_proxy = proxy['seq_hash']\n",
    "        seq_proxy = proxy['seq']\n",
    "      \n",
    "        sf = SequenceFrame()\n",
    "        sf.from_seqs(list(df_eval.query(f\"\"\"pack in ['support']\"\"\").seq) + [seq_proxy])\n",
    "        msa_phylo = MultipleSequenceAligner(sf, phylogenetic_tree_model_name = 'raxml')\n",
    "        msa_phylo.align(msa_file_path=join(G.ENV.ARTEFACTS, 'phylo', G.DOMAIN, f'support_plus_{seq_hash_proxy}', f'support_plus_{seq_hash_proxy}.phy'))\n",
    "        msa_phylo.construct_phylogenetic_tree()"
   ]
  },
  {
   "cell_type": "markdown",
   "id": "e74d877b-bc78-4f2f-9ab8-f82d73fd31bb",
   "metadata": {},
   "source": [
    "# save df_for_eval"
   ]
  },
  {
   "cell_type": "code",
   "execution_count": null,
   "id": "6869efe4",
   "metadata": {},
   "outputs": [],
   "source": [
    "df_eval.to_csv(os.path.join(G.ENV.ARTEFACTS, \"df_eval.csv\"))"
   ]
  },
  {
   "cell_type": "markdown",
   "id": "c7d88a66",
   "metadata": {},
   "source": [
    "# Close DB"
   ]
  },
  {
   "cell_type": "code",
   "execution_count": null,
   "id": "23a8cd70",
   "metadata": {},
   "outputs": [],
   "source": [
    "db.conn.close()"
   ]
  },
  {
   "cell_type": "markdown",
   "id": "d9975b91",
   "metadata": {},
   "source": [
    "# pymol"
   ]
  },
  {
   "cell_type": "code",
   "execution_count": null,
   "id": "8ade9a1e",
   "metadata": {},
   "outputs": [],
   "source": [
    "import py3Dmol\n",
    "from CAPE.RL.reward import rewards_seqs"
   ]
  },
  {
   "cell_type": "code",
   "execution_count": null,
   "id": "cf1493a3",
   "metadata": {},
   "outputs": [],
   "source": [
    "seq_hash_support = df_eval.query(f\"source == 'support'\").seq_hash.iloc[0]\n",
    "print(f\"Suppoprt: {seq_hash_support}\")\n",
    "seq_hash_di = df_eval.sort_values(by=['visibility'], ascending=True).iloc[0].seq_hash\n",
    "print(f\"Suppoprt: {seq_hash_di}\")"
   ]
  },
  {
   "cell_type": "code",
   "execution_count": null,
   "id": "ebce0595",
   "metadata": {},
   "outputs": [],
   "source": [
    "def view_structure(seq_hash):\n",
    "    fasta_file_path = db.get_fasta_file_path(seq_hash)\n",
    "    pdb_file_path = db.get_pdb_file_path(seq_hash)\n",
    "    png_file_path = join(G.ENV.ARTEFACTS, 'rendered_structures', f\"{seq_hash}_{db.predictor_structure_name}.png\")\n",
    "   \n",
    "    with open(pdb_file_path) as ifile:\n",
    "        system = \"\".join([x for x in ifile])\n",
    "   \n",
    "    sequence = kit.bioinf.fasta.read_fasta(fasta_file_path, return_df=True).index[0]\n",
    "    rewards = rewards_seqs(db.predictors_mhc_1[predictor_mhc_1_name], [sequence], mhc_1_alleles, vis_up)[0].astype('int')\n",
    "\n",
    "    view = py3Dmol.view(width=800, height=800)\n",
    "    view.addModelsAsFrames(system)\n",
    "\n",
    "    colors = [\n",
    "        '#22FFFF',\n",
    "        '#44BBBB',\n",
    "        '#669999',\n",
    "        '#887777',\n",
    "        '#AA5555',\n",
    "        '#CC3333',\n",
    "        '#EE1111',\n",
    "    ]\n",
    "\n",
    "    i = 0\n",
    "    for line in system.split(\"\\n\"):\n",
    "        split = line.split()\n",
    "\n",
    "        if len(split) == 0 or split[0] != \"ATOM\":\n",
    "            continue\n",
    "\n",
    "        resid = int(split[5])\n",
    "        if rewards[resid-1] != 0:\n",
    "            color = colors[rewards[resid-1]]\n",
    "            idx = int(split[1])\n",
    "\n",
    "            view.setStyle({'model': -1, 'serial': i+1}, {\"sphere\": {'color': color}})\n",
    "        else:\n",
    "            view.setStyle({'model': -1, 'serial': i+1}, {\"cartoon\": {}})\n",
    "        i += 1\n",
    "\n",
    "    view.zoomTo()\n",
    "    view.show()\n",
    "    view.render(filename=png_file_path)\n",
    "    print(png_file_path)"
   ]
  },
  {
   "cell_type": "code",
   "execution_count": null,
   "id": "36ea6d23",
   "metadata": {},
   "outputs": [],
   "source": [
    "view_structure(seq_hash_support)"
   ]
  },
  {
   "cell_type": "code",
   "execution_count": null,
   "id": "8180491f",
   "metadata": {},
   "outputs": [],
   "source": [
    "view_structure(seq_hash_di)"
   ]
  },
  {
   "cell_type": "code",
   "execution_count": null,
   "id": "ddc852df-e490-473d-8ed6-7fe089006abe",
   "metadata": {},
   "outputs": [],
   "source": [
    "df_eval.info()"
   ]
  },
  {
   "cell_type": "markdown",
   "id": "246c4ac3-6623-4990-8520-d617dae791e6",
   "metadata": {},
   "source": [
    "# Test"
   ]
  },
  {
   "cell_type": "code",
   "execution_count": null,
   "id": "bcb45d79-8e91-4c06-8f54-d7e1c1a75fa1",
   "metadata": {},
   "outputs": [],
   "source": [
    "import random\n",
    "\n",
    "def random_substring(input_string, length):\n",
    "    if length > len(input_string):\n",
    "        raise ValueError(\"Length of substring cannot be greater than the length of the input string.\")\n",
    "    start_index = random.randint(0, len(input_string) - length)\n",
    "    return input_string[start_index:start_index + length]"
   ]
  },
  {
   "cell_type": "code",
   "execution_count": null,
   "id": "0ccf13f3-5b1b-4e01-afa1-9a29eaa2d30d",
   "metadata": {},
   "outputs": [],
   "source": [
    "seq_xvae = df_eval.query('source == \"CAPE-XVAE\"').sample().iloc[0].seq"
   ]
  },
  {
   "cell_type": "code",
   "execution_count": null,
   "id": "8a338336-0693-4a66-a4aa-60cbcfcd0a51",
   "metadata": {},
   "outputs": [],
   "source": [
    "res_9mers = []\n",
    "res_recall = []\n",
    "res_precision = []\n",
    "for _ in range(1000):\n",
    "    seq_xvae = df_eval.query('source == \"natural\"').sample().iloc[0].seq  # .query('pack == \"CAPE-XVAE.inc-nat.final\"').sample().iloc[0].seq\n",
    "    seq_natural = df_eval.query('source == \"natural\"').sample().iloc[0].seq\n",
    "\n",
    "    r = 0\n",
    "    for _ in range(30):\n",
    "        peptide = random_substring(seq_xvae, 9)\n",
    "        if peptide in seq_natural:\n",
    "            r += 1\n",
    "    res_9mers.append(r/30)\n",
    "\n",
    "    vis_xvae = set([x[0] for x in predictor_mhc_1.seq_presented(seq_xvae, mhc_1_alleles)])\n",
    "    vis_natural = set([x[0] for x in predictor_mhc_1.seq_presented(seq_natural, mhc_1_alleles)])\n",
    "\n",
    "    res_recall.append(len(vis_xvae.intersection(vis_natural))/len(vis_natural))\n",
    "    res_precision.append(len(vis_xvae.intersection(vis_natural))/len(vis_xvae))"
   ]
  },
  {
   "cell_type": "code",
   "execution_count": null,
   "id": "66377b98-6da8-4232-a496-cfd500deeadb",
   "metadata": {},
   "outputs": [],
   "source": [
    "np.mean(res)"
   ]
  },
  {
   "cell_type": "code",
   "execution_count": null,
   "id": "9779e3e4-ec1f-48ab-81ae-388f25c4c587",
   "metadata": {},
   "outputs": [],
   "source": [
    "np.mean(res_9mers)"
   ]
  },
  {
   "cell_type": "code",
   "execution_count": null,
   "id": "b5d89c07-eddf-455a-87b7-7bbee8d49990",
   "metadata": {},
   "outputs": [],
   "source": [
    "np.mean(res_9mers)"
   ]
  },
  {
   "cell_type": "code",
   "execution_count": null,
   "id": "3f615c85-edfe-4741-8627-715d5e705435",
   "metadata": {},
   "outputs": [],
   "source": [
    "np.mean(res_recall)"
   ]
  },
  {
   "cell_type": "code",
   "execution_count": null,
   "id": "e01c2e10-01f8-493d-8046-8fdaa306ddcd",
   "metadata": {},
   "outputs": [],
   "source": [
    "np.mean(res_precision)"
   ]
  },
  {
   "cell_type": "code",
   "execution_count": null,
   "id": "cb942a0f-a941-409a-b095-962a72b7229f",
   "metadata": {},
   "outputs": [],
   "source": [
    "list('abc')"
   ]
  },
  {
   "cell_type": "code",
   "execution_count": null,
   "id": "f2846ddc-eb54-4566-b746-f62dd1da06c9",
   "metadata": {},
   "outputs": [],
   "source": [
    "res_9mers"
   ]
  },
  {
   "cell_type": "code",
   "execution_count": null,
   "id": "15cd6407-efd9-47fd-9aa2-68dfcbc586f2",
   "metadata": {},
   "outputs": [],
   "source": []
  }
 ],
 "metadata": {
  "kernelspec": {
   "display_name": "Python 3 (ipykernel)",
   "language": "python",
   "name": "python3"
  },
  "language_info": {
   "codemirror_mode": {
    "name": "ipython",
    "version": 3
   },
   "file_extension": ".py",
   "mimetype": "text/x-python",
   "name": "python",
   "nbconvert_exporter": "python",
   "pygments_lexer": "ipython3",
   "version": "3.10.12"
  },
  "toc": {
   "base_numbering": 1,
   "nav_menu": {},
   "number_sections": true,
   "sideBar": true,
   "skip_h1_title": false,
   "title_cell": "Table of Contents",
   "title_sidebar": "Contents",
   "toc_cell": false,
   "toc_position": {
    "height": "calc(100% - 180px)",
    "left": "10px",
    "top": "150px",
    "width": "339px"
   },
   "toc_section_display": true,
   "toc_window_display": true
  }
 },
 "nbformat": 4,
 "nbformat_minor": 5
}
