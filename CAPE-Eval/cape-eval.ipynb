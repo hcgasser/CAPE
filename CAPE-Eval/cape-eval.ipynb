{
 "cells": [
  {
   "cell_type": "markdown",
   "id": "24f05363-7bdc-4b95-89e9-663ddcde7b1a",
   "metadata": {},
   "source": [
    "# Parameters"
   ]
  },
  {
   "cell_type": "code",
   "execution_count": 1,
   "id": "5e83b0fe-bd61-4c3e-8c7e-b6c7f0f371da",
   "metadata": {},
   "outputs": [],
   "source": [
    "domain = \"HIV_nef\"\n",
    "MHCs = ['HLA-A*02:01', 'HLA-A*24:02', 'HLA-B*07:02', 'HLA-B*39:01', 'HLA-C*07:01', 'HLA-C*16:01']  \n",
    "\n",
    "XVAE_job = \"mlp_1606474\"  # the CAPE-XVAE model\n",
    "\n",
    "predictor_structure_name = \"AF\"  # ESM or AF\n",
    "predictor_MHC_I_class = 'netMHCpan'  # which presentation predictor to use to assessment of visibility\n",
    "predictor_MHC_I_limit = 2\n",
    "predictor_MHC_I_name = f\"{predictor_MHC_I_class}_{predictor_MHC_I_limit*100}\"\n",
    "predictor_function_name = None\n",
    "\n",
    "deimmunize_visibility_percentile = 0.005\n",
    "immunize_visibility_percentile = 0.995\n",
    "\n",
    "create_DB = False\n",
    "update_DB = True\n",
    "save_figures = True\n",
    "\n",
    "run_MSA = False\n",
    "predictor_MHC_I_save = False"
   ]
  },
  {
   "cell_type": "markdown",
   "id": "a1823203",
   "metadata": {},
   "source": [
    "# Imports"
   ]
  },
  {
   "cell_type": "code",
   "execution_count": 2,
   "id": "00e360fb-3c9c-4145-b4fb-7931bbbcdc85",
   "metadata": {},
   "outputs": [],
   "source": [
    "import os"
   ]
  },
  {
   "cell_type": "code",
   "execution_count": 3,
   "id": "11cfba22",
   "metadata": {},
   "outputs": [],
   "source": [
    "import importlib\n",
    "from dotenv import load_dotenv\n",
    "import os\n",
    "import sys\n",
    "\n",
    "load_dotenv()\n",
    "sys.path = [os.environ['PYTHONPATH']]+ sys.path"
   ]
  },
  {
   "cell_type": "code",
   "execution_count": 4,
   "id": "ea8367c7",
   "metadata": {},
   "outputs": [
    {
     "name": "stderr",
     "output_type": "stream",
     "text": [
      "/home/tux/miniconda3/lib/python3.10/site-packages/tqdm/auto.py:21: TqdmWarning: IProgress not found. Please update jupyter and ipywidgets. See https://ipywidgets.readthedocs.io/en/stable/user_install.html\n",
      "  from .autonotebook import tqdm as notebook_tqdm\n"
     ]
    },
    {
     "name": "stdout",
     "output_type": "stream",
     "text": [
      "Load .env file\n"
     ]
    }
   ],
   "source": [
    "import kit\n",
    "from kit.log import log_info\n",
    "import kit.globals as G\n",
    "from kit.path import join\n",
    "from kit.bioinf import get_kmers\n",
    "from kit.bioinf.sf import SequenceFrame\n",
    "from kit.bioinf.mhc import get_predictor\n",
    "from kit.bioinf.fasta import read_fasta, seqs_to_fasta\n",
    "from kit.bioinf.alignment.sequence import PairwiseSequenceAligner, MultipleSequenceAligner\n",
    "from kit.data import DD, set_df_cell_to_np, get_np_from_df_cell, str_to_file\n",
    "\n",
    "import os\n",
    "import string\n",
    "import numpy as np\n",
    "import pandas as pd\n",
    "from tqdm.auto import tqdm\n",
    "import pickle\n",
    "from collections import defaultdict\n",
    "import matplotlib as mpl\n",
    "import matplotlib.pyplot as plt\n",
    "import seaborn as sns\n",
    "from sklearn.naive_bayes import GaussianNB\n",
    "from sklearn.metrics import accuracy_score, classification_report, confusion_matrix\n",
    "from sklearn.manifold import TSNE, MDS\n",
    "from sklearn.preprocessing import StandardScaler, Normalizer\n",
    "from sklearn.decomposition import PCA\n",
    "import mdtraj as md"
   ]
  },
  {
   "cell_type": "code",
   "execution_count": 5,
   "id": "434c316f-f808-4bdc-861e-c714308dad46",
   "metadata": {},
   "outputs": [],
   "source": [
    "from CAPE.utils import cp_translated_fastas_to_path"
   ]
  },
  {
   "cell_type": "code",
   "execution_count": 54,
   "id": "4276235c",
   "metadata": {},
   "outputs": [],
   "source": [
    "from CAPE.Eval import CapeDB\n",
    "from CAPE.Eval.utils import pack_to_source_task_step\n",
    "from CAPE.Eval.kmers import add_recall, add_precision, add_precision_to_seq_kmers, calc_recall_metrics\n",
    "from CAPE.Eval.plot import set_palettes, set_markers, \\\n",
    "    plot_TSNE_kde, plot_avg_dissimilarity_boxplots, plot_boxplots, plot_kmer_similarity, plot_kmer_similarity_box, plot_vs_visibility, \\\n",
    "    plot_seq_epitopes, plot_seq_precision_pie, plot_epitope_recall_by_seq, plot_seqs_precision_bar"
   ]
  },
  {
   "cell_type": "code",
   "execution_count": 7,
   "id": "7064bbde",
   "metadata": {},
   "outputs": [],
   "source": [
    "# Enable LaTeX text rendering\n",
    "plt.rcParams['text.usetex'] = True"
   ]
  },
  {
   "cell_type": "code",
   "execution_count": 8,
   "id": "d8923a61",
   "metadata": {},
   "outputs": [
    {
     "name": "stdout",
     "output_type": "stream",
     "text": [
      "Startup with args: Namespace(task='', job='AUTO', domain='d', env='py', device='cuda', debug=None) ENV.PROJECT: '/media/thoth/FILES/study/ed/PhD/projects/cape'\n",
      "2023-10-18 18:29:48:  WARNING: TASK NOT SPECIFIED\n",
      "2023-10-18 18:29:48:  Start CAPE-None-None on py using cuda\n",
      "2023-10-18 18:29:48:  G.ENV\n",
      "2023-10-18 18:29:48:  PROJECT   ... /media/thoth/FILES/study/ed/PhD/projects/cape\n",
      "2023-10-18 18:29:48:  ID        ... py\n",
      "2023-10-18 18:29:48:  KIT       ... /media/thoth/FILES/study/ed/PhD/projects/cape/artefacts/kit\n",
      "2023-10-18 18:29:48:  RAW       ... /media/thoth/FILES/study/ed/PhD/projects/cape/data/raw\n",
      "2023-10-18 18:29:48:  INPUT     ... /media/thoth/FILES/study/ed/PhD/projects/cape/data/input\n",
      "2023-10-18 18:29:48:  CONFIG    ... /media/thoth/FILES/study/ed/PhD/projects/cape/configs/CAPE-Eval\n",
      "2023-10-18 18:29:48:  ARTEFACTS ... /media/thoth/FILES/study/ed/PhD/projects/cape/artefacts/CAPE-Eval\n",
      "2023-10-18 18:29:48:  ARTEFACTS_SHARED... /media/thoth/FILES/study/ed/PhD/projects/cape/artefacts/CAPE-Eval\n",
      "2023-10-18 18:29:48:  JOBS      ... /media/thoth/FILES/study/ed/PhD/projects/cape/artefacts/CAPE-Eval/jobs\n",
      "2023-10-18 18:29:48:  JOB       ... None\n",
      "2023-10-18 18:29:48:  G.PROJECT_ENV\n",
      "2023-10-18 18:29:48:  PROJECT   ... /media/thoth/FILES/study/ed/PhD/projects/cape\n",
      "2023-10-18 18:29:48:  RAW       ... /media/thoth/FILES/study/ed/PhD/projects/cape/data/raw\n",
      "2023-10-18 18:29:48:  INPUT     ... /media/thoth/FILES/study/ed/PhD/projects/cape/data/input\n",
      "2023-10-18 18:29:48:  CONFIG    ... /media/thoth/FILES/study/ed/PhD/projects/cape/configs/CAPE\n",
      "2023-10-18 18:29:48:  ARTEFACTS ... /media/thoth/FILES/study/ed/PhD/projects/cape/artefacts/CAPE\n",
      "2023-10-18 18:29:48:  ARTEFACTS_SHARED... /media/thoth/FILES/study/ed/PhD/projects/cape/artefacts/CAPE\n",
      "2023-10-18 18:29:48:  Args: \n",
      "2023-10-18 18:29:48:    task= \n",
      "2023-10-18 18:29:48:    job=AUTO \n",
      "2023-10-18 18:29:48:    domain=d \n",
      "2023-10-18 18:29:48:    env=py \n",
      "2023-10-18 18:29:48:    device=cuda \n",
      "2023-10-18 18:29:48:    debug=None \n"
     ]
    }
   ],
   "source": [
    "kit.init(\"CAPE\", \"CAPE-Eval\", create_job=False)\n",
    "G.DOMAIN = domain"
   ]
  },
  {
   "cell_type": "markdown",
   "id": "bd598257",
   "metadata": {},
   "source": [
    "# Constants"
   ]
  },
  {
   "cell_type": "code",
   "execution_count": 9,
   "id": "c9c7f639",
   "metadata": {},
   "outputs": [],
   "source": [
    "model_checkpoint = f\"{XVAE_job}:last\"\n",
    "DHPARAMS_path = os.path.join(G.ENV.PROJECT, 'artefacts', 'CAPE-XVAE', 'jobs', XVAE_job, 'DHPARAMS.yaml')\n",
    "DHPARAMS = DD.from_yaml(DHPARAMS_path)"
   ]
  },
  {
   "cell_type": "code",
   "execution_count": 10,
   "id": "21a95e76",
   "metadata": {},
   "outputs": [],
   "source": [
    "directions = ['deimmunize', 'immunize']\n",
    "\n",
    "limit_PWM = 2\n",
    "limit_eval = 2\n",
    "limits = [0.5, 2]  # used for table generation with predictor_eval\n",
    "\n",
    "\n",
    "modparams_ = ['modparams']\n",
    "\n",
    "# TSNE\n",
    "TSNE_perplexity = 30\n",
    "TSNE_iter = 500\n",
    "tsne_rep_name = f\"tsne_{TSNE_perplexity}_{TSNE_iter}\"\n",
    "\n",
    "# MDS\n",
    "mds_rep_name = \"MDS\"\n",
    "\n",
    "# PCA\n",
    "pca_rep_name = f\"pca\""
   ]
  },
  {
   "cell_type": "code",
   "execution_count": 11,
   "id": "c3344042",
   "metadata": {},
   "outputs": [],
   "source": [
    "source_xvae = 'CAPE-XVAE'\n",
    "source_packer = 'CAPE-Packer'\n",
    "\n",
    "programs = [source_xvae, source_packer]\n",
    "profiles = ['baseline', 'deimmunize', 'immunize']\n",
    "steps = ['final', 'clean']"
   ]
  },
  {
   "cell_type": "code",
   "execution_count": 12,
   "id": "68063a91",
   "metadata": {},
   "outputs": [],
   "source": [
    "kmer_similarity_lengths = list(range(3,16))"
   ]
  },
  {
   "cell_type": "code",
   "execution_count": 13,
   "id": "be9e79da",
   "metadata": {},
   "outputs": [],
   "source": [
    "open_gap_score = -20\n",
    "extend_gap_score = -10\n",
    "\n",
    "pairwise_sequence_aligner = PairwiseSequenceAligner(\n",
    "    substitution_matrix=\"BLOSUM62\", \n",
    "    open_gap_score=open_gap_score, \n",
    "    extend_gap_score=extend_gap_score, \n",
    "    wildcard=\"-\"\n",
    ")"
   ]
  },
  {
   "cell_type": "code",
   "execution_count": 14,
   "id": "30899b00",
   "metadata": {},
   "outputs": [],
   "source": [
    "A4_width = 8.27\n",
    "A4_height = 11.69"
   ]
  },
  {
   "cell_type": "markdown",
   "id": "0991c3a4",
   "metadata": {},
   "source": [
    "# DB"
   ]
  },
  {
   "cell_type": "code",
   "execution_count": 15,
   "id": "a36603a1",
   "metadata": {},
   "outputs": [],
   "source": [
    "db = CapeDB(join(G.ENV.ARTEFACTS, \"DBs\", \"CAPE-Eval.db\"), \n",
    "            G.DOMAIN, os.environ['LOCH'], \n",
    "            None, \n",
    "            predictor_structure_name,\n",
    "            predictor_function_name,\n",
    "            pairwise_sequence_aligner,\n",
    "            create_database=create_DB\n",
    "           )"
   ]
  },
  {
   "cell_type": "code",
   "execution_count": 16,
   "id": "03aa8900-e720-4395-b8e4-f7f0f15755fc",
   "metadata": {},
   "outputs": [
    {
     "name": "stdout",
     "output_type": "stream",
     "text": [
      "data.TRAIN\n"
     ]
    },
    {
     "name": "stderr",
     "output_type": "stream",
     "text": [
      "100%|██████████████████████████████████████████████████████████████████████████████████████████████████████████████████████████████████| 24026/24026 [00:15<00:00, 1538.95it/s]\n"
     ]
    },
    {
     "name": "stdout",
     "output_type": "stream",
     "text": [
      "data.VAL\n"
     ]
    },
    {
     "name": "stderr",
     "output_type": "stream",
     "text": [
      "100%|████████████████████████████████████████████████████████████████████████████████████████████████████████████████████████████████████| 1334/1334 [00:00<00:00, 1576.20it/s]\n"
     ]
    },
    {
     "name": "stdout",
     "output_type": "stream",
     "text": [
      "data.TEST\n"
     ]
    },
    {
     "name": "stderr",
     "output_type": "stream",
     "text": [
      "100%|████████████████████████████████████████████████████████████████████████████████████████████████████████████████████████████████████| 1336/1336 [00:00<00:00, 1665.69it/s]\n"
     ]
    },
    {
     "name": "stdout",
     "output_type": "stream",
     "text": [
      "support\n"
     ]
    },
    {
     "name": "stderr",
     "output_type": "stream",
     "text": [
      "100%|██████████████████████████████████████████████████████████████████████████████████████████████████████████████████████████████████████| 300/300 [00:00<00:00, 2017.81it/s]\n"
     ]
    },
    {
     "name": "stdout",
     "output_type": "stream",
     "text": [
      "CAPE-XVAE.baseline.clean\n"
     ]
    },
    {
     "name": "stderr",
     "output_type": "stream",
     "text": [
      "100%|██████████████████████████████████████████████████████████████████████████████████████████████████████████████████████████████████████| 100/100 [00:00<00:00, 1523.89it/s]\n"
     ]
    },
    {
     "name": "stdout",
     "output_type": "stream",
     "text": [
      "CAPE-XVAE.deimmunize.final\n"
     ]
    },
    {
     "name": "stderr",
     "output_type": "stream",
     "text": [
      "100%|██████████████████████████████████████████████████████████████████████████████████████████████████████████████████████████████████████| 100/100 [00:00<00:00, 1510.00it/s]\n"
     ]
    },
    {
     "name": "stdout",
     "output_type": "stream",
     "text": [
      "CAPE-XVAE.immunize.final\n"
     ]
    },
    {
     "name": "stderr",
     "output_type": "stream",
     "text": [
      "100%|██████████████████████████████████████████████████████████████████████████████████████████████████████████████████████████████████████| 100/100 [00:00<00:00, 1569.17it/s]\n"
     ]
    },
    {
     "name": "stdout",
     "output_type": "stream",
     "text": [
      "CAPE-Packer.baseline.final\n"
     ]
    },
    {
     "name": "stderr",
     "output_type": "stream",
     "text": [
      "100%|██████████████████████████████████████████████████████████████████████████████████████████████████████████████████████████████████████| 300/300 [00:00<00:00, 1568.21it/s]\n"
     ]
    },
    {
     "name": "stdout",
     "output_type": "stream",
     "text": [
      "CAPE-Packer.deimmunize.final\n"
     ]
    },
    {
     "name": "stderr",
     "output_type": "stream",
     "text": [
      "100%|██████████████████████████████████████████████████████████████████████████████████████████████████████████████████████████████████████| 300/300 [00:00<00:00, 1543.56it/s]\n"
     ]
    },
    {
     "name": "stdout",
     "output_type": "stream",
     "text": [
      "CAPE-Packer.immunize.final\n"
     ]
    },
    {
     "name": "stderr",
     "output_type": "stream",
     "text": [
      "100%|██████████████████████████████████████████████████████████████████████████████████████████████████████████████████████████████████████| 300/300 [00:00<00:00, 1440.86it/s]\n"
     ]
    }
   ],
   "source": [
    "## Create packs\n",
    "\n",
    "if update_DB:\n",
    "    db.cursor.execute('''DELETE FROM packs''')\n",
    "    db.conn.commit()\n",
    "    \n",
    "    # Data\n",
    "    db.add_seq_hashes_as_pack(os.path.join(G.ENV.PROJECT, 'artefacts', 'CAPE', f'{G.DOMAIN}.data.TRAIN.seq_hash'))\n",
    "    db.add_seq_hashes_as_pack(os.path.join(G.ENV.PROJECT, 'artefacts', 'CAPE', f'{G.DOMAIN}.data.VAL.seq_hash'))\n",
    "    db.add_seq_hashes_as_pack(os.path.join(G.ENV.PROJECT, 'artefacts', 'CAPE', f'{G.DOMAIN}.data.TEST.seq_hash'))\n",
    "    \n",
    "    # Supports\n",
    "    db.add_seq_hashes_as_pack(os.path.join(G.ENV.PROJECT, 'artefacts', 'CAPE', f'{G.DOMAIN}.support.seq_hash'))\n",
    "  \n",
    "    # CAPE-XVAE\n",
    "    db.add_seq_hashes_as_pack(os.path.join(G.ENV.PROJECT, 'artefacts', 'CAPE-XVAE', f'{G.DOMAIN}.CAPE-XVAE.baseline.clean.seq_hash'))\n",
    "    db.add_seq_hashes_as_pack(os.path.join(G.ENV.PROJECT, 'artefacts', 'CAPE-XVAE', f'{G.DOMAIN}.CAPE-XVAE.deimmunize.final.seq_hash'))\n",
    "    db.add_seq_hashes_as_pack(os.path.join(G.ENV.PROJECT, 'artefacts', 'CAPE-XVAE', f'{G.DOMAIN}.CAPE-XVAE.immunize.final.seq_hash'))\n",
    "    \n",
    "    # CAPE-Packer\n",
    "    db.add_seq_hashes_as_pack(os.path.join(G.ENV.PROJECT, 'artefacts', 'CAPE-Packer', f'{G.DOMAIN}.CAPE-Packer.baseline.final.seq_hash'))\n",
    "    db.add_seq_hashes_as_pack(os.path.join(G.ENV.PROJECT, 'artefacts', 'CAPE-Packer', f'{G.DOMAIN}.CAPE-Packer.deimmunize.final.seq_hash'))\n",
    "    db.add_seq_hashes_as_pack(os.path.join(G.ENV.PROJECT, 'artefacts', 'CAPE-Packer', f'{G.DOMAIN}.CAPE-Packer.immunize.final.seq_hash'))\n",
    "    \n",
    "    db.conn.commit()"
   ]
  },
  {
   "cell_type": "markdown",
   "id": "3c13785a",
   "metadata": {},
   "source": [
    "# Evaluation"
   ]
  },
  {
   "cell_type": "code",
   "execution_count": 17,
   "id": "37cfbd4f-15cc-4d8d-91d0-d377c24adffa",
   "metadata": {},
   "outputs": [
    {
     "name": "stdout",
     "output_type": "stream",
     "text": [
      "25256 evaluation entries\n"
     ]
    }
   ],
   "source": [
    "sql = f'''\n",
    "    SELECT p.pack, p.seq_hash, s.seq\n",
    "    FROM packs p LEFT JOIN sequences s ON p.seq_hash == s.seq_hash\n",
    "    WHERE p.domain == '{G.DOMAIN}' AND s.complete == 1\n",
    "'''\n",
    "df_eval = db.sql_to_df(sql)\n",
    "print(f\"{len(df_eval)} evaluation entries\")"
   ]
  },
  {
   "cell_type": "code",
   "execution_count": 18,
   "id": "f13a4df5-c624-4339-902b-3832f57e82ec",
   "metadata": {},
   "outputs": [
    {
     "name": "stdout",
     "output_type": "stream",
     "text": [
      "300\n"
     ]
    }
   ],
   "source": [
    "df_eval['source'], df_eval['task'], df_eval['step'] = None, None, None\n",
    "for idx, row in df_eval.iterrows():\n",
    "    source, task, step = pack_to_source_task_step(row.pack)\n",
    "\n",
    "    df_eval.at[idx, 'source'] = source\n",
    "    df_eval.at[idx, 'task'] = task\n",
    "    df_eval.at[idx, 'step'] = step\n",
    "\n",
    "N_Supports = len(df_eval.query(\"source == 'support'\"))\n",
    "print(N_Supports)"
   ]
  },
  {
   "cell_type": "code",
   "execution_count": 19,
   "id": "95c67db5-7b56-47d7-a34b-cc440652b2ab",
   "metadata": {},
   "outputs": [
    {
     "data": {
      "text/html": [
       "<div>\n",
       "<style scoped>\n",
       "    .dataframe tbody tr th:only-of-type {\n",
       "        vertical-align: middle;\n",
       "    }\n",
       "\n",
       "    .dataframe tbody tr th {\n",
       "        vertical-align: top;\n",
       "    }\n",
       "\n",
       "    .dataframe thead tr th {\n",
       "        text-align: left;\n",
       "    }\n",
       "\n",
       "    .dataframe thead tr:last-of-type th {\n",
       "        text-align: right;\n",
       "    }\n",
       "</style>\n",
       "<table border=\"1\" class=\"dataframe\">\n",
       "  <thead>\n",
       "    <tr>\n",
       "      <th></th>\n",
       "      <th colspan=\"3\" halign=\"left\">seq_length</th>\n",
       "    </tr>\n",
       "    <tr>\n",
       "      <th></th>\n",
       "      <th>min</th>\n",
       "      <th>mean</th>\n",
       "      <th>max</th>\n",
       "    </tr>\n",
       "    <tr>\n",
       "      <th>pack</th>\n",
       "      <th></th>\n",
       "      <th></th>\n",
       "      <th></th>\n",
       "    </tr>\n",
       "  </thead>\n",
       "  <tbody>\n",
       "    <tr>\n",
       "      <th>CAPE-Packer.baseline.final</th>\n",
       "      <td>200</td>\n",
       "      <td>207.556667</td>\n",
       "      <td>218</td>\n",
       "    </tr>\n",
       "    <tr>\n",
       "      <th>CAPE-Packer.deimmunize.final</th>\n",
       "      <td>200</td>\n",
       "      <td>207.556667</td>\n",
       "      <td>218</td>\n",
       "    </tr>\n",
       "    <tr>\n",
       "      <th>CAPE-Packer.immunize.final</th>\n",
       "      <td>200</td>\n",
       "      <td>207.556667</td>\n",
       "      <td>218</td>\n",
       "    </tr>\n",
       "    <tr>\n",
       "      <th>CAPE-XVAE.baseline.clean</th>\n",
       "      <td>201</td>\n",
       "      <td>206.960000</td>\n",
       "      <td>217</td>\n",
       "    </tr>\n",
       "    <tr>\n",
       "      <th>CAPE-XVAE.deimmunize.final</th>\n",
       "      <td>206</td>\n",
       "      <td>215.680000</td>\n",
       "      <td>218</td>\n",
       "    </tr>\n",
       "    <tr>\n",
       "      <th>CAPE-XVAE.immunize.final</th>\n",
       "      <td>208</td>\n",
       "      <td>216.190000</td>\n",
       "      <td>218</td>\n",
       "    </tr>\n",
       "    <tr>\n",
       "      <th>data.TEST</th>\n",
       "      <td>200</td>\n",
       "      <td>207.665265</td>\n",
       "      <td>218</td>\n",
       "    </tr>\n",
       "    <tr>\n",
       "      <th>data.TRAIN</th>\n",
       "      <td>200</td>\n",
       "      <td>207.740294</td>\n",
       "      <td>218</td>\n",
       "    </tr>\n",
       "    <tr>\n",
       "      <th>data.VAL</th>\n",
       "      <td>200</td>\n",
       "      <td>207.899075</td>\n",
       "      <td>218</td>\n",
       "    </tr>\n",
       "    <tr>\n",
       "      <th>support</th>\n",
       "      <td>200</td>\n",
       "      <td>207.556667</td>\n",
       "      <td>218</td>\n",
       "    </tr>\n",
       "  </tbody>\n",
       "</table>\n",
       "</div>"
      ],
      "text/plain": [
       "                             seq_length                 \n",
       "                                    min        mean  max\n",
       "pack                                                    \n",
       "CAPE-Packer.baseline.final          200  207.556667  218\n",
       "CAPE-Packer.deimmunize.final        200  207.556667  218\n",
       "CAPE-Packer.immunize.final          200  207.556667  218\n",
       "CAPE-XVAE.baseline.clean            201  206.960000  217\n",
       "CAPE-XVAE.deimmunize.final          206  215.680000  218\n",
       "CAPE-XVAE.immunize.final            208  216.190000  218\n",
       "data.TEST                           200  207.665265  218\n",
       "data.TRAIN                          200  207.740294  218\n",
       "data.VAL                            200  207.899075  218\n",
       "support                             200  207.556667  218"
      ]
     },
     "execution_count": 19,
     "metadata": {},
     "output_type": "execute_result"
    }
   ],
   "source": [
    "df_eval['seq_length'] = df_eval.apply(lambda row: len(row.seq), axis=1)\n",
    "df_eval[['pack', 'seq_length']].groupby(['pack']).aggregate(['min', 'mean', 'max'])"
   ]
  },
  {
   "cell_type": "markdown",
   "id": "70eb0254",
   "metadata": {},
   "source": [
    "## Immune Visibility"
   ]
  },
  {
   "cell_type": "markdown",
   "id": "9fac46f8",
   "metadata": {},
   "source": [
    "### Load Predictors"
   ]
  },
  {
   "cell_type": "code",
   "execution_count": 20,
   "id": "692582ec-cf84-463d-a2cb-881f64e8c0a3",
   "metadata": {},
   "outputs": [
    {
     "name": "stdout",
     "output_type": "stream",
     "text": [
      "2023-10-18 18:30:09:  Init <class 'kit.bioinf.mhc.netMHCpan.netMHCpanPredictor'> MHC-Class1 predictor\n",
      "2023-10-18 18:30:09:  Loading HLA-B*07:02 from percentile_HLA_B_07_02.tsv\n",
      "2023-10-18 18:30:11:  Loading HLA-C*07:01 from percentile_HLA_C_07_01.tsv\n",
      "2023-10-18 18:30:14:  Loading HLA-C*16:01 from percentile_HLA_C_16_01.tsv\n",
      "2023-10-18 18:30:15:  Loading HLA-A*24:02 from percentile_HLA_A_24_02.tsv\n",
      "2023-10-18 18:30:18:  Loading HLA-B*39:01 from percentile_HLA_B_39_01.tsv\n",
      "2023-10-18 18:30:20:  Loading HLA-A*02:01 from percentile_HLA_A_02_01.tsv\n"
     ]
    }
   ],
   "source": [
    "predictor_MHC_I = get_predictor(predictor_MHC_I_class)(\n",
    "    join(G.ENV.PROJECT, 'artefacts', 'immunology', 'netMHCpan', 'percentile'), \n",
    "    limit=predictor_MHC_I_limit/100,\n",
    "    MHC_I_alleles_to_load=MHCs\n",
    ")"
   ]
  },
  {
   "cell_type": "markdown",
   "id": "c5f78c3a",
   "metadata": {},
   "source": [
    "### Predict Visibility"
   ]
  },
  {
   "cell_type": "code",
   "execution_count": 21,
   "id": "fb2abc29",
   "metadata": {},
   "outputs": [],
   "source": [
    "db.predictors_MHC_I = {predictor_MHC_I_name: predictor_MHC_I}"
   ]
  },
  {
   "cell_type": "code",
   "execution_count": 22,
   "id": "21890b41-b70d-48ea-a7c5-c35f260dd498",
   "metadata": {},
   "outputs": [
    {
     "name": "stderr",
     "output_type": "stream",
     "text": [
      "MHCs: 100%|██████████████████████████████████████████████████████████████████████████████████████████████████████████████████████████████████████| 6/6 [00:00<00:00, 70.68it/s]\n"
     ]
    }
   ],
   "source": [
    "for mhc in tqdm(MHCs, desc=\"MHCs\"):\n",
    "    db.add_visibility_MHC_I(predictor_MHC_I_name, mhc)\n",
    "    db.conn.commit()"
   ]
  },
  {
   "cell_type": "code",
   "execution_count": 23,
   "id": "e692ecb1",
   "metadata": {},
   "outputs": [],
   "source": [
    "if predictor_MHC_I_save:\n",
    "    predictor_MHC_I.save()"
   ]
  },
  {
   "cell_type": "code",
   "execution_count": 24,
   "id": "c3330fff",
   "metadata": {},
   "outputs": [
    {
     "name": "stderr",
     "output_type": "stream",
     "text": [
      "25256it [00:02, 9109.72it/s]\n"
     ]
    }
   ],
   "source": [
    "df_eval['visibility'] = None\n",
    "for idx, row in tqdm(df_eval.iterrows()):\n",
    "    df_eval.at[idx, 'visibility'] = db.get_visibility_MHC_I(predictor_MHC_I_name, MHCs, row.seq_hash)\n",
    "df_eval['visibility'] = df_eval['visibility'].astype('float')"
   ]
  },
  {
   "cell_type": "code",
   "execution_count": 25,
   "id": "fb41231c-a9f7-461f-ab9e-eedb0feec367",
   "metadata": {},
   "outputs": [
    {
     "name": "stdout",
     "output_type": "stream",
     "text": [
      "deimmunize_visibility_threshold: 72.0\n",
      "immunize_visibility_threshold: 107.0\n"
     ]
    }
   ],
   "source": [
    "df_natural = df_eval.query('source == \"natural\"')\n",
    "deimmunize_visibility_threshold = np.percentile(df_natural.visibility, deimmunize_visibility_percentile*100)\n",
    "immunize_visibility_threshold = np.percentile(df_natural.visibility, immunize_visibility_percentile*100)\n",
    "print(f\"deimmunize_visibility_threshold: {deimmunize_visibility_threshold}\")\n",
    "print(f\"immunize_visibility_threshold: {immunize_visibility_threshold}\")"
   ]
  },
  {
   "cell_type": "code",
   "execution_count": 26,
   "id": "0ca932af-ce5c-4146-a22c-f8b0dae8036a",
   "metadata": {},
   "outputs": [
    {
     "data": {
      "text/html": [
       "<div>\n",
       "<style scoped>\n",
       "    .dataframe tbody tr th:only-of-type {\n",
       "        vertical-align: middle;\n",
       "    }\n",
       "\n",
       "    .dataframe tbody tr th {\n",
       "        vertical-align: top;\n",
       "    }\n",
       "\n",
       "    .dataframe thead tr th {\n",
       "        text-align: left;\n",
       "    }\n",
       "\n",
       "    .dataframe thead tr:last-of-type th {\n",
       "        text-align: right;\n",
       "    }\n",
       "</style>\n",
       "<table border=\"1\" class=\"dataframe\">\n",
       "  <thead>\n",
       "    <tr>\n",
       "      <th></th>\n",
       "      <th colspan=\"3\" halign=\"left\">visibility</th>\n",
       "    </tr>\n",
       "    <tr>\n",
       "      <th></th>\n",
       "      <th>min</th>\n",
       "      <th>mean</th>\n",
       "      <th>max</th>\n",
       "    </tr>\n",
       "    <tr>\n",
       "      <th>pack</th>\n",
       "      <th></th>\n",
       "      <th></th>\n",
       "      <th></th>\n",
       "    </tr>\n",
       "  </thead>\n",
       "  <tbody>\n",
       "    <tr>\n",
       "      <th>CAPE-Packer.baseline.final</th>\n",
       "      <td>40.0</td>\n",
       "      <td>71.166667</td>\n",
       "      <td>115.0</td>\n",
       "    </tr>\n",
       "    <tr>\n",
       "      <th>CAPE-Packer.deimmunize.final</th>\n",
       "      <td>19.0</td>\n",
       "      <td>41.306667</td>\n",
       "      <td>68.0</td>\n",
       "    </tr>\n",
       "    <tr>\n",
       "      <th>CAPE-Packer.immunize.final</th>\n",
       "      <td>219.0</td>\n",
       "      <td>285.966667</td>\n",
       "      <td>360.0</td>\n",
       "    </tr>\n",
       "    <tr>\n",
       "      <th>CAPE-XVAE.baseline.clean</th>\n",
       "      <td>63.0</td>\n",
       "      <td>86.100000</td>\n",
       "      <td>119.0</td>\n",
       "    </tr>\n",
       "    <tr>\n",
       "      <th>CAPE-XVAE.deimmunize.final</th>\n",
       "      <td>18.0</td>\n",
       "      <td>52.180000</td>\n",
       "      <td>97.0</td>\n",
       "    </tr>\n",
       "    <tr>\n",
       "      <th>CAPE-XVAE.immunize.final</th>\n",
       "      <td>91.0</td>\n",
       "      <td>146.420000</td>\n",
       "      <td>234.0</td>\n",
       "    </tr>\n",
       "    <tr>\n",
       "      <th>data.TEST</th>\n",
       "      <td>70.0</td>\n",
       "      <td>86.967199</td>\n",
       "      <td>108.0</td>\n",
       "    </tr>\n",
       "    <tr>\n",
       "      <th>data.TRAIN</th>\n",
       "      <td>64.0</td>\n",
       "      <td>86.813687</td>\n",
       "      <td>129.0</td>\n",
       "    </tr>\n",
       "    <tr>\n",
       "      <th>data.VAL</th>\n",
       "      <td>65.0</td>\n",
       "      <td>86.921783</td>\n",
       "      <td>117.0</td>\n",
       "    </tr>\n",
       "    <tr>\n",
       "      <th>support</th>\n",
       "      <td>73.0</td>\n",
       "      <td>86.706667</td>\n",
       "      <td>111.0</td>\n",
       "    </tr>\n",
       "  </tbody>\n",
       "</table>\n",
       "</div>"
      ],
      "text/plain": [
       "                             visibility                   \n",
       "                                    min        mean    max\n",
       "pack                                                      \n",
       "CAPE-Packer.baseline.final         40.0   71.166667  115.0\n",
       "CAPE-Packer.deimmunize.final       19.0   41.306667   68.0\n",
       "CAPE-Packer.immunize.final        219.0  285.966667  360.0\n",
       "CAPE-XVAE.baseline.clean           63.0   86.100000  119.0\n",
       "CAPE-XVAE.deimmunize.final         18.0   52.180000   97.0\n",
       "CAPE-XVAE.immunize.final           91.0  146.420000  234.0\n",
       "data.TEST                          70.0   86.967199  108.0\n",
       "data.TRAIN                         64.0   86.813687  129.0\n",
       "data.VAL                           65.0   86.921783  117.0\n",
       "support                            73.0   86.706667  111.0"
      ]
     },
     "execution_count": 26,
     "metadata": {},
     "output_type": "execute_result"
    }
   ],
   "source": [
    "df_eval[['pack', 'visibility']].groupby('pack').agg(['min', 'mean', 'max'])"
   ]
  },
  {
   "cell_type": "markdown",
   "id": "9d41b195-3af1-4471-8870-bdfb048016c5",
   "metadata": {},
   "source": [
    "## Similarity"
   ]
  },
  {
   "cell_type": "markdown",
   "id": "c2dd69f9-23c8-4c85-bf7c-e3014a9aa255",
   "metadata": {},
   "source": [
    "### Structure"
   ]
  },
  {
   "cell_type": "code",
   "execution_count": 27,
   "id": "745928f9-cd87-454a-a315-6885c99e640d",
   "metadata": {},
   "outputs": [],
   "source": [
    "df_eval['max_TMscore_support_seq_hash'], df_eval['max_TMscore'], df_eval['max_TMscore_aligned_length'] = \"\", None, None"
   ]
  },
  {
   "cell_type": "code",
   "execution_count": 28,
   "id": "7b926628-04a3-447d-9780-297bd5b6918b",
   "metadata": {},
   "outputs": [],
   "source": [
    "packs = [\n",
    "    ('support', False),\n",
    "       \n",
    "    ('CAPE-XVAE.baseline.clean', True),\n",
    "    ('CAPE-XVAE.deimmunize.final', True),\n",
    "    ('CAPE-XVAE.immunize.final', True),\n",
    "    \n",
    "    ('CAPE-Packer.baseline.final', True),\n",
    "    ('CAPE-Packer.deimmunize.final', True),\n",
    "    ('CAPE-Packer.immunize.final', True),\n",
    "]"
   ]
  },
  {
   "cell_type": "code",
   "execution_count": 29,
   "id": "1d81d389-69d8-4c88-bd11-21d158342dd2",
   "metadata": {},
   "outputs": [
    {
     "name": "stderr",
     "output_type": "stream",
     "text": [
      "300it [00:42,  7.10it/s]\n"
     ]
    },
    {
     "name": "stdout",
     "output_type": "stream",
     "text": [
      "support: 300 aligned\n"
     ]
    },
    {
     "name": "stderr",
     "output_type": "stream",
     "text": [
      "100it [00:14,  7.12it/s]\n"
     ]
    },
    {
     "name": "stdout",
     "output_type": "stream",
     "text": [
      "CAPE-XVAE.baseline.clean: 100 aligned\n"
     ]
    },
    {
     "name": "stderr",
     "output_type": "stream",
     "text": [
      "100it [00:14,  7.09it/s]\n"
     ]
    },
    {
     "name": "stdout",
     "output_type": "stream",
     "text": [
      "CAPE-XVAE.deimmunize.final: 100 aligned\n"
     ]
    },
    {
     "name": "stderr",
     "output_type": "stream",
     "text": [
      "100it [00:14,  7.11it/s]\n"
     ]
    },
    {
     "name": "stdout",
     "output_type": "stream",
     "text": [
      "CAPE-XVAE.immunize.final: 100 aligned\n"
     ]
    },
    {
     "name": "stderr",
     "output_type": "stream",
     "text": [
      "300it [00:42,  7.12it/s]\n"
     ]
    },
    {
     "name": "stdout",
     "output_type": "stream",
     "text": [
      "CAPE-Packer.baseline.final: 300 aligned\n"
     ]
    },
    {
     "name": "stderr",
     "output_type": "stream",
     "text": [
      "300it [00:42,  7.13it/s]\n"
     ]
    },
    {
     "name": "stdout",
     "output_type": "stream",
     "text": [
      "CAPE-Packer.deimmunize.final: 300 aligned\n"
     ]
    },
    {
     "name": "stderr",
     "output_type": "stream",
     "text": [
      "300it [00:42,  7.11it/s]"
     ]
    },
    {
     "name": "stdout",
     "output_type": "stream",
     "text": [
      "CAPE-Packer.immunize.final: 300 aligned\n",
      "len(df_eval): 25256\n"
     ]
    },
    {
     "name": "stderr",
     "output_type": "stream",
     "text": [
      "\n"
     ]
    }
   ],
   "source": [
    "if df_eval.index.name is not None:\n",
    "    df_eval.reset_index(inplace=True)\n",
    "df_eval.set_index('seq_hash', inplace=True)\n",
    "for pack, self_match in packs:\n",
    "    df = db.get_pack(pack)\n",
    "    cnt = 0\n",
    "    for _, row in tqdm(df.iterrows()):\n",
    "        seq_hash = row['seq_hash']\n",
    "        if os.path.exists(db.get_pdb_file_path(seq_hash)):\n",
    "            sequence = db.get_sequence(seq_hash=seq_hash)\n",
    "            max_TMscore_support_seq_hash, max_TMscore, max_TMscore_aligned_length = db.get_closest(sequence['seq'], self_match=self_match)\n",
    "    \n",
    "            df_eval.at[seq_hash, 'max_TMscore_support_seq_hash'] = max_TMscore_support_seq_hash\n",
    "            df_eval.at[seq_hash, 'max_TMscore'] = max_TMscore\n",
    "            df_eval.at[seq_hash, 'max_TMscore_aligned_length'] = max_TMscore_aligned_length\n",
    "            cnt += 1\n",
    "    print(f\"{pack}: {cnt} aligned\")\n",
    "df_eval.reset_index(inplace=True)\n",
    "df_eval.max_TMscore = df_eval.max_TMscore.astype('float')\n",
    "\n",
    "print(f'len(df_eval): {len(df_eval)}')"
   ]
  },
  {
   "cell_type": "code",
   "execution_count": 30,
   "id": "969e6452-0f4a-4bad-814c-721b3233f6b6",
   "metadata": {},
   "outputs": [
    {
     "name": "stdout",
     "output_type": "stream",
     "text": [
      "pack                                     | mean  | std   | min   | max  \n",
      "support                                  | 0.966 | 0.024 | 0.873 | 0.997\n",
      "CAPE-XVAE.baseline.clean                 | 0.838 | 0.133 | 0.405 | 0.996\n",
      "CAPE-XVAE.deimmunize.final               | 0.756 | 0.174 | 0.210 | 0.976\n",
      "CAPE-XVAE.immunize.final                 | 0.792 | 0.154 | 0.250 | 0.983\n",
      "CAPE-Packer.baseline.final               | 0.800 | 0.057 | 0.572 | 0.933\n",
      "CAPE-Packer.deimmunize.final             | 0.794 | 0.065 | 0.563 | 0.938\n",
      "CAPE-Packer.immunize.final               | 0.763 | 0.067 | 0.588 | 0.894\n"
     ]
    }
   ],
   "source": [
    "print(f\"{'pack':40s} | {'mean':5} | {'std':5} | {'min':5} | {'max':5}\")\n",
    "\n",
    "for pack, _ in packs:\n",
    "    mean = df_eval.query(f'pack == \"{pack}\"')['max_TMscore'].mean()\n",
    "    std = df_eval.query(f'pack == \"{pack}\"')['max_TMscore'].std()\n",
    "    min = df_eval.query(f'pack == \"{pack}\"')['max_TMscore'].min()\n",
    "    max = df_eval.query(f'pack == \"{pack}\"')['max_TMscore'].max()\n",
    "    print(f\"{pack:40s} | {mean:5.3f} | {std:5.3f} | {min:5.3f} | {max:5.3f}\")"
   ]
  },
  {
   "cell_type": "code",
   "execution_count": 31,
   "id": "d255d68e-f614-48be-8c74-76deff5668f0",
   "metadata": {},
   "outputs": [
    {
     "name": "stdout",
     "output_type": "stream",
     "text": [
      "pack                                     | mean  | std   | min   | max  \n",
      "support                                  | 205.2 |   4.1 | 184.0 | 217.0\n",
      "CAPE-XVAE.baseline.clean                 | 189.0 |  18.5 | 126.0 | 209.0\n",
      "CAPE-XVAE.deimmunize.final               | 179.7 |  28.3 |  64.0 | 210.0\n",
      "CAPE-XVAE.immunize.final                 | 184.9 |  23.3 |  83.0 | 215.0\n",
      "CAPE-Packer.baseline.final               | 187.3 |  11.4 | 148.0 | 212.0\n",
      "CAPE-Packer.deimmunize.final             | 185.8 |  13.2 | 140.0 | 210.0\n",
      "CAPE-Packer.immunize.final               | 180.9 |  15.5 | 137.0 | 208.0\n"
     ]
    }
   ],
   "source": [
    "print(f\"{'pack':40s} | {'mean':5} | {'std':5} | {'min':5} | {'max':5}\")\n",
    "\n",
    "for pack, _ in packs:\n",
    "    mean = df_eval.query(f'pack == \"{pack}\"')['max_TMscore_aligned_length'].mean()\n",
    "    std = df_eval.query(f'pack == \"{pack}\"')['max_TMscore_aligned_length'].std()\n",
    "    min = df_eval.query(f'pack == \"{pack}\"')['max_TMscore_aligned_length'].min()\n",
    "    max = df_eval.query(f'pack == \"{pack}\"')['max_TMscore_aligned_length'].max()\n",
    "    print(f\"{pack:40s} | {mean:5.1f} | {std:5.1f} | {min:5.1f} | {max:5.1f}\")"
   ]
  },
  {
   "cell_type": "markdown",
   "id": "e86e322a-44a2-4312-ba20-27e8ce860f40",
   "metadata": {},
   "source": [
    "### Sequence"
   ]
  },
  {
   "cell_type": "markdown",
   "id": "03eb1300-1b38-4f75-bc2b-53d6b4619ebe",
   "metadata": {},
   "source": [
    "#### K-mers"
   ]
  },
  {
   "cell_type": "code",
   "execution_count": 32,
   "id": "98ecdc42-a6f3-4b22-ab65-8a37a5101e2d",
   "metadata": {},
   "outputs": [
    {
     "name": "stdout",
     "output_type": "stream",
     "text": [
      "K-mer count: 2,914,221\n"
     ]
    }
   ],
   "source": [
    "natural_kmers_data_file_path = os.path.join(G.ENV.ARTEFACTS, f\"{G.DOMAIN}.kmers.natural.pickle\")\n",
    "if os.path.exists(natural_kmers_data_file_path):\n",
    "    with open(natural_kmers_data_file_path, \"rb\") as file:\n",
    "        natural_kmers_data = pickle.load(file)\n",
    "else:\n",
    "    natural_kmers_dict = {length: {} for length in kmer_similarity_lengths}\n",
    "    df_natural = df_eval.query('source == \"natural\"')\n",
    "    for idx, row in tqdm(df_natural.iterrows()):\n",
    "        for length in kmer_similarity_lengths:\n",
    "            kmers = get_kmers(row.seq, lengths=[length])\n",
    "            for kmer in kmers:\n",
    "                natural_kmers_dict[length][kmer] = natural_kmers_dict[length].get(kmer, 0) + 1\n",
    "\n",
    "    natural_kmers_data = {\n",
    "        'natural_kmers_dict': natural_kmers_dict,\n",
    "        'n_natural': len(df_natural)\n",
    "    }\n",
    "    with open(natural_kmers_data_file_path, \"wb\") as file:\n",
    "        pickle.dump(natural_kmers_data, file)\n",
    "\n",
    "natural_kmers_dict = natural_kmers_data['natural_kmers_dict']\n",
    "\n",
    "natural_kmers = set()\n",
    "natural_kmers.update(*[set(natural_kmers_dict[length].keys()) for length in kmer_similarity_lengths])\n",
    "print(f\"K-mer count: {len(natural_kmers):,}\")"
   ]
  },
  {
   "cell_type": "code",
   "execution_count": 33,
   "id": "2774d732-51a5-482f-83c7-24d14d94879e",
   "metadata": {},
   "outputs": [
    {
     "name": "stderr",
     "output_type": "stream",
     "text": [
      "25256it [01:09, 365.64it/s]\n"
     ]
    }
   ],
   "source": [
    "df_eval[f'kmer_similarity'] = None\n",
    "for k in kmer_similarity_lengths:\n",
    "    df_eval[f'{k}mer_similarity'] = None\n",
    "\n",
    "\n",
    "a_len = np.max(kmer_similarity_lengths) + 1\n",
    "for idx, row in tqdm(df_eval.iterrows()):\n",
    "    natural_kmers_cnt, artificial_kmers_cnt = [0]*a_len, [0]*a_len\n",
    "\n",
    "    kmers = get_kmers(row.seq, lengths=kmer_similarity_lengths)\n",
    "    for kmer in kmers:\n",
    "        length = len(kmer)\n",
    "        if kmer in natural_kmers:\n",
    "            natural_kmers_cnt[length] += 1\n",
    "        else:\n",
    "            artificial_kmers_cnt[length] += 1\n",
    "                \n",
    "    df_eval.at[idx, 'kmer_similarity'] = np.sum(natural_kmers_cnt) / (np.sum(natural_kmers_cnt) + np.sum(artificial_kmers_cnt))\n",
    "    for k in kmer_similarity_lengths:\n",
    "        df_eval.at[idx, f'{k}mer_similarity'] = natural_kmers_cnt[k] / (natural_kmers_cnt[k] + artificial_kmers_cnt[k])\n",
    "    \n",
    "df_eval.kmer_similarity = df_eval.kmer_similarity.astype('float')\n",
    "for k in kmer_similarity_lengths:\n",
    "    df_eval[f'{k}mer_similarity'] = df_eval[f'{k}mer_similarity'].astype('float')"
   ]
  },
  {
   "cell_type": "markdown",
   "id": "81d979d6",
   "metadata": {},
   "source": [
    "## Stability"
   ]
  },
  {
   "cell_type": "markdown",
   "id": "00e7348d-fc94-4ef8-a4b6-f9b27c02568b",
   "metadata": {},
   "source": [
    "### MD simulations"
   ]
  },
  {
   "cell_type": "code",
   "execution_count": 41,
   "id": "1bed8052-b7f2-4253-a2b2-176c2cb87905",
   "metadata": {},
   "outputs": [],
   "source": [
    "md_param_hash = '675742'\n",
    "df_eval['md_rmsd'], df_eval['md_max_rmsd'], df_eval['md_rmsf'] = None, None, None"
   ]
  },
  {
   "cell_type": "code",
   "execution_count": 42,
   "id": "d6f140d8-c98b-444f-8e1d-7ebba12c62f9",
   "metadata": {},
   "outputs": [
    {
     "name": "stdout",
     "output_type": "stream",
     "text": [
      "0008f261b784ee03873e4b10aa52915f5fd88b390d9f12dc40aff8f9fd8be985\n",
      "004025ebbe75f0da615d5336e352522be239fa11fadbc3487a21f8710465d668\n",
      "004f0f3b968a6dcdee60a3d6ed6ee61e33cd20d7a6b1e5bd2a6dbdf6965a3702\n",
      "005dbad3fdb3e6a4a9c80bfaa5f789f555921eb400678fc42a44ad6f17f28423\n",
      "0150d515ae8849b17d90b3738e5fd9e18a8a191c0919dbdeec9c1b3e13a38700\n",
      "016f30123f6b9ec15d3689eb75943fcd852d42b3a55c61a713ff360a03dc4fac\n",
      "01985c8adac151ea7bfbafb06ed721fafcce6a0d77f8ce1fa73b9f6685e137a2\n",
      "01fc917dd94dbd4875050c65fa81dcb35ad63a4424e4cd61720559eea26d083d\n",
      "020644853f09cb29ebd229f85c7366c69cbfa6672c208fed1b6c77440753f6c0\n",
      "021c25363ab10097040c87dee145ede771e15f1879ce9acde87f40d7fa29d784\n",
      "02480a8f7c7104d90e24e8c4d6b5782bef86714ad69cf9b2f24099dd238eee32\n",
      "02480a8f7c7104d90e24e8c4d6b5782bef86714ad69cf9b2f24099dd238eee32\n",
      "02943c41f6f418c2a224cd1a5f00c31b1dc62222a702d9ac749e2a31002c64a4\n",
      "02943c41f6f418c2a224cd1a5f00c31b1dc62222a702d9ac749e2a31002c64a4\n",
      "03835e3950ceb595a6ba9a99d2591e3066f8df5917ea1f6f22b475093fedfce2\n",
      "03835e3950ceb595a6ba9a99d2591e3066f8df5917ea1f6f22b475093fedfce2\n",
      "038894160e4e0f24fd46462f6a46bb9d68a99d217d3b0f42b3ac41edbb9b74f9\n",
      "03cbca02419eb972bc796392251e7b094a0d7571c941f9b79d0e722304a78092\n",
      "03d9714ee0d9e95d811143e45cbd80456fe1f045aa8d5cba9f937c58758defe4\n",
      "03e2d94235238238d97d78c8087a18d7a1c5a5960e8d2a394076f409c08b46e4\n",
      "0478229e4cc8acf3cdac11f0644860216242f7b6913eb947eeb36bcc22d66eff\n",
      "0478229e4cc8acf3cdac11f0644860216242f7b6913eb947eeb36bcc22d66eff\n",
      "0501a61fc8e598c8ed9eeeec7cd367c7edee962842258beadd062ece882ea3e6\n",
      "059b56798c6ef0da793675ecd7819e224143f0c0b6a729c3044549e9e28f2f12\n",
      "059b56798c6ef0da793675ecd7819e224143f0c0b6a729c3044549e9e28f2f12\n",
      "05f17a224186fe25a97769284efc76ac580b8d9d7cdfb7145169fe87bc8fdf22\n",
      "05f1a0e14e30feca0eef6fbbef42bd768530054d9d680f7fcbd68e7a120d98c0\n",
      "063599e012c4d28eae65a8469e02d14b4d9d83796052a4f5be12f5a5bd0f8300\n",
      "063599e012c4d28eae65a8469e02d14b4d9d83796052a4f5be12f5a5bd0f8300\n",
      "06d530ec5d168b6f5b1a7fbcd7fdd888241735d5b79d45d4777616f51d910233\n",
      "075ab3f1c2b26cf6dff5611f3591d57217de2249e36efb7eb59ba92b524fb637\n",
      "075ab3f1c2b26cf6dff5611f3591d57217de2249e36efb7eb59ba92b524fb637\n",
      "0766f8094f9ce71691d7c84ee64cdc2ac2dc11cfe18af722cb4d4c988ba208a5\n",
      "07b42fb73780768db6b94db7c629059db0a0f6f8caa2ba30b2566ccbd441e232\n",
      "080dfb74e387ed8706fbc8cf1a10f2ed09059c8e7d0d8eb7a06c656e22024bb5\n",
      "080dfb74e387ed8706fbc8cf1a10f2ed09059c8e7d0d8eb7a06c656e22024bb5\n",
      "082279b2702a78ba41ed0cc5875a7ddb34053f80ed9d5fe8aed59686cce11233\n",
      "083e770f807a116c14fae1ebebaa86c0a77915a90762589c19406fb18d81d73b\n",
      "08641ca9b89bcdaac3cfcb281be0d58325182b390ce7ded078b6e9530062ed5b\n",
      "088fe9c3d88d06ceace0460688713a3e9c21fe22b4026c9f4696800b9373b448\n",
      "088fe9c3d88d06ceace0460688713a3e9c21fe22b4026c9f4696800b9373b448\n",
      "089d03e730e88eb73dfa6f66a5d4542ff57bf9d6f8a9c0a2ccb2e468e09160af\n",
      "0916cb30016ad0d7cd43d3e3cc28cfb7906eb7318898c96de5bf02a59f9dc378\n",
      "093a0d3fb94b83702c37c4c3b0c0c4f32fbfb1b00c38a8f7e6a1422f3ba3baab\n",
      "0940aea213c0640d4b8d111229ce5722ace446fb69f22cd2b1409a543d739b6b\n",
      "097696e66763a28f5527d130b22900ad164662d1232e366891c84dca34ced4b4\n",
      "0a298439ad6d66ebd80b1e127692be9820f9e09ff57973e4e25b8e8083eca6b6\n",
      "0a5439817678d1e32279b3d0cca446d9fcf7d88e83e428293288a2933f532579\n",
      "0a8a154f473ac6eab163814f0c1900da7d484f6b82405e9060114c7cf668684b\n",
      "0a97f5424395723bcb911d284b01975be2450aea8e87236bacc513f5ac630cbd\n",
      "0a97f5424395723bcb911d284b01975be2450aea8e87236bacc513f5ac630cbd\n",
      "0c40c44c63a8ce559a2b77ba9787a805a5a55654e79983820d5ce6b78bb77fc5\n",
      "0e3f66b5b2e8ab52040e9a8b0ea2abbbabd4f5d8b5185fee309194535854ccbb\n",
      "0ec1b763d2452b32ee28df07cd44d2b960138afe499bea9143dbd786ce6732e0\n",
      "0f2b48a3006f9189911d279f87c815a21a1abaa1cdfeb124d9e19b698423b1a8\n",
      "104f8e34cf34f1a9c64417f72cfe6f3ce26408aa4935c47e90c10fb409cc1ef6\n",
      "10a1cb81c865b070e1c7295b35dc9d321df74be7064300a94d3a4d2ab4ca5cb6\n",
      "10b3039da894dda1db7e8793cff1aec208d230dfb57e25964bfa201143dacc95\n",
      "10cdfbddcabf19f0e4c96681552981d8d8b101c2dc3edd3e79b2c6496ab21452\n",
      "1127da2fa33541cc11e7c259140ecedc2f94474ada1a8b62bd80b9363a2465fa\n",
      "11640e8534fd293ca82f5f731ba278e263f2c479e85ae1e9a6c4d3f0c0a0a08f\n",
      "1201f7a45517f930cba0245aba2cba9d598082e526642e9acd068d9975d15ffc\n",
      "139d7fc2ef7b1428e7c96f8cd64c7f85a0c96c6c37c32bfe3a5fa43c0b37a8f5\n",
      "13ce456f60c2a7ecfa51e3ff604454d9f6c9e61bc9674a0f4237e25c82275bf9\n",
      "1432b401fdfb01706e04c57c4af50b9537cf221b3eedc13ccededddea09cbd78\n",
      "1495adb9007e6406f9cbb1ae1b418d8d619db8537003f6ec10f81d79120f644a\n",
      "14a814597f87282b22f378d7b07ffd429af61a42424cb09d5776fcfaf9a96e5c\n",
      "14b03a99dcb217541788099be66d8f2717c86401f88862eda503baf4acd32b0f\n",
      "150fa80b382e2a52a5c33efbfc80da6ea3bf340633e582938650b83da13aa7be\n",
      "15861c55288887e5e064473ed45cf7a357c1410c69760809c41682d4318e9388\n",
      "15a6068d358d8ec774fce8cff85eb864dd0068d1cd1a2937deb8e5b8a1790fa4\n",
      "15ab0ac9b9a0dc64db38d1186872c76d7f40e4df2238cc69105fbdeb67ca2026\n",
      "15f602b87e1283aba45ced8252c348d8cbe7a64595af0996f48d267f27b8b00d\n",
      "16c1af8c0e0d02a918e1683baf14cefda16efb48cbbf173bc1200dba2a357616\n",
      "16ee710375a402131aefa9a436200093be4e3e2230cb2396ea8ba702ea12cac8\n",
      "17a3d246f9475d03444ffcc90907a5705f51c4f25cce878a1fb6bd71bface6de\n",
      "1868b2d242d7b88f256eff06828470afdaf97ddceb01fb36bb39f89e77f610c6\n",
      "1895ffffc872fb310fed1f370598ee26bee46755325d1652425327c86fe64dc5\n",
      "18c3eb7bc0b621403973d3eb3faf63cc1c5302b69053556f81a7bda5792f4d09\n",
      "194d0bfd06d2b7eb39b9f91f95d22f53e08a8ab58c737cb461f3709061d4017c\n",
      "196690bbbb0e1868054e3732ac81f12dce34eda2bef97b04b81e199b51e97717\n",
      "19c2939837ae392ba56138e947e666928b09992e470b800767c49129ef5e98f8\n",
      "1a1f0fda0b02b1d4aa4464bd6afb13c6109980ece3a2a6cbf12ddb33822d2c2d\n",
      "1a4e890f8a523c39ed8563c9c38241257bb3c0ffdf5a6653dee191c81597a560\n",
      "1aa70e84c7382fa5e44cddbdff99a3e12246bfbcbd750f767c6ab2b02a837ca9\n",
      "1b701d24fe74371117f9a0d38d7eb39ae802dee2cf8f96e538a3621b5f15dc19\n",
      "1bcde85fc0c2e835cb954e30a266050a34f1f13071871746e93c69cdfa8d3243\n",
      "1ea2a76867e3f00fa960721a584944a6a2dd4741f1c54e4145d1cbf2116f7d78\n",
      "1ed450533e3188fdcbb5c4f861cd2598911d9f5ed8336963b8e0a73e2f2a98f3\n",
      "1fadd8e54c85f92e3a4b02e81945c2cbb10ddf6de1cb8f737d9d8909fdb4b418\n",
      "22d3080ac3f5448cb7588fc61e866e2c38069142a6922eb17cef8c4c7652349e\n",
      "22f1dd3d8a374714ae23de224a45766974ed46b19a776450c37a0571bc16d652\n",
      "240e17b3d66e0b70fa2fb19851255e1b24750fb106d2e64700a178e73c4804ad\n",
      "249b0f740f2331b065b30ab2bcfc95e3f721bdc67774973d7e4132c893ab6e66\n",
      "25f85a8f75b8d40dfd7609370717d274060308953f3904c4e84409b898bf7f86\n",
      "2664ca22ae0056143a4bd40dca30b951783af7da539a490dfb03cdfd4007ccb3\n",
      "26b446ccc76d79919b7647d071caeab5e60711c2afa71e56136e82c411e3cde4\n",
      "2bdb5160c9be3732e1abbc9345764d9ae16582229b8ff67cc464a42d7e040036\n",
      "2c6798f24697af1bc955a42bf10cf12ba858ba83b76c4a5deffa2c5c25a94d9d\n",
      "2db587e08383e316455b65f09560236c166f55d856c3ab69a8592537d1140574\n",
      "2e35167463dd3caacccccfcb60e1152f6dd36f9af113d6702c688a557d6fd36f\n",
      "2ef9d8ba6c545a4841d71bbcd1b9e65cf86c162e8a4a98ad0d626cff84cc223f\n",
      "2f3161289945ecaf8c5aa868cf9021e2f2a0e765574d3abd712690a0f0d4b087\n",
      "3198976e29f9b46eb16143a4c702c9ec9c7436670dbc2e86c1fb726a6eb0c099\n",
      "33c64b3781f5097ac4a23365d97722a5f857912d4d05941b2bcd74f772cd827a\n",
      "346adc98ef341a5f375a82ecd7f972826e7d43690e34edab389f7c15488a01d7\n",
      "3505fb6ee8aafdbe506039377f8578477e4d6509246b8b8223940c9f7b4d4e4c\n",
      "379e655cf31e55e6c448a09b5c8074b3edb4ab4df66107d523feb901243f8f6e\n",
      "39688a8bbdf39e7785114736bd321f77056240f9103f1920257c1e899e3f4d48\n",
      "3a1f53a23f6f4b24cc3333e7f6ffcf24da15a8c5b9cec9b100b118927bd4df2d\n",
      "3a78ec24ad8d0aa9a676098d942b8a016663d50520c607f0a41e7582d722e346\n",
      "3a7b4d5770d52ec8e225c86bb7a969a52462d02827a189d4893a0bf6ec7d2285\n",
      "3b8dd1970eb039bee8e774d6d1c47c05049c15d61aeed5081c9dc68df98e4a59\n",
      "3be1fddd0409581eabbac5f0dd1f0b5bc1f1deb98de89674db2f58fb32592148\n",
      "3c09ec68dcdb9750d4f0c7b5dff91e00cd634077f54f52c29f76c7301b823a54\n",
      "3c9c3d0684193e87d762e77d2be8091ce408753a7500f6d064ba7762c09418eb\n",
      "3d5e34abdd5ccb55f01da2192cec7d73c4416753f244d3db431465d0ba4235be\n",
      "3dc69e59a4bb6ba6dc5293ace701810e9d27b57a43805e65433c59d8252f1225\n",
      "40ff6b75920bf7dc07e0fc625d95630f0e060e42a0b45cac044f717a9b897633\n",
      "429c8f5f46d77782040fe6fe031ae9af2e4ba2a36a66c8c51fa745c3fe773ae0\n",
      "43eae5f29995657ec8587a67b2ef8c354b3b41bb18538bb84f133b75b15a48df\n",
      "45a0f3f618a58a6dc2e5a21d36719d5c8ae73cd49828a55dc3f134ca750d850d\n",
      "505005b402cf75830afbe42721165bf0c2580a58245e5abf898816ca143646b5\n",
      "5358494db85a65aea928f2c5422b5f230d233d5ede59649c01db14176a137d97\n",
      "57436cc9487725d44e768c595bee8ec5bfb24456dde9a0f348dada18d8873efa\n",
      "58fa41e5f228ce98552cb56eb56a1a97f8f6f01e02da14521c7b9b4e7bef741e\n",
      "5a2d2eb2505f6c2124542af60abe05c90fa45725cf26c7868aedffd9ba88e7f4\n",
      "5b0f6d94362c1487497a5519296b9d6354620afdcd7032583f0891fbb91f4b72\n",
      "5ff49650e0a3e0dc532361ea6fdb9a664613818086c49c6eb97fb82a8e93ab80\n",
      "604cad600ff9b2c92e3bccbc458d01f20e6abe594021b60c6b1db1e0fe18801a\n",
      "619c4f6b41cb46b66dcc6aca38d0af3c8adeef1d3593c17ac287e4699d6994bf\n",
      "61e2a7a16103cd58394f9f9d76c5e4584b2720716431e26a5bd0665e7368b114\n",
      "6465fe98e54954476e922441a77e9f46de4192d047720b17cafa5874b8b8ecb3\n",
      "6a5a63a5086e3fde5ede7a9675caa9e5ce73f2f6128fc3f8ce9375f41dc42fe1\n",
      "6f2f7009d867e68d376f10e4876b9fdd8298cc51633dbccbc480c0570bdbbf0d\n",
      "71d00ee225af2cc0e3ea4c93ab91ef783581baddead88ba8f9f8b4ccd1cb6f38\n",
      "7314175afa984ffb8b688823aa3780c94722b25dfa6465bcdbcc515e034028dc\n",
      "74482b0c2a12fd16468025b4d70ab4303b314190f703f73cd32bcd6bd891550e\n",
      "75051693db6949fd6608ca09fe5becee7d21cbcce555b0e2de73d28d1eb5b554\n",
      "d2662f615e19e13234a8fb8953226a71e1ab8778ecbe2fe6adc01b5a8e22f308\n"
     ]
    }
   ],
   "source": [
    "if df_eval.index.name is not None:\n",
    "    df_eval.reset_index(inplace=True)\n",
    "df_eval.set_index('seq_hash', inplace=True)\n",
    "\n",
    "for seq_hash, row in df_eval.iterrows():\n",
    "    md_path = db.get_md_path(seq_hash, md_param_hash)\n",
    "    dcd_file_path = os.path.join(md_path, 'output_sub.dcd')\n",
    "    if os.path.exists(dcd_file_path):\n",
    "        print(seq_hash)\n",
    "\n",
    "        pdb_file_path = db.get_pdb_file_path(seq_hash)\n",
    "        structure = md.load(pdb_file_path)\n",
    "        topology = md.load_topology(pdb_file_path)\n",
    "        alpha_carbon_atoms = [atom.index for atom in topology.atoms if atom.name == 'CA']\n",
    "\n",
    "        # reduce the topology to its CA atoms\n",
    "        topology_sub = md.Topology()\n",
    "        chain = topology_sub.add_chain()\n",
    "        for r, _ in enumerate(alpha_carbon_atoms):\n",
    "            res = topology_sub.add_residue(topology.residue(r), chain)\n",
    "            topology_sub.add_atom(f\"CA{r}\", \"C\", res)\n",
    "        \n",
    "        trajectory = md.load_dcd(dcd_file_path, top=topology_sub)\n",
    "\n",
    "        rmsd = md.rmsd(trajectory, trajectory[0])\n",
    "        rmsf = md.rmsf(trajectory, trajectory[0])\n",
    "\n",
    "        df_eval.at[seq_hash, 'md_max_rmsd'] = rmsd.max()\n",
    "        set_df_cell_to_np(df_eval, seq_hash, 'md_rmsd', rmsd)\n",
    "        set_df_cell_to_np(df_eval, seq_hash, 'md_rmsf', rmsf)\n",
    "\n",
    "# np.frombuffer(rmsd.astype(np.dtype('float32')).tobytes(), dtype=np.dtype('float32'))\n",
    "\n",
    "df_eval.md_max_rmsd = df_eval.md_max_rmsd.astype('float')\n",
    "\n",
    "df_eval.reset_index(inplace=True)"
   ]
  },
  {
   "cell_type": "code",
   "execution_count": 43,
   "id": "b652f5be-61ae-4597-ac40-80a4e0c6a89d",
   "metadata": {},
   "outputs": [
    {
     "data": {
      "text/html": [
       "<div>\n",
       "<style scoped>\n",
       "    .dataframe tbody tr th:only-of-type {\n",
       "        vertical-align: middle;\n",
       "    }\n",
       "\n",
       "    .dataframe tbody tr th {\n",
       "        vertical-align: top;\n",
       "    }\n",
       "\n",
       "    .dataframe thead th {\n",
       "        text-align: right;\n",
       "    }\n",
       "</style>\n",
       "<table border=\"1\" class=\"dataframe\">\n",
       "  <thead>\n",
       "    <tr style=\"text-align: right;\">\n",
       "      <th></th>\n",
       "      <th>seq_hash</th>\n",
       "    </tr>\n",
       "    <tr>\n",
       "      <th>pack</th>\n",
       "      <th></th>\n",
       "    </tr>\n",
       "  </thead>\n",
       "  <tbody>\n",
       "    <tr>\n",
       "      <th>CAPE-Packer.baseline.final</th>\n",
       "      <td>10</td>\n",
       "    </tr>\n",
       "    <tr>\n",
       "      <th>CAPE-Packer.deimmunize.final</th>\n",
       "      <td>29</td>\n",
       "    </tr>\n",
       "    <tr>\n",
       "      <th>CAPE-Packer.immunize.final</th>\n",
       "      <td>21</td>\n",
       "    </tr>\n",
       "    <tr>\n",
       "      <th>CAPE-XVAE.baseline.clean</th>\n",
       "      <td>10</td>\n",
       "    </tr>\n",
       "    <tr>\n",
       "      <th>CAPE-XVAE.deimmunize.final</th>\n",
       "      <td>25</td>\n",
       "    </tr>\n",
       "    <tr>\n",
       "      <th>CAPE-XVAE.immunize.final</th>\n",
       "      <td>25</td>\n",
       "    </tr>\n",
       "    <tr>\n",
       "      <th>data.TRAIN</th>\n",
       "      <td>10</td>\n",
       "    </tr>\n",
       "    <tr>\n",
       "      <th>support</th>\n",
       "      <td>10</td>\n",
       "    </tr>\n",
       "  </tbody>\n",
       "</table>\n",
       "</div>"
      ],
      "text/plain": [
       "                              seq_hash\n",
       "pack                                  \n",
       "CAPE-Packer.baseline.final          10\n",
       "CAPE-Packer.deimmunize.final        29\n",
       "CAPE-Packer.immunize.final          21\n",
       "CAPE-XVAE.baseline.clean            10\n",
       "CAPE-XVAE.deimmunize.final          25\n",
       "CAPE-XVAE.immunize.final            25\n",
       "data.TRAIN                          10\n",
       "support                             10"
      ]
     },
     "execution_count": 43,
     "metadata": {},
     "output_type": "execute_result"
    }
   ],
   "source": [
    "df_eval.query(\"not md_rmsd.isnull()\")[['seq_hash', 'pack']].groupby('pack').count()"
   ]
  },
  {
   "cell_type": "markdown",
   "id": "d3e42d97",
   "metadata": {},
   "source": [
    "# Visualizations"
   ]
  },
  {
   "cell_type": "markdown",
   "id": "91cb5d92",
   "metadata": {},
   "source": [
    "## represent"
   ]
  },
  {
   "cell_type": "markdown",
   "id": "348064b6",
   "metadata": {},
   "source": [
    "### support representation"
   ]
  },
  {
   "cell_type": "code",
   "execution_count": 44,
   "id": "0618eb39",
   "metadata": {},
   "outputs": [
    {
     "name": "stderr",
     "output_type": "stream",
     "text": [
      "missing representations: 0it [00:00, ?it/s]\n"
     ]
    }
   ],
   "source": [
    "db.add_support_rep()"
   ]
  },
  {
   "cell_type": "markdown",
   "id": "4a7acd2b",
   "metadata": {},
   "source": [
    "### tSNE support representation"
   ]
  },
  {
   "cell_type": "code",
   "execution_count": 45,
   "id": "2d0e093a",
   "metadata": {},
   "outputs": [],
   "source": [
    "tsne = TSNE(n_components=2, verbose=0, perplexity=TSNE_perplexity, n_iter=TSNE_iter)\n",
    "tsne_rep_base_hash = db.add_reduced_support_rep(df_eval, tsne_rep_name, tsne)\n",
    "df_TSNE = db.get_rep(tsne_rep_name, tsne_rep_base_hash).rename(columns={'rep_1': 't-SNE 1', 'rep_2': 't-SNE 2'})\n",
    "df_eval = df_eval[[c for c in df_eval.columns if c not in ['t-SNE 1', 't-SNE 2']]].join(df_TSNE, how='left', on='seq_hash')"
   ]
  },
  {
   "cell_type": "markdown",
   "id": "0e9975c3-5893-4844-a378-d3f5aad332c1",
   "metadata": {},
   "source": [
    "### MDS support representation"
   ]
  },
  {
   "cell_type": "code",
   "execution_count": 46,
   "id": "dd5ea967-7a97-47a7-86cf-b9c457107f4f",
   "metadata": {},
   "outputs": [],
   "source": [
    "#mds = MDS()\n",
    "#mds_rep_base_hash = db.add_reduced_support_rep(df_eval, mds_rep_name, mds)\n",
    "#df_MDS = db.get_rep(mds_rep_name, mds_rep_base_hash).rename(columns={'rep_1': 'MDS 1', 'rep_2': 'MDS 2'})\n",
    "#df_eval = df_eval[[c for c in df_eval.columns if c not in ['MDS 1', 'MDS 2']]].join(df_MDS, how='left', on='seq_hash')"
   ]
  },
  {
   "cell_type": "markdown",
   "id": "5e9d509a",
   "metadata": {},
   "source": [
    "### PCA support representation"
   ]
  },
  {
   "cell_type": "code",
   "execution_count": 47,
   "id": "0551cddc",
   "metadata": {},
   "outputs": [],
   "source": [
    "pca = PCA(n_components=2)\n",
    "pca_rep_base_hash = db.add_reduced_support_rep(df_eval, pca_rep_name, pca)\n",
    "df_PCA = db.get_rep(pca_rep_name, pca_rep_base_hash).rename(columns={'rep_1': 'PCA 1', 'rep_2': 'PCA 2'})\n",
    "df_eval = df_eval[[c for c in df_eval.columns if c not in ['PCA 1', 'PCA 2']]].join(df_PCA, how='left', on='seq_hash')"
   ]
  },
  {
   "cell_type": "markdown",
   "id": "6e4725e0-72ec-4380-9ffd-2d868795a910",
   "metadata": {},
   "source": [
    "### Dissimilarities"
   ]
  },
  {
   "cell_type": "code",
   "execution_count": 73,
   "id": "25cab60a-554d-463a-9358-76800d157328",
   "metadata": {},
   "outputs": [
    {
     "name": "stderr",
     "output_type": "stream",
     "text": [
      "100%|████████████████████████████████████████████████████████████████████████████████████████████████████████████████████████████████████████████| 3/3 [01:36<00:00, 32.14s/it]\n"
     ]
    }
   ],
   "source": [
    "if df_eval.index.name is not None:\n",
    "    df_eval.reset_index(inplace=True)\n",
    "df_eval.set_index('seq_hash', inplace=True)\n",
    "\n",
    "\n",
    "dissimilarity_src_packs = [\n",
    "    # (source, [packs])\n",
    "    ('support', ['support']), \n",
    "    (source_xvae, [\n",
    "        f\"{source_xvae}.baseline.clean\", \n",
    "        f\"{source_xvae}.deimmunize.final\", \n",
    "        f\"{source_xvae}.immunize.final\"\n",
    "    ]), \n",
    "    (source_packer, [\n",
    "        f\"{source_packer}.baseline.final\",\n",
    "        f\"{source_packer}.deimmunize.final\",\n",
    "        f\"{source_packer}.immunize.final\"\n",
    "    ])\n",
    "]\n",
    "\n",
    "dissimilarity_tgt_packs = [\n",
    "    f'support',\n",
    "    f'{source_packer}.baseline.final'\n",
    "]\n",
    "\n",
    "for pack_name in dissimilarity_tgt_packs:\n",
    "    column = f'avg_dissimilarity_{pack_name}'\n",
    "    df_eval[column] = None\n",
    "\n",
    "for src_pack in tqdm(dissimilarity_src_packs):\n",
    "    for pack_1_name in src_pack[1]:\n",
    "        df_pack_1 = db.get_pack(pack_1_name)\n",
    "        for pack_2_name in dissimilarity_tgt_packs:\n",
    "            column = f'avg_dissimilarity_{pack_2_name}'\n",
    "            df_pack_2 = db.get_pack(pack_2_name)\n",
    "            for _, row in df_pack_1.iterrows():\n",
    "                value = np.mean(pairwise_sequence_aligner.get_seq_to_seqs_dissimilarity(row.seq, df_pack_2.seq))\n",
    "                df_eval.at[row.seq_hash, column] = value\n",
    "\n",
    "df_eval.reset_index(inplace=True)"
   ]
  },
  {
   "cell_type": "markdown",
   "id": "b44967c8",
   "metadata": {},
   "source": [
    "## Plot"
   ]
  },
  {
   "cell_type": "code",
   "execution_count": 49,
   "id": "d58b996d-5303-4dac-b01c-6befb05315fb",
   "metadata": {},
   "outputs": [],
   "source": [
    "import warnings\n",
    "warnings.filterwarnings(\"ignore\", category=FutureWarning)"
   ]
  },
  {
   "cell_type": "code",
   "execution_count": 106,
   "id": "e2a0f9f0-de1a-4d2f-8c61-01d11eba0aac",
   "metadata": {},
   "outputs": [
    {
     "data": {
      "image/png": "[encoded data removed]",
      "text/plain": [
       "<Figure size 900x100 with 1 Axes>"
      ]
     },
     "metadata": {},
     "output_type": "display_data"
    }
   ],
   "source": [
    "color_palette = ['blue', 'yellow', 'red', 'orange', 'cyan', 'green', 'magenta', 'pink', 'brown']\n",
    "#color_palette = sns.color_palette('colorblind')\n",
    "sns.palplot(color_palette)"
   ]
  },
  {
   "cell_type": "code",
   "execution_count": 107,
   "id": "958529df-0138-4825-8368-5837b4b623e9",
   "metadata": {},
   "outputs": [],
   "source": [
    "palettes = {\n",
    "    'pack': {# Pack-name: Color\n",
    "        'support': color_palette[0],\n",
    "        'data.TRAIN': color_palette[0],\n",
    "        'data.VAL': color_palette[0],\n",
    "        'data.TEST': color_palette[0],\n",
    "\n",
    "        f'{source_xvae}.baseline.clean': color_palette[1],\n",
    "        f'{source_xvae}.deimmunize.final': color_palette[2],     \n",
    "        f'{source_xvae}.immunize.final': color_palette[3], \n",
    "\n",
    "        f'{source_packer}.baseline.final': color_palette[4],\n",
    "        f'{source_packer}.deimmunize.final': color_palette[5], \n",
    "        f'{source_packer}.immunize.final': color_palette[6]\n",
    "    },\n",
    "    'source': {\n",
    "        'support': color_palette[0],\n",
    "        'natural': color_palette[0],\n",
    "        source_xvae: color_palette[7],\n",
    "        source_packer: color_palette[8]\n",
    "    }    \n",
    "}\n",
    "set_palettes(palettes)"
   ]
  },
  {
   "cell_type": "code",
   "execution_count": 108,
   "id": "a9b664d8-4ff0-45e4-859e-190d4e07071b",
   "metadata": {},
   "outputs": [],
   "source": [
    "styles = {'natural': 'o', 'CAPE-XVAE': 'o', 'CAPE-Packer': 'o'}\n",
    "markers = {\n",
    "    'pack': {      \n",
    "        'support': styles['natural'],\n",
    "        'data.TRAIN': styles['natural'],\n",
    "        'data.VAL': styles['natural'],\n",
    "        'data.TEST': styles['natural'],\n",
    "\n",
    "        f'{source_xvae}.baseline.clean': styles['CAPE-XVAE'],\n",
    "        f'{source_xvae}.deimmunize.final': styles['CAPE-XVAE'],    \n",
    "        f'{source_xvae}.immunize.final': styles['CAPE-XVAE'],\n",
    "\n",
    "        f'{source_packer}.baseline.final': styles['CAPE-Packer'],\n",
    "        f'{source_packer}.deimmunize.final': styles['CAPE-Packer'],\n",
    "        f'{source_packer}.immunize.final': styles['CAPE-Packer'],        \n",
    "    },\n",
    "    'source': {\n",
    "        'support': palettes['pack']['support'],\n",
    "        'natural': palettes['pack']['data.TRAIN'],\n",
    "        source_xvae: styles['CAPE-XVAE'],\n",
    "        source_packer: styles['CAPE-Packer'],\n",
    "    }    \n",
    "}\n",
    "set_markers(markers)"
   ]
  },
  {
   "cell_type": "markdown",
   "id": "383400c3-de2f-4a4a-a328-7f9931aa020c",
   "metadata": {},
   "source": [
    "### Figure A - Low-dimensional sequence space representation"
   ]
  },
  {
   "cell_type": "code",
   "execution_count": 89,
   "id": "7d842669-0cfd-40e2-afcb-76e6be2894d7",
   "metadata": {},
   "outputs": [
    {
     "data": {
      "image/png": "[encoded data removed]",
      "text/plain": [
       "<Figure size 827x935.2 with 9 Axes>"
      ]
     },
     "metadata": {},
     "output_type": "display_data"
    }
   ],
   "source": [
    "font_scale=10/12\n",
    "fig = plt.figure(figsize=(A4_width, A4_height*4/5))\n",
    "all_axes = []\n",
    "gs = mpl.gridspec.GridSpec(2, 2, \n",
    "                           width_ratios=[1, 1], \n",
    "                           height_ratios=[2, 2], \n",
    "                           wspace=0.2, hspace=0.2)\n",
    "\n",
    "for direction, position in zip(['deimmunize', 'immunize'], [0, 1]):\n",
    "    dots_packs = [f'CAPE-XVAE.baseline.clean', \n",
    "                  f'CAPE-XVAE.{direction}.final', \n",
    "                  f'CAPE-Packer.baseline.final',\n",
    "                  f'CAPE-Packer.{direction}.final']\n",
    "    all_axes.append(plot_TSNE_kde(direction, df_eval, 'data', dots_packs, gs[0, position], font_scale=font_scale))\n",
    "    \n",
    "all_axes.append(plot_avg_dissimilarity_boxplots('Average dissimilarity', df_eval, \n",
    "                    dissimilarity_src_packs, dissimilarity_tgt_packs, \n",
    "                    1500, gs[1,:], font_scale=font_scale))\n",
    "\n",
    "labels = [f'{c})' for c in string.ascii_lowercase]\n",
    "for i, ax in enumerate(all_axes):\n",
    "    ax.text(-0., 1.08, labels[i], transform=ax.transAxes,\n",
    "            fontsize=16*font_scale, fontweight='bold', va='top', ha='right') #, color='red')\n",
    "\n",
    "if save_figures:\n",
    "    fig.savefig(kit.path.join(G.ENV.ARTEFACTS, \"figures\", G.DOMAIN, f\"Figure_A.pdf\"), bbox_inches='tight')"
   ]
  },
  {
   "cell_type": "markdown",
   "id": "321db8bb-4e8b-46a0-9aa9-2b03001705c8",
   "metadata": {},
   "source": [
    "### Figure B - Visibility and Similarity"
   ]
  },
  {
   "cell_type": "code",
   "execution_count": 57,
   "id": "7c0283d7-7418-4e68-8312-38db9d295a83",
   "metadata": {},
   "outputs": [
    {
     "data": {
      "image/png": "[encoded data removed]",
      "text/plain": [
       "<Figure size 827x935.2 with 14 Axes>"
      ]
     },
     "metadata": {},
     "output_type": "display_data"
    }
   ],
   "source": [
    "font_scale=9/12\n",
    "fig = plt.figure(figsize=(A4_width, A4_height*0.8))\n",
    "all_axes = []\n",
    "gs = mpl.gridspec.GridSpec(3, 2, \n",
    "                           width_ratios=[1, 1], \n",
    "                           height_ratios=[1, 1, 1], \n",
    "                           wspace=0.2, hspace=0.2)\n",
    "\n",
    "\n",
    "\n",
    "all_axes.append(plot_boxplots(\"Visibility\", \n",
    "                              df_eval, \n",
    "                              \"visibility\", \n",
    "                              [\"support\", source_xvae, source_packer], gs[0, 0], font_scale))\n",
    "all_axes.append(plot_kmer_similarity(df_eval, [\n",
    "    \"support\", \n",
    "    \"CAPE-XVAE.baseline.clean\", \"CAPE-XVAE.deimmunize.final\", \"CAPE-XVAE.immunize.final\",\n",
    "    \"CAPE-Packer.baseline.final\", \"CAPE-Packer.deimmunize.final\", \"CAPE-Packer.immunize.final\"\n",
    "    ], kmer_similarity_lengths, gs[0, 1], font_scale))\n",
    "\n",
    "all_axes.append(plot_kmer_similarity_box(df_eval, f\"{source_xvae}.deimmunize.final\", kmer_similarity_lengths, 0.005, gs[1, 0], font_scale))\n",
    "all_axes.append(plot_kmer_similarity_box(df_eval, f\"{source_xvae}.immunize.final\", kmer_similarity_lengths, 0.005, gs[1, 1], font_scale))\n",
    "\n",
    "all_axes.append(plot_boxplots(\"TM Score\", \n",
    "                              df_eval.rename(columns={\"max_TMscore\": \"TMscore\"}), \n",
    "                              \"TMscore\", \n",
    "                              [\"support\", source_xvae, source_packer], gs[2, :], font_scale))\n",
    "\n",
    "labels = [f'{c})' for c in string.ascii_lowercase]\n",
    "for i, ax in enumerate(all_axes):\n",
    "    ax.text(-0., 1.08, labels[i], transform=ax.transAxes,\n",
    "            fontsize=16*font_scale, fontweight='bold', va='top', ha='right') #, color='red')\n",
    "\n",
    "if save_figures:\n",
    "    fig.savefig(kit.path.join(G.ENV.ARTEFACTS, \"figures\", G.DOMAIN, f\"Figure_B.pdf\"), bbox_inches='tight')"
   ]
  },
  {
   "cell_type": "markdown",
   "id": "33fafac4-d440-4031-ab7c-1f1d5b6dce7b",
   "metadata": {},
   "source": [
    "### Figure C - dependence on visibility"
   ]
  },
  {
   "cell_type": "code",
   "execution_count": 58,
   "id": "22741108-4487-4c58-b5b6-3b2aef98f227",
   "metadata": {},
   "outputs": [
    {
     "data": {
      "image/png": "[encoded data removed]",
      "text/plain": [
       "<Figure size 827x935.2 with 24 Axes>"
      ]
     },
     "metadata": {},
     "output_type": "display_data"
    }
   ],
   "source": [
    "packs_vs_vis = [\n",
    "    \"CAPE-XVAE.baseline.clean\", \"CAPE-XVAE.deimmunize.final\", \"CAPE-XVAE.immunize.final\",\n",
    "    \"CAPE-Packer.baseline.final\", \"CAPE-Packer.deimmunize.final\", \"CAPE-Packer.immunize.final\"\n",
    "]\n",
    "\n",
    "fig = plt.figure(figsize=(A4_width, A4_height*0.8))\n",
    "gs = mpl.gridspec.GridSpec(4, 2 + len(packs_vs_vis), \n",
    "                           width_ratios=[10, 1] + [1] * len(packs_vs_vis), height_ratios=[4,4,4,1],\n",
    "                           wspace=0., hspace=0.2)\n",
    "\n",
    "ax_sharex = plot_vs_visibility(df_eval, \"support\", packs_vs_vis, \"9mer_similarity\", \"9-mer similarity\", gs[0, :])\n",
    "plot_vs_visibility(df_eval, \"support\", packs_vs_vis, \"max_TMscore\", \"TM score\", gs[1, :], ax_sharex=ax_sharex)\n",
    "plot_vs_visibility(df_eval, \"support\", packs_vs_vis, \"md_max_rmsd\", \"max MD-RMSD\", gs[2, :], ax_sharex=ax_sharex, ylim=5., xlabel_boxplots=True)\n",
    "\n",
    "ax1 = plt.subplot(gs[3,0], sharex=ax_sharex)\n",
    "# ax1.set_title(\"Data visibility distribution\")\n",
    "sns.boxplot(ax=ax1, data=df_eval.query(\"source == 'natural'\"), x=\"visibility\", y=\"source\", palette=palettes['source'])\n",
    "ax1.set_ylabel('')\n",
    "\n",
    "if save_figures:\n",
    "    fig.savefig(kit.path.join(G.ENV.ARTEFACTS, \"figures\", G.DOMAIN, f\"Figure_C.pdf\"), bbox_inches='tight')"
   ]
  },
  {
   "cell_type": "markdown",
   "id": "ea6b5724-9c62-49c7-b208-d1d1dfd18783",
   "metadata": {},
   "source": [
    "### Figure D"
   ]
  },
  {
   "cell_type": "markdown",
   "id": "4ef12aca-795a-4d6c-8462-9cca759abf1d",
   "metadata": {},
   "source": [
    "#### find highly visible natural, XVAE and Packer sequences"
   ]
  },
  {
   "cell_type": "code",
   "execution_count": 60,
   "id": "82fdee06-f24a-4143-ba4e-b81197f06b1e",
   "metadata": {},
   "outputs": [
    {
     "name": "stdout",
     "output_type": "stream",
     "text": [
      "The 99.50%-centile threshold is 107.0 - (127 natural proteins)\n",
      "There are 6 XVAE immunized seq with a max_TMscore > 0.95 above this\n",
      "There are 0 Packer immunized seq with a max_TMscore > 0.95 above this\n"
     ]
    }
   ],
   "source": [
    "df_natural_high_visibility = df_eval.query(f\"source == 'natural' and visibility >= {immunize_visibility_threshold}\").sort_values('visibility', ascending=True)\n",
    "print(f\"The {immunize_visibility_percentile:.2%}-centile threshold is {immunize_visibility_threshold} - ({len(df_natural_high_visibility)} natural proteins)\")\n",
    "\n",
    "df_XVAE_high_visibility = df_eval.query(f\"pack == '{source_xvae}.immunize.final' and visibility >= {immunize_visibility_threshold} and max_TMscore > 0.95\").sort_values('visibility', ascending=True)\n",
    "print(f\"There are {len(df_XVAE_high_visibility)} XVAE immunized seq with a max_TMscore > 0.95 above this\")\n",
    "\n",
    "df_Packer_high_visibility = df_eval.query(f\"pack == '{source_packer}.immunize.final' and visibility >= {immunize_visibility_threshold} and max_TMscore > 0.95\").sort_values('visibility', ascending=True)\n",
    "print(f\"There are {len(df_Packer_high_visibility)} Packer immunized seq with a max_TMscore > 0.95 above this\")"
   ]
  },
  {
   "cell_type": "markdown",
   "id": "8d5f557d-f261-41f8-b8d4-cbb092d87adf",
   "metadata": {},
   "source": [
    "#### add recall and precisoin values"
   ]
  },
  {
   "cell_type": "code",
   "execution_count": null,
   "id": "e9ec015f-d9e7-4954-9941-5f1023347a47",
   "metadata": {},
   "outputs": [
    {
     "name": "stdout",
     "output_type": "stream",
     "text": [
      "2023-10-19 13:17:55:  Add recall and precision values to all sequences\n",
      "7 Visibility: 107.0  Length: 211         "
     ]
    }
   ],
   "source": [
    "log_info(\"Add recall and precision values to all sequences\")\n",
    "cnt = 0\n",
    "for df_high_visibility in [df_natural_high_visibility, df_XVAE_high_visibility]:\n",
    "    for idx, row in df_high_visibility.iterrows():\n",
    "        selected_sequence = db.get_sequence(seq_hash=row.seq_hash)\n",
    "        selected_seq = selected_sequence['seq']\n",
    "\n",
    "        df_selected = predictor_MHC_I.get_seq_kmers(selected_seq, MHCs, 9)\n",
    "        print(f'\\r{cnt} Visibility: {row.visibility}  Length: {len(selected_seq)}         ', end='', flush=True)\n",
    "        \n",
    "        add_recall(df_eval, df_selected, predictor_MHC_I, MHCs)\n",
    "        add_precision(df_eval, df_selected)\n",
    "        df_eval = df_eval.copy()\n",
    "        cnt += 1\n",
    "log_info(\"\")"
   ]
  },
  {
   "cell_type": "code",
   "execution_count": null,
   "id": "5eef4b7a-dcd6-47d2-bad7-622cac1c5fe5",
   "metadata": {},
   "outputs": [],
   "source": [
    "selected = df_XVAE_high_visibility.sort_values('visibility', ascending=True).iloc[0]\n",
    "print(f'Visibility: {selected.visibility}  TMscore: {selected.max_TMscore}')\n",
    "print(selected.seq)\n",
    "selected_sequence = db.get_sequence(seq_hash=selected.seq_hash)\n",
    "nb_pred = df_eval.query(f\"seq_hash == '{selected.seq_hash}'\").iloc[0].nb_pred\n",
    "df_selected_XVAE = predictor_MHC_I.get_seq_kmers(selected_sequence['seq'], MHCs, 9)\n",
    "add_precision_to_seq_kmers(df_selected_XVAE, natural_kmers_data)\n",
    "# add_precision_to_seq_kmers_alt(df_selected_XVAE, df_eval)"
   ]
  },
  {
   "cell_type": "code",
   "execution_count": null,
   "id": "1a44aff0-03df-4023-975a-4bd84b68126b",
   "metadata": {},
   "outputs": [],
   "source": [
    "selected = df_natural_high_visibility.sort_values('visibility', ascending=True).iloc[0]\n",
    "print(f'Visibility: {selected.visibility}  TMscore: {selected.max_TMscore}')\n",
    "print(selected.seq)\n",
    "selected_sequence = db.get_sequence(seq_hash=selected.seq_hash)\n",
    "df_selected_natural = predictor_MHC_I.get_seq_kmers(selected_sequence['seq'], MHCs, 9)\n",
    "add_precision_to_seq_kmers(df_selected_natural, natural_kmers_data, consider_one=True)\n",
    "# add_precision_to_seq_kmers_alt(df_selected_natural, df_eval)"
   ]
  },
  {
   "cell_type": "markdown",
   "id": "81030db0-af6c-4541-8799-87cad7a94813",
   "metadata": {},
   "source": [
    "#### plot figure"
   ]
  },
  {
   "cell_type": "code",
   "execution_count": null,
   "id": "c601dcd3-afe9-468b-ae69-4b19b74ba9c2",
   "metadata": {},
   "outputs": [],
   "source": [
    "def plot_immunized_seqs(df_eval, d_df_selected):\n",
    "    fig = plt.figure(figsize=(A4_width, A4_height/2))\n",
    "    gs = mpl.gridspec.GridSpec(\n",
    "        1 + len(d_df_selected), \n",
    "        len(d_df_selected) + 1, \n",
    "        height_ratios=[2] + [1]*len(d_df_selected), \n",
    "        width_ratios=[1]*len(d_df_selected) + [1],\n",
    "        wspace=0.1, hspace=0.3)\n",
    "\n",
    "    all_axes = []\n",
    "    for idx, (source, df_selected) in enumerate(d_df_selected.items()):\n",
    "        ax = plot_seq_epitopes(gs[0, idx], df_selected, legend=(idx < 1), title=f\"{source}\\n\")\n",
    "        offset = -0.4 if idx == 0 else 0\n",
    "        all_axes.append((ax, offset))\n",
    "\n",
    "    ax = plot_seqs_precision_bar(gs[0, -1], d_df_selected, font_scale=0.6, kind='bar')\n",
    "    all_axes.append((ax, -0.05))\n",
    "\n",
    "    for idx, (source, df_selected) in enumerate(d_df_selected.items()):\n",
    "        ax = plot_epitope_recall_by_seq(gs[1 + idx, :], predictor_MHC_I, \n",
    "            df_eval.query(f'source == \"natural\" and seq_hash != \"{df_selected.seq_hash}\"'), \n",
    "            df_selected.seq_hash)\n",
    "        ax.set_xlim(0.0, 1.0)\n",
    "\n",
    "        if idx != 0:\n",
    "            ax.set_title('')\n",
    "        \n",
    "        if idx != (len(d_df_selected) - 1):\n",
    "            ax.set_xlabel('')\n",
    "            ax.set_xticklabels([])\n",
    "        ax.set_ylabel(f\"{source} recall in \\n{ax.get_ylabel()}\")\n",
    "        all_axes.append((ax, -0.13))\n",
    "\n",
    "    labels = [f'{c})' for c in string.ascii_lowercase]\n",
    "    for i, (ax, x_offset) in enumerate(all_axes):\n",
    "        ax.text(x_offset, 1.2, labels[i], transform=ax.transAxes,\n",
    "                fontsize=16*font_scale, fontweight='bold', va='top', ha='right') #, color='red')\n",
    "\n",
    "    return fig"
   ]
  },
  {
   "cell_type": "code",
   "execution_count": null,
   "id": "4a3f1cee-3048-40bd-a3c6-8104dde4bfbe",
   "metadata": {},
   "outputs": [],
   "source": [
    "fig = plot_immunized_seqs(df_eval, {'natural': df_selected_natural, 'XVAE': df_selected_XVAE})\n",
    "fig.savefig(kit.path.join(G.ENV.ARTEFACTS, \"figures\", G.DOMAIN, f\"Figure_E_XVAE_natural.pdf\"), bbox_inches='tight')"
   ]
  },
  {
   "cell_type": "markdown",
   "id": "1c6d4f20-24e4-42a0-b680-4a9b3bfc0f38",
   "metadata": {},
   "source": [
    "#### Recall metrics "
   ]
  },
  {
   "cell_type": "code",
   "execution_count": null,
   "id": "0af60a4e-1764-42b4-a932-6eb43544bc72",
   "metadata": {},
   "outputs": [],
   "source": [
    "result = []\n",
    "res = calc_recall_metrics(df_eval, df_selected_XVAE.seq_hash)\n",
    "result.append(pd.Series(data=[res['mean_recall'], res['no_recall']], index=['mean', 'no'], name='selected XVAE'))\n",
    "res = calc_recall_metrics(df_eval, df_selected_natural.seq_hash)\n",
    "result.append(pd.Series(data=[res['mean_recall'], res['no_recall']], index=['mean', 'no'], name='selected natural'))\n",
    "res = calc_recall_metrics(df_eval, list(df_XVAE_high_visibility.seq_hash))\n",
    "result.append(pd.Series(data=[res['mean_recall'], res['no_recall']], index=['mean', 'no'], name='all XVAE'))\n",
    "res = calc_recall_metrics(df_eval, list(df_natural_high_visibility.seq_hash))\n",
    "result.append(pd.Series(data=[res['mean_recall'], res['no_recall']], index=['mean', 'no'], name='all natural'))"
   ]
  },
  {
   "cell_type": "code",
   "execution_count": null,
   "id": "eab6d159-ac77-46c1-95ed-d250a4ef3cc0",
   "metadata": {},
   "outputs": [],
   "source": [
    "print(pd.DataFrame(result))"
   ]
  },
  {
   "cell_type": "markdown",
   "id": "067a98c0-aa58-4076-8780-c0c64c5a1cbe",
   "metadata": {},
   "source": [
    "### Figure E - phylogenetic Tree"
   ]
  },
  {
   "cell_type": "code",
   "execution_count": null,
   "id": "7b43dd78-1c93-4956-b882-30fee01e6e1e",
   "metadata": {},
   "outputs": [],
   "source": [
    "min_occupancy = 0.8\n",
    "\n",
    "msa_phylo_packs = ['support']\n",
    "\n",
    "sf = SequenceFrame()\n",
    "sf.from_seqs(list(df_eval.query(f\"\"\"pack in ['{\"', '\".join(msa_phylo_packs)}']\"\"\").seq))\n",
    "\n",
    "msa_phylo = MultipleSequenceAligner(sf, phylogenetic_tree_model_name = 'raxml')\n",
    "msa_phylo.msa_annotations = {}\n",
    "for seq_hash in sf.seq_hash:\n",
    "    recall_natural = df_eval.query(f\"seq_hash == '{seq_hash}'\").iloc[0][f'recall_{df_selected_natural.seq_hash}']\n",
    "    recall_XVAE = df_eval.query(f\"seq_hash == '{seq_hash}'\").iloc[0][f'recall_{df_selected_XVAE.seq_hash}']\n",
    "    precision_natural = df_eval.query(f\"seq_hash == '{seq_hash}'\").iloc[0][f'precision_{df_selected_natural.seq_hash}']\n",
    "    precision_XVAE = df_eval.query(f\"seq_hash == '{seq_hash}'\").iloc[0][f'precision_{df_selected_XVAE.seq_hash}']\n",
    "    msa_phylo.msa_annotations[seq_hash] = \\\n",
    "        f'_RECALL_natural_{recall_natural:.4f}_XVAE_{recall_XVAE:.4f}' + \\\n",
    "        f'_PRECISION_natural_{precision_natural:.4f}_XVAE_{precision_XVAE:.4f}'\n",
    "\n",
    "msa_phylo.align(msa_file_path=join(G.ENV.ARTEFACTS, 'phylo', G.DOMAIN, 'support.phy'))\n",
    "\n",
    "#msa_phylo.calculate_occupancy()\n",
    "#msa_phylo.set_occupancy_threshold(min_occupancy)\n",
    "msa_phylo.construct_phylogenetic_tree()"
   ]
  },
  {
   "cell_type": "markdown",
   "id": "796490ec-3135-4ffb-a853-38e05f0d388e",
   "metadata": {},
   "source": [
    "### Figure F - alternatives"
   ]
  },
  {
   "cell_type": "code",
   "execution_count": null,
   "id": "7c66860d-3d93-4784-8b94-54643f8ad41a",
   "metadata": {},
   "outputs": [],
   "source": [
    "def plot_immunized_seqs_new(df_eval, d_df_selected):\n",
    "    fig = plt.figure(figsize=(A4_width, A4_height*3/4))\n",
    "    gs = mpl.gridspec.GridSpec(\n",
    "        1 + len(d_df_selected), \n",
    "        2, \n",
    "        height_ratios=[1] + [1]*len(d_df_selected), \n",
    "        width_ratios=[1, 1],\n",
    "        wspace=0.1, hspace=0.3)\n",
    "\n",
    "    all_axes = []\n",
    "    for idx, (source, df_selected) in enumerate(d_df_selected.items()):\n",
    "        ax = plot_seq_epitopes(gs[idx, 0], df_selected, legend=(idx < 1), title=f\"{source}\\n\")\n",
    "        offset = -0.4 if idx == 0 else 0\n",
    "        all_axes.append((ax, offset))\n",
    "\n",
    "    ax = plot_seqs_precision_bar(gs[-1, :], d_df_selected, font_scale=0.6, kind='bar')\n",
    "    all_axes.append((ax, -0.05))\n",
    "\n",
    "    for idx, (source, df_selected) in enumerate(d_df_selected.items()):\n",
    "        ax = plot_epitope_recall_by_seq(gs[idx, 1], predictor_MHC_I, \n",
    "            df_eval.query(f'source == \"natural\" and seq_hash != \"{df_selected.seq_hash}\"'), \n",
    "            df_selected.seq_hash)\n",
    "        ax.set_xlim(0.0, 1.0)\n",
    "\n",
    "        if idx != 0:\n",
    "            ax.set_title('')\n",
    "        \n",
    "        if idx != (len(d_df_selected) - 1):\n",
    "            ax.set_xlabel('')\n",
    "            ax.set_xticklabels([])\n",
    "        ax.set_ylabel(f\"{source} recall in \\n{ax.get_ylabel()}\")\n",
    "        all_axes.append((ax, -0.13))\n",
    "\n",
    "    labels = [f'{c})' for c in string.ascii_lowercase]\n",
    "    for i, (ax, x_offset) in enumerate(all_axes):\n",
    "        ax.text(x_offset, 1.2, labels[i], transform=ax.transAxes,\n",
    "                fontsize=16*font_scale, fontweight='bold', va='top', ha='right') #, color='red')\n",
    "\n",
    "    return fig"
   ]
  },
  {
   "cell_type": "code",
   "execution_count": null,
   "id": "f1173e16-4697-4df4-b559-bc69e5a2f4f3",
   "metadata": {},
   "outputs": [],
   "source": [
    "fig = plot_immunized_seqs_new(df_eval, {'natural': df_selected_natural, 'XVAE': df_selected_XVAE})\n",
    "#fig.savefig(kit.path.join(G.ENV.ARTEFACTS, \"figures\", G.DOMAIN, f\"Figure_E_XVAE_natural.pdf\"), bbox_inches='tight')"
   ]
  },
  {
   "cell_type": "code",
   "execution_count": null,
   "id": "6d1b322e-e909-48b5-bd79-b8793a5013ab",
   "metadata": {},
   "outputs": [],
   "source": [
    "def plot_immunized_seq(df_eval, df_selected, xlim=None):\n",
    "    fig = plt.figure(figsize=(A4_width, A4_height/2))\n",
    "    gs = mpl.gridspec.GridSpec(2, 2, width_ratios=[10, 10], height_ratios=[2, 1], wspace=0.1, hspace=0.3)\n",
    "\n",
    "    ax_seq_epitopes = plot_seq_epitopes(gs[0,0], df_selected)\n",
    "    ax_precision_pie = plot_seq_precision_pie(gs[0,1], df_selected)\n",
    "    ax_recall = plot_epitope_recall_by_seq(gs[1,:], predictor_MHC_I, \n",
    "        df_eval.query(f'source == \"natural\" and seq_hash != \"{df_selected.seq_hash}\"'), \n",
    "        df_selected.seq_hash)\n",
    "    if xlim is not None:\n",
    "        ax_recall.set_xlim(0.0, xlim)\n",
    "\n",
    "    all_axes = [(ax_seq_epitopes, -0.4), (ax_precision_pie, -0.1), (ax_recall, -0.13)]\n",
    "    labels = [f'{c})' for c in string.ascii_lowercase]\n",
    "    for i, (ax, x_offset) in enumerate(all_axes):\n",
    "        ax.text(x_offset, 1.2, labels[i], transform=ax.transAxes,\n",
    "                fontsize=16*font_scale, fontweight='bold', va='top', ha='right') #, color='red')\n",
    "    return fig"
   ]
  },
  {
   "cell_type": "code",
   "execution_count": null,
   "id": "e97c549e-e152-4fd5-9bf0-ef1f1cfd6df1",
   "metadata": {},
   "outputs": [],
   "source": [
    "fig = plot_immunized_seq(df_eval, df_selected_XVAE, xlim=1.)\n",
    "fig.savefig(kit.path.join(G.ENV.ARTEFACTS, \"figures\", G.DOMAIN, f\"Figure_E_XVAE.pdf\"), bbox_inches='tight')"
   ]
  },
  {
   "cell_type": "code",
   "execution_count": null,
   "id": "02a8480c-ec97-4954-aa7c-6a7ed72363b1",
   "metadata": {},
   "outputs": [],
   "source": [
    "fig = plot_immunized_seq(df_eval, df_selected_natural, xlim=1.)\n",
    "fig.savefig(kit.path.join(G.ENV.ARTEFACTS, \"figures\", G.DOMAIN, f\"Figure_E_natural.pdf\"), bbox_inches='tight')"
   ]
  },
  {
   "cell_type": "markdown",
   "id": "a88bacd2",
   "metadata": {},
   "source": [
    "# save df_for_eval"
   ]
  },
  {
   "cell_type": "code",
   "execution_count": null,
   "id": "6869efe4",
   "metadata": {},
   "outputs": [],
   "source": [
    "df_eval.to_csv(os.path.join(G.ENV.ARTEFACTS, \"df_eval.csv\"))"
   ]
  },
  {
   "cell_type": "markdown",
   "id": "c7d88a66",
   "metadata": {},
   "source": [
    "# Close DB"
   ]
  },
  {
   "cell_type": "code",
   "execution_count": null,
   "id": "23a8cd70",
   "metadata": {},
   "outputs": [],
   "source": [
    "db.conn.close()"
   ]
  },
  {
   "cell_type": "markdown",
   "id": "d9975b91",
   "metadata": {},
   "source": [
    "# pymol"
   ]
  },
  {
   "cell_type": "code",
   "execution_count": null,
   "id": "8ade9a1e",
   "metadata": {},
   "outputs": [],
   "source": [
    "import py3Dmol\n",
    "from CAPE.RL.reward import rewards_seqs"
   ]
  },
  {
   "cell_type": "code",
   "execution_count": null,
   "id": "cf1493a3",
   "metadata": {},
   "outputs": [],
   "source": [
    "seq_hash_support = df_eval.query(f\"source == 'support'\").seq_hash.iloc[0]\n",
    "print(f\"Suppoprt: {seq_hash_support}\")\n",
    "seq_hash_di = df_eval.sort_values(by=['visibility'], ascending=True).iloc[0].seq_hash\n",
    "print(f\"Suppoprt: {seq_hash_di}\")"
   ]
  },
  {
   "cell_type": "code",
   "execution_count": null,
   "id": "ebce0595",
   "metadata": {},
   "outputs": [],
   "source": [
    "def view_structure(seq_hash):\n",
    "    fasta_file_path = db.get_fasta_file_path(seq_hash)\n",
    "    pdb_file_path = db.get_pdb_file_path(seq_hash)\n",
    "    png_file_path = join(G.ENV.ARTEFACTS, 'rendered_structures', f\"{seq_hash}_{db.predictor_structure_name}.png\")\n",
    "   \n",
    "    with open(pdb_file_path) as ifile:\n",
    "        system = \"\".join([x for x in ifile])\n",
    "   \n",
    "    sequence = kit.bioinf.fasta.read_fasta(fasta_file_path, return_df=True).index[0]\n",
    "    rewards = rewards_seqs(db.predictors_MHC_I[predictor_MHC_I_name], [sequence], MHCs, 'immunize')[0].astype('int')\n",
    "\n",
    "    view = py3Dmol.view(width=800, height=800)\n",
    "    view.addModelsAsFrames(system)\n",
    "\n",
    "    colors = [\n",
    "        '#22FFFF',\n",
    "        '#44BBBB',\n",
    "        '#669999',\n",
    "        '#887777',\n",
    "        '#AA5555',\n",
    "        '#CC3333',\n",
    "        '#EE1111',\n",
    "    ]\n",
    "\n",
    "    i = 0\n",
    "    for line in system.split(\"\\n\"):\n",
    "        split = line.split()\n",
    "\n",
    "        if len(split) == 0 or split[0] != \"ATOM\":\n",
    "            continue\n",
    "\n",
    "        resid = int(split[5])\n",
    "        if rewards[resid-1] != 0:\n",
    "            color = colors[rewards[resid-1]]\n",
    "            idx = int(split[1])\n",
    "\n",
    "            view.setStyle({'model': -1, 'serial': i+1}, {\"sphere\": {'color': color}})\n",
    "        else:\n",
    "            view.setStyle({'model': -1, 'serial': i+1}, {\"cartoon\": {}})\n",
    "        i += 1\n",
    "\n",
    "    view.zoomTo()\n",
    "    view.show()\n",
    "    view.render(filename=png_file_path)\n",
    "    print(png_file_path)"
   ]
  },
  {
   "cell_type": "code",
   "execution_count": null,
   "id": "36ea6d23",
   "metadata": {},
   "outputs": [],
   "source": [
    "view_structure(seq_hash_support)"
   ]
  },
  {
   "cell_type": "code",
   "execution_count": null,
   "id": "8180491f",
   "metadata": {},
   "outputs": [],
   "source": [
    "view_structure(seq_hash_di)"
   ]
  },
  {
   "cell_type": "code",
   "execution_count": null,
   "id": "6312d7a8-ef29-4b30-b8da-54c8206faae0",
   "metadata": {},
   "outputs": [],
   "source": []
  }
 ],
 "metadata": {
  "kernelspec": {
   "display_name": "Python 3 (ipykernel)",
   "language": "python",
   "name": "python3"
  },
  "language_info": {
   "codemirror_mode": {
    "name": "ipython",
    "version": 3
   },
   "file_extension": ".py",
   "mimetype": "text/x-python",
   "name": "python",
   "nbconvert_exporter": "python",
   "pygments_lexer": "ipython3",
   "version": "3.10.12"
  },
  "toc": {
   "base_numbering": 1,
   "nav_menu": {},
   "number_sections": true,
   "sideBar": true,
   "skip_h1_title": false,
   "title_cell": "Table of Contents",
   "title_sidebar": "Contents",
   "toc_cell": false,
   "toc_position": {
    "height": "calc(100% - 180px)",
    "left": "10px",
    "top": "150px",
    "width": "339px"
   },
   "toc_section_display": true,
   "toc_window_display": true
  }
 },
 "nbformat": 4,
 "nbformat_minor": 5
}
